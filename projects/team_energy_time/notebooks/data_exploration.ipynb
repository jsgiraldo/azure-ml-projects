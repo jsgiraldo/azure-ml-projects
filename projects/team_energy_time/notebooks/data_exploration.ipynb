{
 "cells": [
  {
   "cell_type": "markdown",
   "metadata": {},
   "source": [
    "# Exploración de Datos\n"
   ]
  },
  {
   "cell_type": "code",
   "execution_count": 1,
   "metadata": {},
   "outputs": [],
   "source": [
    "import pandas as pd\n",
    "import numpy as np\n",
    "import matplotlib.pyplot as plt\n",
    "import seaborn as sns\n",
    "import plotly.express as px\n",
    "import plotly.graph_objects as go\n",
    "\n",
    "data_dir = '../data/raw/'"
   ]
  },
  {
   "cell_type": "code",
   "execution_count": 2,
   "metadata": {},
   "outputs": [],
   "source": [
    "# Cargar los datos\n",
    "train = pd.read_csv(data_dir + 'train.csv')\n",
    "client = pd.read_csv(data_dir + 'client.csv')\n",
    "electricity_prices = pd.read_csv(data_dir + 'electricity_prices.csv')\n",
    "forecast_weather = pd.read_csv(data_dir + 'forecast_weather.csv')\n",
    "gas_prices = pd.read_csv(data_dir + 'gas_prices.csv')\n",
    "historical_weather = pd.read_csv(data_dir + 'historical_weather.csv')\n",
    "weather_station_to_county_mapping = pd.read_csv(data_dir + 'weather_station_to_county_mapping.csv')"
   ]
  },
  {
   "cell_type": "code",
   "execution_count": 3,
   "metadata": {},
   "outputs": [],
   "source": [
    "# Revisar las primeras filas de cada dataframe\n",
    "train_head = train.head()\n",
    "gas_prices_head = gas_prices.head()\n",
    "client_head = client.head()\n",
    "electricity_prices_head = electricity_prices.head()\n",
    "forecast_weather_head = forecast_weather.head()\n",
    "historical_weather_head = historical_weather.head()"
   ]
  },
  {
   "cell_type": "code",
   "execution_count": 4,
   "metadata": {},
   "outputs": [
    {
     "name": "stdout",
     "output_type": "stream",
     "text": [
      "<class 'pandas.core.frame.DataFrame'>\n",
      "RangeIndex: 2018352 entries, 0 to 2018351\n",
      "Data columns (total 9 columns):\n",
      " #   Column              Dtype  \n",
      "---  ------              -----  \n",
      " 0   county              int64  \n",
      " 1   is_business         int64  \n",
      " 2   product_type        int64  \n",
      " 3   target              float64\n",
      " 4   is_consumption      int64  \n",
      " 5   datetime            object \n",
      " 6   data_block_id       int64  \n",
      " 7   row_id              int64  \n",
      " 8   prediction_unit_id  int64  \n",
      "dtypes: float64(1), int64(7), object(1)\n",
      "memory usage: 138.6+ MB\n",
      "<class 'pandas.core.frame.DataFrame'>\n",
      "RangeIndex: 637 entries, 0 to 636\n",
      "Data columns (total 5 columns):\n",
      " #   Column                 Non-Null Count  Dtype  \n",
      "---  ------                 --------------  -----  \n",
      " 0   forecast_date          637 non-null    object \n",
      " 1   lowest_price_per_mwh   637 non-null    float64\n",
      " 2   highest_price_per_mwh  637 non-null    float64\n",
      " 3   origin_date            637 non-null    object \n",
      " 4   data_block_id          637 non-null    int64  \n",
      "dtypes: float64(2), int64(1), object(2)\n",
      "memory usage: 25.0+ KB\n",
      "<class 'pandas.core.frame.DataFrame'>\n",
      "RangeIndex: 41919 entries, 0 to 41918\n",
      "Data columns (total 7 columns):\n",
      " #   Column              Non-Null Count  Dtype  \n",
      "---  ------              --------------  -----  \n",
      " 0   product_type        41919 non-null  int64  \n",
      " 1   county              41919 non-null  int64  \n",
      " 2   eic_count           41919 non-null  int64  \n",
      " 3   installed_capacity  41919 non-null  float64\n",
      " 4   is_business         41919 non-null  int64  \n",
      " 5   date                41919 non-null  object \n",
      " 6   data_block_id       41919 non-null  int64  \n",
      "dtypes: float64(1), int64(5), object(1)\n",
      "memory usage: 2.2+ MB\n",
      "<class 'pandas.core.frame.DataFrame'>\n",
      "RangeIndex: 15286 entries, 0 to 15285\n",
      "Data columns (total 4 columns):\n",
      " #   Column         Non-Null Count  Dtype  \n",
      "---  ------         --------------  -----  \n",
      " 0   forecast_date  15286 non-null  object \n",
      " 1   euros_per_mwh  15286 non-null  float64\n",
      " 2   origin_date    15286 non-null  object \n",
      " 3   data_block_id  15286 non-null  int64  \n",
      "dtypes: float64(1), int64(1), object(2)\n",
      "memory usage: 477.8+ KB\n",
      "<class 'pandas.core.frame.DataFrame'>\n",
      "RangeIndex: 3424512 entries, 0 to 3424511\n",
      "Data columns (total 18 columns):\n",
      " #   Column                             Dtype  \n",
      "---  ------                             -----  \n",
      " 0   latitude                           float64\n",
      " 1   longitude                          float64\n",
      " 2   origin_datetime                    object \n",
      " 3   hours_ahead                        int64  \n",
      " 4   temperature                        float64\n",
      " 5   dewpoint                           float64\n",
      " 6   cloudcover_high                    float64\n",
      " 7   cloudcover_low                     float64\n",
      " 8   cloudcover_mid                     float64\n",
      " 9   cloudcover_total                   float64\n",
      " 10  10_metre_u_wind_component          float64\n",
      " 11  10_metre_v_wind_component          float64\n",
      " 12  data_block_id                      int64  \n",
      " 13  forecast_datetime                  object \n",
      " 14  direct_solar_radiation             float64\n",
      " 15  surface_solar_radiation_downwards  float64\n",
      " 16  snowfall                           float64\n",
      " 17  total_precipitation                float64\n",
      "dtypes: float64(14), int64(2), object(2)\n",
      "memory usage: 470.3+ MB\n",
      "<class 'pandas.core.frame.DataFrame'>\n",
      "RangeIndex: 1710802 entries, 0 to 1710801\n",
      "Data columns (total 18 columns):\n",
      " #   Column                  Dtype  \n",
      "---  ------                  -----  \n",
      " 0   datetime                object \n",
      " 1   temperature             float64\n",
      " 2   dewpoint                float64\n",
      " 3   rain                    float64\n",
      " 4   snowfall                float64\n",
      " 5   surface_pressure        float64\n",
      " 6   cloudcover_total        int64  \n",
      " 7   cloudcover_low          int64  \n",
      " 8   cloudcover_mid          int64  \n",
      " 9   cloudcover_high         int64  \n",
      " 10  windspeed_10m           float64\n",
      " 11  winddirection_10m       int64  \n",
      " 12  shortwave_radiation     float64\n",
      " 13  direct_solar_radiation  float64\n",
      " 14  diffuse_radiation       float64\n",
      " 15  latitude                float64\n",
      " 16  longitude               float64\n",
      " 17  data_block_id           float64\n",
      "dtypes: float64(12), int64(5), object(1)\n",
      "memory usage: 234.9+ MB\n"
     ]
    }
   ],
   "source": [
    "# Comprobar los tipos de datos y buscar valores nulos en cada conjunto de datos\n",
    "train_info = train.info()\n",
    "gas_prices_info = gas_prices.info()\n",
    "client_info = client.info()\n",
    "electricity_prices_info = electricity_prices.info()\n",
    "forecast_weather_info = forecast_weather.info()\n",
    "historical_weather_info = historical_weather.info()"
   ]
  },
  {
   "cell_type": "code",
   "execution_count": 5,
   "metadata": {},
   "outputs": [],
   "source": [
    "# Verificar valores nulos\n",
    "train_nulls = train.isnull().sum()\n",
    "gas_prices_nulls = gas_prices.isnull().sum()\n",
    "client_nulls = client.isnull().sum()\n",
    "electricity_prices_nulls = electricity_prices.isnull().sum()\n",
    "forecast_weather_nulls = forecast_weather.isnull().sum()\n",
    "historical_weather_nulls = historical_weather.isnull().sum()\n"
   ]
  },
  {
   "cell_type": "code",
   "execution_count": 6,
   "metadata": {},
   "outputs": [
    {
     "data": {
      "text/plain": [
       "(   county  is_business  product_type  target  is_consumption  \\\n",
       " 0       0            0             1   0.713               0   \n",
       " 1       0            0             1  96.590               1   \n",
       " 2       0            0             2   0.000               0   \n",
       " 3       0            0             2  17.314               1   \n",
       " 4       0            0             3   2.904               0   \n",
       " \n",
       "               datetime  data_block_id  row_id  prediction_unit_id  \n",
       " 0  2021-09-01 00:00:00              0       0                   0  \n",
       " 1  2021-09-01 00:00:00              0       1                   0  \n",
       " 2  2021-09-01 00:00:00              0       2                   1  \n",
       " 3  2021-09-01 00:00:00              0       3                   1  \n",
       " 4  2021-09-01 00:00:00              0       4                   2  ,\n",
       "   forecast_date  lowest_price_per_mwh  highest_price_per_mwh origin_date  \\\n",
       " 0    2021-09-01                 45.23                  46.32  2021-08-31   \n",
       " 1    2021-09-02                 45.62                  46.29  2021-09-01   \n",
       " 2    2021-09-03                 45.85                  46.40  2021-09-02   \n",
       " 3    2021-09-04                 46.30                  46.80  2021-09-03   \n",
       " 4    2021-09-05                 46.30                  46.58  2021-09-04   \n",
       " \n",
       "    data_block_id  \n",
       " 0              1  \n",
       " 1              2  \n",
       " 2              3  \n",
       " 3              4  \n",
       " 4              5  ,\n",
       "    product_type  county  eic_count  installed_capacity  is_business  \\\n",
       " 0             1       0        108              952.89            0   \n",
       " 1             2       0         17              166.40            0   \n",
       " 2             3       0        688             7207.88            0   \n",
       " 3             0       0          5              400.00            1   \n",
       " 4             1       0         43             1411.00            1   \n",
       " \n",
       "          date  data_block_id  \n",
       " 0  2021-09-01              2  \n",
       " 1  2021-09-01              2  \n",
       " 2  2021-09-01              2  \n",
       " 3  2021-09-01              2  \n",
       " 4  2021-09-01              2  ,\n",
       "          forecast_date  euros_per_mwh          origin_date  data_block_id\n",
       " 0  2021-09-01 00:00:00          92.51  2021-08-31 00:00:00              1\n",
       " 1  2021-09-01 01:00:00          88.90  2021-08-31 01:00:00              1\n",
       " 2  2021-09-01 02:00:00          87.35  2021-08-31 02:00:00              1\n",
       " 3  2021-09-01 03:00:00          86.88  2021-08-31 03:00:00              1\n",
       " 4  2021-09-01 04:00:00          88.43  2021-08-31 04:00:00              1,\n",
       "    latitude  longitude      origin_datetime  hours_ahead  temperature  \\\n",
       " 0      57.6       21.7  2021-09-01 02:00:00            1    15.655786   \n",
       " 1      57.6       22.2  2021-09-01 02:00:00            1    13.003931   \n",
       " 2      57.6       22.7  2021-09-01 02:00:00            1    14.206567   \n",
       " 3      57.6       23.2  2021-09-01 02:00:00            1    14.844507   \n",
       " 4      57.6       23.7  2021-09-01 02:00:00            1    15.293848   \n",
       " \n",
       "     dewpoint  cloudcover_high  cloudcover_low  cloudcover_mid  \\\n",
       " 0  11.553613         0.904816        0.019714        0.000000   \n",
       " 1  10.689844         0.886322        0.004456        0.000000   \n",
       " 2  11.671777         0.729034        0.005615        0.000000   \n",
       " 3  12.264917         0.336304        0.074341        0.000626   \n",
       " 4  12.458887         0.102875        0.088074        0.000015   \n",
       " \n",
       "    cloudcover_total  10_metre_u_wind_component  10_metre_v_wind_component  \\\n",
       " 0          0.905899                  -0.411328                  -9.106137   \n",
       " 1          0.886658                   0.206347                  -5.355405   \n",
       " 2          0.730499                   1.451587                  -7.417905   \n",
       " 3          0.385468                   1.090869                  -9.163999   \n",
       " 4          0.176590                   1.268481                  -8.975766   \n",
       " \n",
       "    data_block_id    forecast_datetime  direct_solar_radiation  \\\n",
       " 0              1  2021-09-01 03:00:00                     0.0   \n",
       " 1              1  2021-09-01 03:00:00                     0.0   \n",
       " 2              1  2021-09-01 03:00:00                     0.0   \n",
       " 3              1  2021-09-01 03:00:00                     0.0   \n",
       " 4              1  2021-09-01 03:00:00                     0.0   \n",
       " \n",
       "    surface_solar_radiation_downwards  snowfall  total_precipitation  \n",
       " 0                                0.0       0.0                  0.0  \n",
       " 1                                0.0       0.0                  0.0  \n",
       " 2                                0.0       0.0                  0.0  \n",
       " 3                                0.0       0.0                  0.0  \n",
       " 4                                0.0       0.0                  0.0  ,\n",
       "               datetime  temperature  dewpoint  rain  snowfall  \\\n",
       " 0  2021-09-01 00:00:00         14.2      11.6   0.0       0.0   \n",
       " 1  2021-09-01 00:00:00         13.9      11.5   0.0       0.0   \n",
       " 2  2021-09-01 00:00:00         14.0      12.5   0.0       0.0   \n",
       " 3  2021-09-01 00:00:00         14.6      11.5   0.0       0.0   \n",
       " 4  2021-09-01 00:00:00         15.7      12.9   0.0       0.0   \n",
       " \n",
       "    surface_pressure  cloudcover_total  cloudcover_low  cloudcover_mid  \\\n",
       " 0            1015.9                31              31               0   \n",
       " 1            1010.7                33              37               0   \n",
       " 2            1015.0                31              34               0   \n",
       " 3            1017.3                 0               0               0   \n",
       " 4            1014.0                22              25               0   \n",
       " \n",
       "    cloudcover_high  windspeed_10m  winddirection_10m  shortwave_radiation  \\\n",
       " 0               11       7.083333                  8                  0.0   \n",
       " 1                0       5.111111                359                  0.0   \n",
       " 2                0       6.333333                355                  0.0   \n",
       " 3                0       8.083333                297                358.0   \n",
       " 4                0       8.416667                  5                  0.0   \n",
       " \n",
       "    direct_solar_radiation  diffuse_radiation  latitude  longitude  \\\n",
       " 0                     0.0                0.0      57.6       21.7   \n",
       " 1                     0.0                0.0      57.6       22.2   \n",
       " 2                     0.0                0.0      57.6       22.7   \n",
       " 3                   277.0               81.0      57.6       23.2   \n",
       " 4                     0.0                0.0      57.6       23.7   \n",
       " \n",
       "    data_block_id  \n",
       " 0            1.0  \n",
       " 1            1.0  \n",
       " 2            1.0  \n",
       " 3            1.0  \n",
       " 4            1.0  ,\n",
       " None,\n",
       " None,\n",
       " None,\n",
       " None,\n",
       " None,\n",
       " None,\n",
       " county                  0\n",
       " is_business             0\n",
       " product_type            0\n",
       " target                528\n",
       " is_consumption          0\n",
       " datetime                0\n",
       " data_block_id           0\n",
       " row_id                  0\n",
       " prediction_unit_id      0\n",
       " dtype: int64,\n",
       " forecast_date            0\n",
       " lowest_price_per_mwh     0\n",
       " highest_price_per_mwh    0\n",
       " origin_date              0\n",
       " data_block_id            0\n",
       " dtype: int64,\n",
       " product_type          0\n",
       " county                0\n",
       " eic_count             0\n",
       " installed_capacity    0\n",
       " is_business           0\n",
       " date                  0\n",
       " data_block_id         0\n",
       " dtype: int64,\n",
       " forecast_date    0\n",
       " euros_per_mwh    0\n",
       " origin_date      0\n",
       " data_block_id    0\n",
       " dtype: int64,\n",
       " latitude                             0\n",
       " longitude                            0\n",
       " origin_datetime                      0\n",
       " hours_ahead                          0\n",
       " temperature                          0\n",
       " dewpoint                             0\n",
       " cloudcover_high                      0\n",
       " cloudcover_low                       0\n",
       " cloudcover_mid                       0\n",
       " cloudcover_total                     0\n",
       " 10_metre_u_wind_component            0\n",
       " 10_metre_v_wind_component            0\n",
       " data_block_id                        0\n",
       " forecast_datetime                    0\n",
       " direct_solar_radiation               0\n",
       " surface_solar_radiation_downwards    2\n",
       " snowfall                             0\n",
       " total_precipitation                  0\n",
       " dtype: int64,\n",
       " datetime                  0\n",
       " temperature               0\n",
       " dewpoint                  0\n",
       " rain                      0\n",
       " snowfall                  0\n",
       " surface_pressure          0\n",
       " cloudcover_total          0\n",
       " cloudcover_low            0\n",
       " cloudcover_mid            0\n",
       " cloudcover_high           0\n",
       " windspeed_10m             0\n",
       " winddirection_10m         0\n",
       " shortwave_radiation       0\n",
       " direct_solar_radiation    0\n",
       " diffuse_radiation         0\n",
       " latitude                  0\n",
       " longitude                 0\n",
       " data_block_id             0\n",
       " dtype: int64)"
      ]
     },
     "execution_count": 6,
     "metadata": {},
     "output_type": "execute_result"
    }
   ],
   "source": [
    "(train_head, gas_prices_head, client_head, electricity_prices_head, forecast_weather_head, historical_weather_head, \n",
    " train_info, gas_prices_info, client_info, electricity_prices_info, forecast_weather_info, historical_weather_info,\n",
    " train_nulls, gas_prices_nulls, client_nulls, electricity_prices_nulls, forecast_weather_nulls, historical_weather_nulls)"
   ]
  },
  {
   "cell_type": "markdown",
   "metadata": {},
   "source": [
    "# 2. Análisis de variables numéricas y categóricas\n",
    " **Variables numéricas**: Realizar análisis descriptivo de las variables numéricas (media, mediana, desviación estándar, etc.).\n",
    " \n",
    " **Variables categóricas**: Calcular frecuencias y proporciones de las variables categóricas.\n"
   ]
  },
  {
   "cell_type": "code",
   "execution_count": 7,
   "metadata": {},
   "outputs": [
    {
     "name": "stdout",
     "output_type": "stream",
     "text": [
      "             target\n",
      "count  2.017824e+06\n",
      "mean   2.748556e+02\n",
      "std    9.095024e+02\n",
      "min    0.000000e+00\n",
      "25%    3.780000e-01\n",
      "50%    3.113300e+01\n",
      "75%    1.802062e+02\n",
      "max    1.548027e+04\n"
     ]
    }
   ],
   "source": [
    "# Análisis de las variables numéricas en train.csv\n",
    "train_numeric = train[['target']].describe()\n",
    "print(train_numeric)"
   ]
  },
  {
   "cell_type": "code",
   "execution_count": 8,
   "metadata": {},
   "outputs": [
    {
     "name": "stdout",
     "output_type": "stream",
     "text": [
      "    county  is_business  product_type  is_consumption\n",
      "0   212928     934848.0      170544.0       1009176.0\n",
      "1    91872    1083504.0      781632.0       1009176.0\n",
      "2   115200          NaN      147456.0             NaN\n",
      "3   122496          NaN      918720.0             NaN\n",
      "4   147264          NaN           NaN             NaN\n",
      "5   151632          NaN           NaN             NaN\n",
      "6    30624          NaN           NaN             NaN\n",
      "7   173088          NaN           NaN             NaN\n",
      "8    91872          NaN           NaN             NaN\n",
      "9   122496          NaN           NaN             NaN\n",
      "10  134640          NaN           NaN             NaN\n",
      "11  198000          NaN           NaN             NaN\n",
      "12   30624          NaN           NaN             NaN\n",
      "13  121056          NaN           NaN             NaN\n",
      "14  125808          NaN           NaN             NaN\n",
      "15  148752          NaN           NaN             NaN\n"
     ]
    }
   ],
   "source": [
    "# Análisis de las variables categóricas en train.csv\n",
    "train_categorical = train[['county', 'is_business', 'product_type', 'is_consumption']].apply(pd.Series.value_counts)\n",
    "print(train_categorical)"
   ]
  },
  {
   "cell_type": "code",
   "execution_count": 9,
   "metadata": {},
   "outputs": [
    {
     "name": "stdout",
     "output_type": "stream",
     "text": [
      "       lowest_price_per_mwh  highest_price_per_mwh\n",
      "count            637.000000             637.000000\n",
      "mean              95.036750             107.754631\n",
      "std               47.552295              54.743666\n",
      "min               28.100000              34.000000\n",
      "25%               60.000000              67.530000\n",
      "50%               85.210000              93.470000\n",
      "75%              109.000000             130.740000\n",
      "max              250.000000             305.000000\n"
     ]
    }
   ],
   "source": [
    "# Análisis de las variables numéricas en gas_prices.csv\n",
    "gas_prices_numeric = gas_prices[['lowest_price_per_mwh', 'highest_price_per_mwh']].describe()\n",
    "print(gas_prices_numeric)"
   ]
  },
  {
   "cell_type": "code",
   "execution_count": 10,
   "metadata": {},
   "outputs": [
    {
     "name": "stdout",
     "output_type": "stream",
     "text": [
      "    product_type  county  is_business\n",
      "0         3541.0    4422      19418.0\n",
      "1        16232.0    1908      22501.0\n",
      "2         3066.0    2392          NaN\n",
      "3        19080.0    2544          NaN\n",
      "4            NaN    3058          NaN\n",
      "5            NaN    3149          NaN\n",
      "6            NaN     636          NaN\n",
      "7            NaN    3596          NaN\n",
      "8            NaN    1908          NaN\n",
      "9            NaN    2544          NaN\n",
      "10           NaN    2797          NaN\n",
      "11           NaN    4115          NaN\n",
      "12           NaN     636          NaN\n",
      "13           NaN    2514          NaN\n",
      "14           NaN    2611          NaN\n",
      "15           NaN    3089          NaN\n"
     ]
    }
   ],
   "source": [
    "# Análisis de las variables categóricas en client.csv\n",
    "client_categorical = client[['product_type', 'county', 'is_business']].apply(pd.Series.value_counts)\n",
    "print(client_categorical)"
   ]
  },
  {
   "cell_type": "code",
   "execution_count": 11,
   "metadata": {},
   "outputs": [
    {
     "name": "stdout",
     "output_type": "stream",
     "text": [
      "       euros_per_mwh\n",
      "count   15286.000000\n",
      "mean      157.064176\n",
      "std       121.148625\n",
      "min       -10.060000\n",
      "25%        85.290000\n",
      "50%       128.280000\n",
      "75%       199.797500\n",
      "max      4000.000000\n"
     ]
    }
   ],
   "source": [
    "# Análisis de las variables numéricas en electricity_prices.csv\n",
    "electricity_prices_numeric = electricity_prices[['euros_per_mwh']].describe()\n",
    "print(electricity_prices_numeric)"
   ]
  },
  {
   "cell_type": "code",
   "execution_count": 12,
   "metadata": {},
   "outputs": [
    {
     "name": "stdout",
     "output_type": "stream",
     "text": [
      "        temperature      dewpoint  cloudcover_high  cloudcover_low  \\\n",
      "count  3.424512e+06  3.424512e+06     3.424512e+06    3.424512e+06   \n",
      "mean   5.743913e+00  2.411946e+00     3.946654e-01    4.346453e-01   \n",
      "std    7.844206e+00  7.121432e+00     4.440425e-01    4.386346e-01   \n",
      "min   -2.749940e+01 -2.968357e+01     0.000000e+00    0.000000e+00   \n",
      "25%    2.606445e-01 -2.364355e+00     0.000000e+00    3.356934e-04   \n",
      "50%    4.872705e+00  1.835596e+00     8.866882e-02    2.305453e-01   \n",
      "75%    1.114639e+01  7.302026e+00     9.784851e-01    9.994587e-01   \n",
      "max    3.181069e+01  2.368057e+01     1.000008e+00    1.000008e+00   \n",
      "\n",
      "       cloudcover_mid  cloudcover_total  10_metre_u_wind_component  \\\n",
      "count    3.424512e+06      3.424512e+06               3.424512e+06   \n",
      "mean     3.590693e-01      6.819927e-01               1.255446e+00   \n",
      "std      4.201556e-01      4.009629e-01               3.995300e+00   \n",
      "min      0.000000e+00      0.000000e+00              -1.757718e+01   \n",
      "25%      0.000000e+00      2.648926e-01              -1.466691e+00   \n",
      "50%      1.011963e-01      9.772670e-01               1.468681e+00   \n",
      "75%      9.000854e-01      1.000000e+00               3.813533e+00   \n",
      "max      1.000008e+00      1.000008e+00               2.257320e+01   \n",
      "\n",
      "       10_metre_v_wind_component  direct_solar_radiation  \\\n",
      "count               3.424512e+06            3.424512e+06   \n",
      "mean                7.250110e-01            1.511882e+02   \n",
      "std                 4.223752e+00            2.565069e+02   \n",
      "min                -2.211612e+01           -7.733333e-01   \n",
      "25%                -1.978108e+00            0.000000e+00   \n",
      "50%                 9.433203e-01            0.000000e+00   \n",
      "75%                 3.507629e+00            2.128447e+02   \n",
      "max                 1.931437e+01            9.544222e+02   \n",
      "\n",
      "       surface_solar_radiation_downwards      snowfall  total_precipitation  \n",
      "count                       3.424510e+06  3.424512e+06         3.424512e+06  \n",
      "mean                        1.107642e+02  2.533923e-05         7.863859e-05  \n",
      "std                         1.874444e+02  1.222840e-04         2.780880e-04  \n",
      "min                        -3.258333e-01 -3.814697e-06        -1.529098e-05  \n",
      "25%                         0.000000e+00  0.000000e+00         0.000000e+00  \n",
      "50%                         6.044444e-01  0.000000e+00         0.000000e+00  \n",
      "75%                         1.441723e+02  0.000000e+00         2.765656e-05  \n",
      "max                         8.487144e+02  4.832983e-03         1.651621e-02  \n"
     ]
    }
   ],
   "source": [
    "# Análisis de las variables numéricas en forecast_weather.csv\n",
    "forecast_weather_numeric = forecast_weather[['temperature', 'dewpoint', 'cloudcover_high', 'cloudcover_low', 'cloudcover_mid', 'cloudcover_total', '10_metre_u_wind_component', '10_metre_v_wind_component', 'direct_solar_radiation', 'surface_solar_radiation_downwards', 'snowfall', 'total_precipitation']].describe()\n",
    "print(forecast_weather_numeric)"
   ]
  },
  {
   "cell_type": "code",
   "execution_count": 13,
   "metadata": {},
   "outputs": [
    {
     "name": "stdout",
     "output_type": "stream",
     "text": [
      "        temperature      dewpoint          rain      snowfall  \\\n",
      "count  1.710802e+06  1.710802e+06  1.710802e+06  1.710802e+06   \n",
      "mean   5.740968e+00  2.240312e+00  4.962012e-02  1.604896e-02   \n",
      "std    8.025647e+00  7.224357e+00  2.079113e-01  7.462936e-02   \n",
      "min   -2.370000e+01 -2.590000e+01  0.000000e+00  0.000000e+00   \n",
      "25%    0.000000e+00 -2.600000e+00  0.000000e+00  0.000000e+00   \n",
      "50%    5.100000e+00  1.700000e+00  0.000000e+00  0.000000e+00   \n",
      "75%    1.120000e+01  7.200000e+00  0.000000e+00  0.000000e+00   \n",
      "max    3.260000e+01  2.380000e+01  1.680000e+01  2.660000e+00   \n",
      "\n",
      "       surface_pressure  cloudcover_total  cloudcover_low  cloudcover_mid  \\\n",
      "count      1.710802e+06      1.710802e+06    1.710802e+06    1.710802e+06   \n",
      "mean       1.009282e+03      6.091270e+01    4.668593e+01    3.440698e+01   \n",
      "std        1.308891e+01      3.776905e+01    4.074760e+01    3.832769e+01   \n",
      "min        9.429000e+02      0.000000e+00    0.000000e+00    0.000000e+00   \n",
      "25%        1.001500e+03      2.500000e+01    3.000000e+00    0.000000e+00   \n",
      "50%        1.010400e+03      7.200000e+01    3.900000e+01    1.600000e+01   \n",
      "75%        1.018000e+03      1.000000e+02    9.400000e+01    7.200000e+01   \n",
      "max        1.049300e+03      1.000000e+02    1.000000e+02    1.000000e+02   \n",
      "\n",
      "       cloudcover_high  windspeed_10m  winddirection_10m  shortwave_radiation  \\\n",
      "count     1.710802e+06   1.710802e+06       1.710802e+06         1.710802e+06   \n",
      "mean      3.605141e+01   4.849871e+00       1.978694e+02         1.064905e+02   \n",
      "std       4.135852e+01   2.475450e+00       8.993798e+01         1.799449e+02   \n",
      "min       0.000000e+00   0.000000e+00       0.000000e+00         0.000000e+00   \n",
      "25%       0.000000e+00   3.000000e+00       1.390000e+02         0.000000e+00   \n",
      "50%       1.000000e+01   4.500000e+00       2.080000e+02         1.000000e+00   \n",
      "75%       8.500000e+01   6.277778e+00       2.630000e+02         1.400000e+02   \n",
      "max       1.000000e+02   2.175000e+01       3.600000e+02         8.490000e+02   \n",
      "\n",
      "       direct_solar_radiation  diffuse_radiation  \n",
      "count            1.710802e+06       1.710802e+06  \n",
      "mean             6.445292e+01       4.203759e+01  \n",
      "std              1.334100e+02       6.195225e+01  \n",
      "min              0.000000e+00       0.000000e+00  \n",
      "25%              0.000000e+00       0.000000e+00  \n",
      "50%              0.000000e+00       1.000000e+00  \n",
      "75%              4.700000e+01       7.400000e+01  \n",
      "max              7.540000e+02       3.880000e+02  \n"
     ]
    }
   ],
   "source": [
    "# Análisis de las variables numéricas en historical_weather.csv\n",
    "historical_weather_numeric = historical_weather[['temperature', 'dewpoint', 'rain', 'snowfall', 'surface_pressure', 'cloudcover_total', 'cloudcover_low', 'cloudcover_mid', 'cloudcover_high', 'windspeed_10m', 'winddirection_10m', 'shortwave_radiation', 'direct_solar_radiation', 'diffuse_radiation']].describe()\n",
    "print(historical_weather_numeric)\n"
   ]
  },
  {
   "cell_type": "markdown",
   "metadata": {},
   "source": [
    "## train.csv\n",
    "\n",
    "**Distribución de las características categóricas: county**"
   ]
  },
  {
   "cell_type": "code",
   "execution_count": 14,
   "metadata": {},
   "outputs": [
    {
     "data": {
      "image/png": "[encoded data removed]",
      "text/plain": [
       "<Figure size 1200x600 with 1 Axes>"
      ]
     },
     "metadata": {},
     "output_type": "display_data"
    }
   ],
   "source": [
    "plt.figure(figsize=(12, 6))\n",
    "sns.countplot(data=train, x='county')\n",
    "plt.title('Distribución de county')\n",
    "plt.xticks(rotation=45)\n",
    "plt.show()\n"
   ]
  },
  {
   "cell_type": "markdown",
   "metadata": {},
   "source": [
    "**Distribución de las características categóricas: is_bussiness**"
   ]
  },
  {
   "cell_type": "code",
   "execution_count": 15,
   "metadata": {},
   "outputs": [
    {
     "data": {
      "image/png": "[encoded data removed]",
      "text/plain": [
       "<Figure size 600x400 with 1 Axes>"
      ]
     },
     "metadata": {},
     "output_type": "display_data"
    }
   ],
   "source": [
    "plt.figure(figsize=(6, 4))\n",
    "sns.countplot(data=train, x='is_business')\n",
    "plt.title('Distribución de is_business')\n",
    "plt.show()"
   ]
  },
  {
   "cell_type": "markdown",
   "metadata": {},
   "source": [
    "**Distribución de las características categóricas: product_type**"
   ]
  },
  {
   "cell_type": "code",
   "execution_count": 16,
   "metadata": {},
   "outputs": [
    {
     "data": {
      "image/png": "[encoded data removed]",
      "text/plain": [
       "<Figure size 800x400 with 1 Axes>"
      ]
     },
     "metadata": {},
     "output_type": "display_data"
    }
   ],
   "source": [
    "plt.figure(figsize=(8, 4))\n",
    "sns.countplot(data=train, x='product_type')\n",
    "plt.title('Distribución de product_type')\n",
    "plt.show()\n"
   ]
  },
  {
   "cell_type": "code",
   "execution_count": 11,
   "metadata": {},
   "outputs": [
    {
     "data": {
      "text/plain": [
       "county                  0\n",
       "is_business             0\n",
       "product_type            0\n",
       "target                528\n",
       "is_consumption          0\n",
       "datetime                0\n",
       "data_block_id           0\n",
       "row_id                  0\n",
       "prediction_unit_id      0\n",
       "dtype: int64"
      ]
     },
     "execution_count": 11,
     "metadata": {},
     "output_type": "execute_result"
    }
   ],
   "source": [
    "# Convertir la columna 'datetime' a tipo datetime\n",
    "train['datetime'] = pd.to_datetime(train['datetime'])\n",
    "\n",
    "# Manejar valores faltantes, si los hay\n",
    "train.isnull().sum()"
   ]
  },
  {
   "cell_type": "code",
   "execution_count": 12,
   "metadata": {},
   "outputs": [
    {
     "data": {
      "application/vnd.plotly.v1+json": {
       "config": {
        "plotlyServerURL": "https://plot.ly"
       },
       "data": [
        {
         "fill": "tozeroy",
         "fillcolor": "rgba(250, 22, 63, 0.6)",
         "mode": "none",
         "name": "Daily Consumption",
         "type": "scatter",
         "x": [
          "2021-09-01T00:00:00",
          "2021-09-02T00:00:00",
          "2021-09-03T00:00:00",
          "2021-09-04T00:00:00",
          "2021-09-05T00:00:00",
          "2021-09-06T00:00:00",
          "2021-09-07T00:00:00",
          "2021-09-08T00:00:00",
          "2021-09-09T00:00:00",
          "2021-09-10T00:00:00",
          "2021-09-11T00:00:00",
          "2021-09-12T00:00:00",
          "2021-09-13T00:00:00",
          "2021-09-14T00:00:00",
          "2021-09-15T00:00:00",
          "2021-09-16T00:00:00",
          "2021-09-17T00:00:00",
          "2021-09-18T00:00:00",
          "2021-09-19T00:00:00",
          "2021-09-20T00:00:00",
          "2021-09-21T00:00:00",
          "2021-09-22T00:00:00",
          "2021-09-23T00:00:00",
          "2021-09-24T00:00:00",
          "2021-09-25T00:00:00",
          "2021-09-26T00:00:00",
          "2021-09-27T00:00:00",
          "2021-09-28T00:00:00",
          "2021-09-29T00:00:00",
          "2021-09-30T00:00:00",
          "2021-10-01T00:00:00",
          "2021-10-02T00:00:00",
          "2021-10-03T00:00:00",
          "2021-10-04T00:00:00",
          "2021-10-05T00:00:00",
          "2021-10-06T00:00:00",
          "2021-10-07T00:00:00",
          "2021-10-08T00:00:00",
          "2021-10-09T00:00:00",
          "2021-10-10T00:00:00",
          "2021-10-11T00:00:00",
          "2021-10-12T00:00:00",
          "2021-10-13T00:00:00",
          "2021-10-14T00:00:00",
          "2021-10-15T00:00:00",
          "2021-10-16T00:00:00",
          "2021-10-17T00:00:00",
          "2021-10-18T00:00:00",
          "2021-10-19T00:00:00",
          "2021-10-20T00:00:00",
          "2021-10-21T00:00:00",
          "2021-10-22T00:00:00",
          "2021-10-23T00:00:00",
          "2021-10-24T00:00:00",
          "2021-10-25T00:00:00",
          "2021-10-26T00:00:00",
          "2021-10-27T00:00:00",
          "2021-10-28T00:00:00",
          "2021-10-29T00:00:00",
          "2021-10-30T00:00:00",
          "2021-10-31T00:00:00",
          "2021-11-01T00:00:00",
          "2021-11-02T00:00:00",
          "2021-11-03T00:00:00",
          "2021-11-04T00:00:00",
          "2021-11-05T00:00:00",
          "2021-11-06T00:00:00",
          "2021-11-07T00:00:00",
          "2021-11-08T00:00:00",
          "2021-11-09T00:00:00",
          "2021-11-10T00:00:00",
          "2021-11-11T00:00:00",
          "2021-11-12T00:00:00",
          "2021-11-13T00:00:00",
          "2021-11-14T00:00:00",
          "2021-11-15T00:00:00",
          "2021-11-16T00:00:00",
          "2021-11-17T00:00:00",
          "2021-11-18T00:00:00",
          "2021-11-19T00:00:00",
          "2021-11-20T00:00:00",
          "2021-11-21T00:00:00",
          "2021-11-22T00:00:00",
          "2021-11-23T00:00:00",
          "2021-11-24T00:00:00",
          "2021-11-25T00:00:00",
          "2021-11-26T00:00:00",
          "2021-11-27T00:00:00",
          "2021-11-28T00:00:00",
          "2021-11-29T00:00:00",
          "2021-11-30T00:00:00",
          "2021-12-01T00:00:00",
          "2021-12-02T00:00:00",
          "2021-12-03T00:00:00",
          "2021-12-04T00:00:00",
          "2021-12-05T00:00:00",
          "2021-12-06T00:00:00",
          "2021-12-07T00:00:00",
          "2021-12-08T00:00:00",
          "2021-12-09T00:00:00",
          "2021-12-10T00:00:00",
          "2021-12-11T00:00:00",
          "2021-12-12T00:00:00",
          "2021-12-13T00:00:00",
          "2021-12-14T00:00:00",
          "2021-12-15T00:00:00",
          "2021-12-16T00:00:00",
          "2021-12-17T00:00:00",
          "2021-12-18T00:00:00",
          "2021-12-19T00:00:00",
          "2021-12-20T00:00:00",
          "2021-12-21T00:00:00",
          "2021-12-22T00:00:00",
          "2021-12-23T00:00:00",
          "2021-12-24T00:00:00",
          "2021-12-25T00:00:00",
          "2021-12-26T00:00:00",
          "2021-12-27T00:00:00",
          "2021-12-28T00:00:00",
          "2021-12-29T00:00:00",
          "2021-12-30T00:00:00",
          "2021-12-31T00:00:00",
          "2022-01-01T00:00:00",
          "2022-01-02T00:00:00",
          "2022-01-03T00:00:00",
          "2022-01-04T00:00:00",
          "2022-01-05T00:00:00",
          "2022-01-06T00:00:00",
          "2022-01-07T00:00:00",
          "2022-01-08T00:00:00",
          "2022-01-09T00:00:00",
          "2022-01-10T00:00:00",
          "2022-01-11T00:00:00",
          "2022-01-12T00:00:00",
          "2022-01-13T00:00:00",
          "2022-01-14T00:00:00",
          "2022-01-15T00:00:00",
          "2022-01-16T00:00:00",
          "2022-01-17T00:00:00",
          "2022-01-18T00:00:00",
          "2022-01-19T00:00:00",
          "2022-01-20T00:00:00",
          "2022-01-21T00:00:00",
          "2022-01-22T00:00:00",
          "2022-01-23T00:00:00",
          "2022-01-24T00:00:00",
          "2022-01-25T00:00:00",
          "2022-01-26T00:00:00",
          "2022-01-27T00:00:00",
          "2022-01-28T00:00:00",
          "2022-01-29T00:00:00",
          "2022-01-30T00:00:00",
          "2022-01-31T00:00:00",
          "2022-02-01T00:00:00",
          "2022-02-02T00:00:00",
          "2022-02-03T00:00:00",
          "2022-02-04T00:00:00",
          "2022-02-05T00:00:00",
          "2022-02-06T00:00:00",
          "2022-02-07T00:00:00",
          "2022-02-08T00:00:00",
          "2022-02-09T00:00:00",
          "2022-02-10T00:00:00",
          "2022-02-11T00:00:00",
          "2022-02-12T00:00:00",
          "2022-02-13T00:00:00",
          "2022-02-14T00:00:00",
          "2022-02-15T00:00:00",
          "2022-02-16T00:00:00",
          "2022-02-17T00:00:00",
          "2022-02-18T00:00:00",
          "2022-02-19T00:00:00",
          "2022-02-20T00:00:00",
          "2022-02-21T00:00:00",
          "2022-02-22T00:00:00",
          "2022-02-23T00:00:00",
          "2022-02-24T00:00:00",
          "2022-02-25T00:00:00",
          "2022-02-26T00:00:00",
          "2022-02-27T00:00:00",
          "2022-02-28T00:00:00",
          "2022-03-01T00:00:00",
          "2022-03-02T00:00:00",
          "2022-03-03T00:00:00",
          "2022-03-04T00:00:00",
          "2022-03-05T00:00:00",
          "2022-03-06T00:00:00",
          "2022-03-07T00:00:00",
          "2022-03-08T00:00:00",
          "2022-03-09T00:00:00",
          "2022-03-10T00:00:00",
          "2022-03-11T00:00:00",
          "2022-03-12T00:00:00",
          "2022-03-13T00:00:00",
          "2022-03-14T00:00:00",
          "2022-03-15T00:00:00",
          "2022-03-16T00:00:00",
          "2022-03-17T00:00:00",
          "2022-03-18T00:00:00",
          "2022-03-19T00:00:00",
          "2022-03-20T00:00:00",
          "2022-03-21T00:00:00",
          "2022-03-22T00:00:00",
          "2022-03-23T00:00:00",
          "2022-03-24T00:00:00",
          "2022-03-25T00:00:00",
          "2022-03-26T00:00:00",
          "2022-03-27T00:00:00",
          "2022-03-28T00:00:00",
          "2022-03-29T00:00:00",
          "2022-03-30T00:00:00",
          "2022-03-31T00:00:00",
          "2022-04-01T00:00:00",
          "2022-04-02T00:00:00",
          "2022-04-03T00:00:00",
          "2022-04-04T00:00:00",
          "2022-04-05T00:00:00",
          "2022-04-06T00:00:00",
          "2022-04-07T00:00:00",
          "2022-04-08T00:00:00",
          "2022-04-09T00:00:00",
          "2022-04-10T00:00:00",
          "2022-04-11T00:00:00",
          "2022-04-12T00:00:00",
          "2022-04-13T00:00:00",
          "2022-04-14T00:00:00",
          "2022-04-15T00:00:00",
          "2022-04-16T00:00:00",
          "2022-04-17T00:00:00",
          "2022-04-18T00:00:00",
          "2022-04-19T00:00:00",
          "2022-04-20T00:00:00",
          "2022-04-21T00:00:00",
          "2022-04-22T00:00:00",
          "2022-04-23T00:00:00",
          "2022-04-24T00:00:00",
          "2022-04-25T00:00:00",
          "2022-04-26T00:00:00",
          "2022-04-27T00:00:00",
          "2022-04-28T00:00:00",
          "2022-04-29T00:00:00",
          "2022-04-30T00:00:00",
          "2022-05-01T00:00:00",
          "2022-05-02T00:00:00",
          "2022-05-03T00:00:00",
          "2022-05-04T00:00:00",
          "2022-05-05T00:00:00",
          "2022-05-06T00:00:00",
          "2022-05-07T00:00:00",
          "2022-05-08T00:00:00",
          "2022-05-09T00:00:00",
          "2022-05-10T00:00:00",
          "2022-05-11T00:00:00",
          "2022-05-12T00:00:00",
          "2022-05-13T00:00:00",
          "2022-05-14T00:00:00",
          "2022-05-15T00:00:00",
          "2022-05-16T00:00:00",
          "2022-05-17T00:00:00",
          "2022-05-18T00:00:00",
          "2022-05-19T00:00:00",
          "2022-05-20T00:00:00",
          "2022-05-21T00:00:00",
          "2022-05-22T00:00:00",
          "2022-05-23T00:00:00",
          "2022-05-24T00:00:00",
          "2022-05-25T00:00:00",
          "2022-05-26T00:00:00",
          "2022-05-27T00:00:00",
          "2022-05-28T00:00:00",
          "2022-05-29T00:00:00",
          "2022-05-30T00:00:00",
          "2022-05-31T00:00:00",
          "2022-06-01T00:00:00",
          "2022-06-02T00:00:00",
          "2022-06-03T00:00:00",
          "2022-06-04T00:00:00",
          "2022-06-05T00:00:00",
          "2022-06-06T00:00:00",
          "2022-06-07T00:00:00",
          "2022-06-08T00:00:00",
          "2022-06-09T00:00:00",
          "2022-06-10T00:00:00",
          "2022-06-11T00:00:00",
          "2022-06-12T00:00:00",
          "2022-06-13T00:00:00",
          "2022-06-14T00:00:00",
          "2022-06-15T00:00:00",
          "2022-06-16T00:00:00",
          "2022-06-17T00:00:00",
          "2022-06-18T00:00:00",
          "2022-06-19T00:00:00",
          "2022-06-20T00:00:00",
          "2022-06-21T00:00:00",
          "2022-06-22T00:00:00",
          "2022-06-23T00:00:00",
          "2022-06-24T00:00:00",
          "2022-06-25T00:00:00",
          "2022-06-26T00:00:00",
          "2022-06-27T00:00:00",
          "2022-06-28T00:00:00",
          "2022-06-29T00:00:00",
          "2022-06-30T00:00:00",
          "2022-07-01T00:00:00",
          "2022-07-02T00:00:00",
          "2022-07-03T00:00:00",
          "2022-07-04T00:00:00",
          "2022-07-05T00:00:00",
          "2022-07-06T00:00:00",
          "2022-07-07T00:00:00",
          "2022-07-08T00:00:00",
          "2022-07-09T00:00:00",
          "2022-07-10T00:00:00",
          "2022-07-11T00:00:00",
          "2022-07-12T00:00:00",
          "2022-07-13T00:00:00",
          "2022-07-14T00:00:00",
          "2022-07-15T00:00:00",
          "2022-07-16T00:00:00",
          "2022-07-17T00:00:00",
          "2022-07-18T00:00:00",
          "2022-07-19T00:00:00",
          "2022-07-20T00:00:00",
          "2022-07-21T00:00:00",
          "2022-07-22T00:00:00",
          "2022-07-23T00:00:00",
          "2022-07-24T00:00:00",
          "2022-07-25T00:00:00",
          "2022-07-26T00:00:00",
          "2022-07-27T00:00:00",
          "2022-07-28T00:00:00",
          "2022-07-29T00:00:00",
          "2022-07-30T00:00:00",
          "2022-07-31T00:00:00",
          "2022-08-01T00:00:00",
          "2022-08-02T00:00:00",
          "2022-08-03T00:00:00",
          "2022-08-04T00:00:00",
          "2022-08-05T00:00:00",
          "2022-08-06T00:00:00",
          "2022-08-07T00:00:00",
          "2022-08-08T00:00:00",
          "2022-08-09T00:00:00",
          "2022-08-10T00:00:00",
          "2022-08-11T00:00:00",
          "2022-08-12T00:00:00",
          "2022-08-13T00:00:00",
          "2022-08-14T00:00:00",
          "2022-08-15T00:00:00",
          "2022-08-16T00:00:00",
          "2022-08-17T00:00:00",
          "2022-08-18T00:00:00",
          "2022-08-19T00:00:00",
          "2022-08-20T00:00:00",
          "2022-08-21T00:00:00",
          "2022-08-22T00:00:00",
          "2022-08-23T00:00:00",
          "2022-08-24T00:00:00",
          "2022-08-25T00:00:00",
          "2022-08-26T00:00:00",
          "2022-08-27T00:00:00",
          "2022-08-28T00:00:00",
          "2022-08-29T00:00:00",
          "2022-08-30T00:00:00",
          "2022-08-31T00:00:00",
          "2022-09-01T00:00:00",
          "2022-09-02T00:00:00",
          "2022-09-03T00:00:00",
          "2022-09-04T00:00:00",
          "2022-09-05T00:00:00",
          "2022-09-06T00:00:00",
          "2022-09-07T00:00:00",
          "2022-09-08T00:00:00",
          "2022-09-09T00:00:00",
          "2022-09-10T00:00:00",
          "2022-09-11T00:00:00",
          "2022-09-12T00:00:00",
          "2022-09-13T00:00:00",
          "2022-09-14T00:00:00",
          "2022-09-15T00:00:00",
          "2022-09-16T00:00:00",
          "2022-09-17T00:00:00",
          "2022-09-18T00:00:00",
          "2022-09-19T00:00:00",
          "2022-09-20T00:00:00",
          "2022-09-21T00:00:00",
          "2022-09-22T00:00:00",
          "2022-09-23T00:00:00",
          "2022-09-24T00:00:00",
          "2022-09-25T00:00:00",
          "2022-09-26T00:00:00",
          "2022-09-27T00:00:00",
          "2022-09-28T00:00:00",
          "2022-09-29T00:00:00",
          "2022-09-30T00:00:00",
          "2022-10-01T00:00:00",
          "2022-10-02T00:00:00",
          "2022-10-03T00:00:00",
          "2022-10-04T00:00:00",
          "2022-10-05T00:00:00",
          "2022-10-06T00:00:00",
          "2022-10-07T00:00:00",
          "2022-10-08T00:00:00",
          "2022-10-09T00:00:00",
          "2022-10-10T00:00:00",
          "2022-10-11T00:00:00",
          "2022-10-12T00:00:00",
          "2022-10-13T00:00:00",
          "2022-10-14T00:00:00",
          "2022-10-15T00:00:00",
          "2022-10-16T00:00:00",
          "2022-10-17T00:00:00",
          "2022-10-18T00:00:00",
          "2022-10-19T00:00:00",
          "2022-10-20T00:00:00",
          "2022-10-21T00:00:00",
          "2022-10-22T00:00:00",
          "2022-10-23T00:00:00",
          "2022-10-24T00:00:00",
          "2022-10-25T00:00:00",
          "2022-10-26T00:00:00",
          "2022-10-27T00:00:00",
          "2022-10-28T00:00:00",
          "2022-10-29T00:00:00",
          "2022-10-30T00:00:00",
          "2022-10-31T00:00:00",
          "2022-11-01T00:00:00",
          "2022-11-02T00:00:00",
          "2022-11-03T00:00:00",
          "2022-11-04T00:00:00",
          "2022-11-05T00:00:00",
          "2022-11-06T00:00:00",
          "2022-11-07T00:00:00",
          "2022-11-08T00:00:00",
          "2022-11-09T00:00:00",
          "2022-11-10T00:00:00",
          "2022-11-11T00:00:00",
          "2022-11-12T00:00:00",
          "2022-11-13T00:00:00",
          "2022-11-14T00:00:00",
          "2022-11-15T00:00:00",
          "2022-11-16T00:00:00",
          "2022-11-17T00:00:00",
          "2022-11-18T00:00:00",
          "2022-11-19T00:00:00",
          "2022-11-20T00:00:00",
          "2022-11-21T00:00:00",
          "2022-11-22T00:00:00",
          "2022-11-23T00:00:00",
          "2022-11-24T00:00:00",
          "2022-11-25T00:00:00",
          "2022-11-26T00:00:00",
          "2022-11-27T00:00:00",
          "2022-11-28T00:00:00",
          "2022-11-29T00:00:00",
          "2022-11-30T00:00:00",
          "2022-12-01T00:00:00",
          "2022-12-02T00:00:00",
          "2022-12-03T00:00:00",
          "2022-12-04T00:00:00",
          "2022-12-05T00:00:00",
          "2022-12-06T00:00:00",
          "2022-12-07T00:00:00",
          "2022-12-08T00:00:00",
          "2022-12-09T00:00:00",
          "2022-12-10T00:00:00",
          "2022-12-11T00:00:00",
          "2022-12-12T00:00:00",
          "2022-12-13T00:00:00",
          "2022-12-14T00:00:00",
          "2022-12-15T00:00:00",
          "2022-12-16T00:00:00",
          "2022-12-17T00:00:00",
          "2022-12-18T00:00:00",
          "2022-12-19T00:00:00",
          "2022-12-20T00:00:00",
          "2022-12-21T00:00:00",
          "2022-12-22T00:00:00",
          "2022-12-23T00:00:00",
          "2022-12-24T00:00:00",
          "2022-12-25T00:00:00",
          "2022-12-26T00:00:00",
          "2022-12-27T00:00:00",
          "2022-12-28T00:00:00",
          "2022-12-29T00:00:00",
          "2022-12-30T00:00:00",
          "2022-12-31T00:00:00",
          "2023-01-01T00:00:00",
          "2023-01-02T00:00:00",
          "2023-01-03T00:00:00",
          "2023-01-04T00:00:00",
          "2023-01-05T00:00:00",
          "2023-01-06T00:00:00",
          "2023-01-07T00:00:00",
          "2023-01-08T00:00:00",
          "2023-01-09T00:00:00",
          "2023-01-10T00:00:00",
          "2023-01-11T00:00:00",
          "2023-01-12T00:00:00",
          "2023-01-13T00:00:00",
          "2023-01-14T00:00:00",
          "2023-01-15T00:00:00",
          "2023-01-16T00:00:00",
          "2023-01-17T00:00:00",
          "2023-01-18T00:00:00",
          "2023-01-19T00:00:00",
          "2023-01-20T00:00:00",
          "2023-01-21T00:00:00",
          "2023-01-22T00:00:00",
          "2023-01-23T00:00:00",
          "2023-01-24T00:00:00",
          "2023-01-25T00:00:00",
          "2023-01-26T00:00:00",
          "2023-01-27T00:00:00",
          "2023-01-28T00:00:00",
          "2023-01-29T00:00:00",
          "2023-01-30T00:00:00",
          "2023-01-31T00:00:00",
          "2023-02-01T00:00:00",
          "2023-02-02T00:00:00",
          "2023-02-03T00:00:00",
          "2023-02-04T00:00:00",
          "2023-02-05T00:00:00",
          "2023-02-06T00:00:00",
          "2023-02-07T00:00:00",
          "2023-02-08T00:00:00",
          "2023-02-09T00:00:00",
          "2023-02-10T00:00:00",
          "2023-02-11T00:00:00",
          "2023-02-12T00:00:00",
          "2023-02-13T00:00:00",
          "2023-02-14T00:00:00",
          "2023-02-15T00:00:00",
          "2023-02-16T00:00:00",
          "2023-02-17T00:00:00",
          "2023-02-18T00:00:00",
          "2023-02-19T00:00:00",
          "2023-02-20T00:00:00",
          "2023-02-21T00:00:00",
          "2023-02-22T00:00:00",
          "2023-02-23T00:00:00",
          "2023-02-24T00:00:00",
          "2023-02-25T00:00:00",
          "2023-02-26T00:00:00",
          "2023-02-27T00:00:00",
          "2023-02-28T00:00:00",
          "2023-03-01T00:00:00",
          "2023-03-02T00:00:00",
          "2023-03-03T00:00:00",
          "2023-03-04T00:00:00",
          "2023-03-05T00:00:00",
          "2023-03-06T00:00:00",
          "2023-03-07T00:00:00",
          "2023-03-08T00:00:00",
          "2023-03-09T00:00:00",
          "2023-03-10T00:00:00",
          "2023-03-11T00:00:00",
          "2023-03-12T00:00:00",
          "2023-03-13T00:00:00",
          "2023-03-14T00:00:00",
          "2023-03-15T00:00:00",
          "2023-03-16T00:00:00",
          "2023-03-17T00:00:00",
          "2023-03-18T00:00:00",
          "2023-03-19T00:00:00",
          "2023-03-20T00:00:00",
          "2023-03-21T00:00:00",
          "2023-03-22T00:00:00",
          "2023-03-23T00:00:00",
          "2023-03-24T00:00:00",
          "2023-03-25T00:00:00",
          "2023-03-26T00:00:00",
          "2023-03-27T00:00:00",
          "2023-03-28T00:00:00",
          "2023-03-29T00:00:00",
          "2023-03-30T00:00:00",
          "2023-03-31T00:00:00",
          "2023-04-01T00:00:00",
          "2023-04-02T00:00:00",
          "2023-04-03T00:00:00",
          "2023-04-04T00:00:00",
          "2023-04-05T00:00:00",
          "2023-04-06T00:00:00",
          "2023-04-07T00:00:00",
          "2023-04-08T00:00:00",
          "2023-04-09T00:00:00",
          "2023-04-10T00:00:00",
          "2023-04-11T00:00:00",
          "2023-04-12T00:00:00",
          "2023-04-13T00:00:00",
          "2023-04-14T00:00:00",
          "2023-04-15T00:00:00",
          "2023-04-16T00:00:00",
          "2023-04-17T00:00:00",
          "2023-04-18T00:00:00",
          "2023-04-19T00:00:00",
          "2023-04-20T00:00:00",
          "2023-04-21T00:00:00",
          "2023-04-22T00:00:00",
          "2023-04-23T00:00:00",
          "2023-04-24T00:00:00",
          "2023-04-25T00:00:00",
          "2023-04-26T00:00:00",
          "2023-04-27T00:00:00",
          "2023-04-28T00:00:00",
          "2023-04-29T00:00:00",
          "2023-04-30T00:00:00",
          "2023-05-01T00:00:00",
          "2023-05-02T00:00:00",
          "2023-05-03T00:00:00",
          "2023-05-04T00:00:00",
          "2023-05-05T00:00:00",
          "2023-05-06T00:00:00",
          "2023-05-07T00:00:00",
          "2023-05-08T00:00:00",
          "2023-05-09T00:00:00",
          "2023-05-10T00:00:00",
          "2023-05-11T00:00:00",
          "2023-05-12T00:00:00",
          "2023-05-13T00:00:00",
          "2023-05-14T00:00:00",
          "2023-05-15T00:00:00",
          "2023-05-16T00:00:00",
          "2023-05-17T00:00:00",
          "2023-05-18T00:00:00",
          "2023-05-19T00:00:00",
          "2023-05-20T00:00:00",
          "2023-05-21T00:00:00",
          "2023-05-22T00:00:00",
          "2023-05-23T00:00:00",
          "2023-05-24T00:00:00",
          "2023-05-25T00:00:00",
          "2023-05-26T00:00:00",
          "2023-05-27T00:00:00",
          "2023-05-28T00:00:00",
          "2023-05-29T00:00:00",
          "2023-05-30T00:00:00",
          "2023-05-31T00:00:00"
         ],
         "y": [
          513929.956,
          518908.306,
          527919.77,
          373264.397,
          366969.576,
          565915.887,
          577005.004,
          621586.47,
          555772.029,
          592157.048,
          374822.391,
          424492.489,
          569392.555,
          540476.577,
          569454.945,
          615595.806,
          564850.452,
          400517.37,
          385183.058,
          589693.7660000001,
          665299.679,
          624230.177,
          623750.765,
          650321.637,
          447168.663,
          390840.72000000003,
          554097.114,
          583441.191,
          661754.512,
          653142.139,
          675823.403,
          425384.099,
          415265.934,
          597897.68,
          690825.88,
          626096.232,
          617821.943,
          591073.005,
          470790.89,
          440424.933,
          618615.135,
          678129.8,
          686711.641,
          681431.236,
          703559.793,
          476796.121,
          452431.148,
          670542.016,
          658391.833,
          748174.14,
          691209.524,
          661739.048,
          530212.149,
          493610.997,
          709231.305,
          712400.497,
          707609.861,
          697920.2390000001,
          640333.365,
          483480.469,
          448507.206,
          637506.616,
          668953.961,
          733096.284,
          701863.2339999999,
          702655.63,
          516154.211,
          536002.081,
          739911.036,
          738265.682,
          755196.142,
          714945.576,
          704997.762,
          539830.548,
          510529.711,
          777222.282,
          792101.8,
          772353.4,
          763373.856,
          755661.104,
          555924.813,
          550906.002,
          768411.358,
          816652.063,
          770020.569,
          771032.215,
          773314.017,
          624053.907,
          613756.267,
          830134.946,
          866559.892,
          874426.235,
          890909.28,
          870471.333,
          690628.945,
          700570.861,
          946395.076,
          974012.28,
          950014.7660000001,
          964859.219,
          924205.78,
          694238.479,
          639985.35,
          824897.891,
          817038.591,
          808906.064,
          780248.862,
          761232.689,
          603394.909,
          588113.722,
          811965.236,
          835352.854,
          819841.38,
          695146.709,
          599106.92,
          596125.344,
          609543.771,
          719839.178,
          728146.375,
          735776.377,
          723928.633,
          576675.85,
          589648.622,
          646645.985,
          826944.099,
          828642.827,
          831483.525,
          862196.819,
          871662.127,
          724392.544,
          695560.48,
          931071.813,
          1013700.863,
          973974.083,
          877779.4,
          866327.703,
          656337.751,
          662540.689,
          857995.135,
          920830.345,
          888815.032,
          897546.085,
          884953.907,
          693857.144,
          680435.423,
          860140.597,
          834283.485,
          883117.596,
          870445.014,
          853419.501,
          667015.393,
          629435.012,
          877126.633,
          939241.228,
          993530.894,
          1003080.26,
          968090.745,
          746692.024,
          705007.922,
          908616.375,
          911051.762,
          917600.3,
          910962.902,
          872251.469,
          704274.942,
          682886.461,
          861518.592,
          835519.003,
          889341.955,
          892478.596,
          869599.922,
          725945.31,
          677204.265,
          907413.918,
          898604.156,
          863084.035,
          689744.372,
          767392.245,
          569974.221,
          571745.634,
          726970.95,
          741871.952,
          840957.53,
          838359.619,
          784988.02,
          611628.08,
          585374.939,
          837951.475,
          865370.505,
          812405.298,
          807564.078,
          788641.92,
          589096.848,
          546851.813,
          693899.794,
          683014.024,
          680802.308,
          699199.122,
          703251.061,
          584276.915,
          505647.091,
          631582.483,
          646735.131,
          702743.023,
          683128.254,
          683394.83,
          579351.743,
          496839.816,
          763183.506,
          823291.569,
          764678.626,
          758440.929,
          728956.256,
          555058.873,
          506594.224,
          772359.992,
          833440.191,
          778750.401,
          839074.103,
          765777.604,
          585892.647,
          552280.223,
          652143.771,
          635210.704,
          642179.94,
          773012.02,
          540945.285,
          443432.759,
          434412.422,
          678593.488,
          649714.232,
          630879.635,
          607193.034,
          614543.767,
          473144.862,
          481884.774,
          698036.17,
          595544.923,
          589884.44,
          649685.331,
          629762.357,
          452618.04,
          453767.278,
          638100.774,
          652459.419,
          657013.732,
          667285.434,
          616321.942,
          431065.486,
          371940.371,
          594976.816,
          604680.113,
          703231.81,
          739779.058,
          612994.098,
          441273.71,
          379478.509,
          571044.537,
          677922.735,
          599912.48,
          620658.7880000001,
          709868.345,
          416986.681,
          357696.026,
          536904.271,
          552555.303,
          637446.3319999999,
          666829.713,
          657528.837,
          443240.347,
          393372.672,
          576438.148,
          709899.598,
          628319.02,
          676290.946,
          634505.455,
          419037.725,
          368290.73,
          497361.979,
          519316.917,
          620773.904,
          548114.814,
          578980.616,
          398246.631,
          401369.432,
          568287.443,
          662203.244,
          560461.925,
          546726.313,
          513885.096,
          443152.639,
          356405.843,
          515723.038,
          465811.604,
          414815.51900000003,
          336502.012,
          313346.154,
          299682.125,
          322317.662,
          497656.365,
          569155.348,
          570127.599,
          537561.017,
          547729.727,
          413511.559,
          392081.089,
          539647.365,
          569888.595,
          577784.007,
          576640.881,
          597828.823,
          407701.821,
          382946.89400000003,
          531861.303,
          634602.039,
          545467.007,
          566595.651,
          537909.274,
          378467.067,
          392158.518,
          520795.759,
          553712.319,
          492152.94,
          518262.966,
          514249.898,
          425917.856,
          415744.30700000003,
          517420.124,
          587357.721,
          579776.76,
          575210.933,
          517682.742,
          376371.271,
          365584.626,
          638324.83,
          588714.551,
          584901.454,
          602887.645,
          571449.91,
          487486.38,
          425836.821,
          630324.975,
          605516.485,
          601204.597,
          599913.615,
          603517.391,
          461209.662,
          450443.64400000003,
          640143.677,
          647617.242,
          685015.378,
          660276.648,
          640389.8099999999,
          460176.898,
          458525.48,
          725111.43,
          673969.387,
          720880.533,
          728013.1,
          672916.926,
          475799.922,
          458385.128,
          722470.531,
          781668.425,
          701495.522,
          679899.272,
          639229.296,
          483224.627,
          468381.742,
          683488.559,
          677933.171,
          709861.41,
          700618.249,
          618592.904,
          465538.468,
          433874.395,
          669897.11,
          777776.263,
          783950.372,
          749027.552,
          716804.16,
          510983.966,
          476791.758,
          703097.998,
          727760.722,
          738601.945,
          704574.279,
          702615.368,
          482652.995,
          478712.596,
          678837.267,
          666067.513,
          690109.342,
          772814.519,
          717817.765,
          523241.11699999997,
          533568.953,
          801618.703,
          859640.863,
          863529.477,
          835814.379,
          763474.128,
          551503.451,
          506056.99,
          764956.893,
          842809.947,
          754833.014,
          833511.956,
          815147.241,
          582779.211,
          594831.39,
          805298.536,
          864867.211,
          845804.892,
          859101.2,
          850689.887,
          592021.992,
          635868.882,
          815759.175,
          936299.269,
          881884.965,
          894904.701,
          857682.685,
          653653.905,
          609317.788,
          806678.311,
          885328.147,
          878655.633,
          895873.0599999999,
          873453.573,
          708886.525,
          658261.296,
          864582.372,
          884511.956,
          882158.048,
          888825.521,
          881019.737,
          618643.49,
          603794.948,
          926177.64,
          960295.175,
          961669.153,
          997631.051,
          982742.86,
          810621.547,
          817652.247,
          1080050.633,
          1070986.571,
          1065327.294,
          1070473.051,
          1053466.255,
          856228.565,
          836059.762,
          1063824.02,
          1074558.567,
          1075209.026,
          1084958.309,
          1131938.688,
          919756.052,
          874202.676,
          1094278.995,
          1133468.971,
          1125024.716,
          1118787.557,
          1115980.81,
          909783.672,
          910091.404,
          1108665.373,
          1141813.574,
          1126144.82,
          1144989.325,
          1109489.771,
          914384.104,
          880232.662,
          1030535.357,
          1070584.858,
          985996.699,
          918103.228,
          817763.593,
          721628.726,
          747910.407,
          828814.342,
          914978.318,
          876023.946,
          877429.6140000001,
          808615.589,
          690478.833,
          678636.238,
          957933.198,
          1015488.496,
          1055589.034,
          1135285.146,
          1152901.111,
          1024876.385,
          987139.506,
          1194267.287,
          1179616.774,
          1117411.43,
          1118734.533,
          1058134.101,
          815647.36,
          812044.851,
          1044394.935,
          1104758.694,
          1083324.859,
          1086046.415,
          1089469.661,
          889712.388,
          897196.589,
          1189459.503,
          1159272.823,
          1120771.106,
          1111071.265,
          1074914.394,
          888906.596,
          824081.361,
          1064525.64,
          1058860.704,
          1138381.9070000001,
          1137942.596,
          1154501.591,
          953335.3640000001,
          914256.125,
          1130195.279,
          1149298.81,
          1143942.454,
          1091182.615,
          1083419.067,
          888123.86,
          866672.76,
          1012343.91,
          970478.776,
          1049635.241,
          1097430.921,
          1087253.163,
          868346.652,
          865231.949,
          1133366.112,
          1190142.202,
          1218506.81,
          1169146.766,
          925358.65,
          912425.13,
          907550.89,
          1097585.53,
          1039560.253,
          986857.919,
          934139.726,
          933530.382,
          868473.192,
          870820.658,
          1118098.49,
          1150536.23,
          1164384.837,
          1137526.688,
          1119960.009,
          951829.901,
          846267.265,
          1051010.235,
          987267.607,
          902738.396,
          908009.833,
          894453.183,
          697743.9400000001,
          703682.443,
          897487.964,
          915862.6,
          1013776.831,
          884965.478,
          874655.426,
          672873.672,
          686930.604,
          998358.03,
          948202.157,
          937421.521,
          1031819.175,
          1007784.713,
          724503.84,
          601091.34,
          860347.716,
          874576.382,
          1061040.648,
          910529.567,
          587356.54,
          544470.043,
          532508.165,
          707862.034,
          757880.192,
          728562.215,
          807960.383,
          711735.257,
          560107.784,
          553502.157,
          731289.1849999999,
          741402.647,
          675016.423,
          678798.797,
          674138.11,
          477841.32,
          453250.967,
          678620.949,
          696153.505,
          726885.787,
          748069.354,
          716921.727,
          533336.235,
          537498.67,
          539922.894,
          780289.291,
          715495.244,
          739493.219,
          789437.346,
          558513.026,
          503489.379,
          670328.124,
          661159.673,
          655265.54,
          644131.46,
          605608.028,
          451591.101,
          436688.407,
          623636.151,
          836422.879,
          711975.308,
          621930.889,
          603393.953,
          446728.245,
          438497.264,
          638716.262,
          637593.071,
          621441.013,
          695600.163,
          615020.329,
          427683.89400000003,
          415896.573,
          603023.774,
          638906.371,
          612491.059
         ]
        }
       ],
       "layout": {
        "annotations": [
         {
          "showarrow": false,
          "text": "Average Consumption",
          "x": 1,
          "xanchor": "right",
          "xref": "x domain",
          "y": 728548.4439169279,
          "yanchor": "top",
          "yref": "y"
         }
        ],
        "plot_bgcolor": "rgba(0,0,0,0)",
        "shapes": [
         {
          "line": {
           "color": "blue",
           "dash": "dot",
           "width": 2
          },
          "type": "line",
          "x0": 0,
          "x1": 1,
          "xref": "x domain",
          "y0": 728548.4439169279,
          "y1": 728548.4439169279,
          "yref": "y"
         }
        ],
        "template": {
         "data": {
          "bar": [
           {
            "error_x": {
             "color": "#2a3f5f"
            },
            "error_y": {
             "color": "#2a3f5f"
            },
            "marker": {
             "line": {
              "color": "#E5ECF6",
              "width": 0.5
             },
             "pattern": {
              "fillmode": "overlay",
              "size": 10,
              "solidity": 0.2
             }
            },
            "type": "bar"
           }
          ],
          "barpolar": [
           {
            "marker": {
             "line": {
              "color": "#E5ECF6",
              "width": 0.5
             },
             "pattern": {
              "fillmode": "overlay",
              "size": 10,
              "solidity": 0.2
             }
            },
            "type": "barpolar"
           }
          ],
          "carpet": [
           {
            "aaxis": {
             "endlinecolor": "#2a3f5f",
             "gridcolor": "white",
             "linecolor": "white",
             "minorgridcolor": "white",
             "startlinecolor": "#2a3f5f"
            },
            "baxis": {
             "endlinecolor": "#2a3f5f",
             "gridcolor": "white",
             "linecolor": "white",
             "minorgridcolor": "white",
             "startlinecolor": "#2a3f5f"
            },
            "type": "carpet"
           }
          ],
          "choropleth": [
           {
            "colorbar": {
             "outlinewidth": 0,
             "ticks": ""
            },
            "type": "choropleth"
           }
          ],
          "contour": [
           {
            "colorbar": {
             "outlinewidth": 0,
             "ticks": ""
            },
            "colorscale": [
             [
              0,
              "#0d0887"
             ],
             [
              0.1111111111111111,
              "#46039f"
             ],
             [
              0.2222222222222222,
              "#7201a8"
             ],
             [
              0.3333333333333333,
              "#9c179e"
             ],
             [
              0.4444444444444444,
              "#bd3786"
             ],
             [
              0.5555555555555556,
              "#d8576b"
             ],
             [
              0.6666666666666666,
              "#ed7953"
             ],
             [
              0.7777777777777778,
              "#fb9f3a"
             ],
             [
              0.8888888888888888,
              "#fdca26"
             ],
             [
              1,
              "#f0f921"
             ]
            ],
            "type": "contour"
           }
          ],
          "contourcarpet": [
           {
            "colorbar": {
             "outlinewidth": 0,
             "ticks": ""
            },
            "type": "contourcarpet"
           }
          ],
          "heatmap": [
           {
            "colorbar": {
             "outlinewidth": 0,
             "ticks": ""
            },
            "colorscale": [
             [
              0,
              "#0d0887"
             ],
             [
              0.1111111111111111,
              "#46039f"
             ],
             [
              0.2222222222222222,
              "#7201a8"
             ],
             [
              0.3333333333333333,
              "#9c179e"
             ],
             [
              0.4444444444444444,
              "#bd3786"
             ],
             [
              0.5555555555555556,
              "#d8576b"
             ],
             [
              0.6666666666666666,
              "#ed7953"
             ],
             [
              0.7777777777777778,
              "#fb9f3a"
             ],
             [
              0.8888888888888888,
              "#fdca26"
             ],
             [
              1,
              "#f0f921"
             ]
            ],
            "type": "heatmap"
           }
          ],
          "heatmapgl": [
           {
            "colorbar": {
             "outlinewidth": 0,
             "ticks": ""
            },
            "colorscale": [
             [
              0,
              "#0d0887"
             ],
             [
              0.1111111111111111,
              "#46039f"
             ],
             [
              0.2222222222222222,
              "#7201a8"
             ],
             [
              0.3333333333333333,
              "#9c179e"
             ],
             [
              0.4444444444444444,
              "#bd3786"
             ],
             [
              0.5555555555555556,
              "#d8576b"
             ],
             [
              0.6666666666666666,
              "#ed7953"
             ],
             [
              0.7777777777777778,
              "#fb9f3a"
             ],
             [
              0.8888888888888888,
              "#fdca26"
             ],
             [
              1,
              "#f0f921"
             ]
            ],
            "type": "heatmapgl"
           }
          ],
          "histogram": [
           {
            "marker": {
             "pattern": {
              "fillmode": "overlay",
              "size": 10,
              "solidity": 0.2
             }
            },
            "type": "histogram"
           }
          ],
          "histogram2d": [
           {
            "colorbar": {
             "outlinewidth": 0,
             "ticks": ""
            },
            "colorscale": [
             [
              0,
              "#0d0887"
             ],
             [
              0.1111111111111111,
              "#46039f"
             ],
             [
              0.2222222222222222,
              "#7201a8"
             ],
             [
              0.3333333333333333,
              "#9c179e"
             ],
             [
              0.4444444444444444,
              "#bd3786"
             ],
             [
              0.5555555555555556,
              "#d8576b"
             ],
             [
              0.6666666666666666,
              "#ed7953"
             ],
             [
              0.7777777777777778,
              "#fb9f3a"
             ],
             [
              0.8888888888888888,
              "#fdca26"
             ],
             [
              1,
              "#f0f921"
             ]
            ],
            "type": "histogram2d"
           }
          ],
          "histogram2dcontour": [
           {
            "colorbar": {
             "outlinewidth": 0,
             "ticks": ""
            },
            "colorscale": [
             [
              0,
              "#0d0887"
             ],
             [
              0.1111111111111111,
              "#46039f"
             ],
             [
              0.2222222222222222,
              "#7201a8"
             ],
             [
              0.3333333333333333,
              "#9c179e"
             ],
             [
              0.4444444444444444,
              "#bd3786"
             ],
             [
              0.5555555555555556,
              "#d8576b"
             ],
             [
              0.6666666666666666,
              "#ed7953"
             ],
             [
              0.7777777777777778,
              "#fb9f3a"
             ],
             [
              0.8888888888888888,
              "#fdca26"
             ],
             [
              1,
              "#f0f921"
             ]
            ],
            "type": "histogram2dcontour"
           }
          ],
          "mesh3d": [
           {
            "colorbar": {
             "outlinewidth": 0,
             "ticks": ""
            },
            "type": "mesh3d"
           }
          ],
          "parcoords": [
           {
            "line": {
             "colorbar": {
              "outlinewidth": 0,
              "ticks": ""
             }
            },
            "type": "parcoords"
           }
          ],
          "pie": [
           {
            "automargin": true,
            "type": "pie"
           }
          ],
          "scatter": [
           {
            "fillpattern": {
             "fillmode": "overlay",
             "size": 10,
             "solidity": 0.2
            },
            "type": "scatter"
           }
          ],
          "scatter3d": [
           {
            "line": {
             "colorbar": {
              "outlinewidth": 0,
              "ticks": ""
             }
            },
            "marker": {
             "colorbar": {
              "outlinewidth": 0,
              "ticks": ""
             }
            },
            "type": "scatter3d"
           }
          ],
          "scattercarpet": [
           {
            "marker": {
             "colorbar": {
              "outlinewidth": 0,
              "ticks": ""
             }
            },
            "type": "scattercarpet"
           }
          ],
          "scattergeo": [
           {
            "marker": {
             "colorbar": {
              "outlinewidth": 0,
              "ticks": ""
             }
            },
            "type": "scattergeo"
           }
          ],
          "scattergl": [
           {
            "marker": {
             "colorbar": {
              "outlinewidth": 0,
              "ticks": ""
             }
            },
            "type": "scattergl"
           }
          ],
          "scattermapbox": [
           {
            "marker": {
             "colorbar": {
              "outlinewidth": 0,
              "ticks": ""
             }
            },
            "type": "scattermapbox"
           }
          ],
          "scatterpolar": [
           {
            "marker": {
             "colorbar": {
              "outlinewidth": 0,
              "ticks": ""
             }
            },
            "type": "scatterpolar"
           }
          ],
          "scatterpolargl": [
           {
            "marker": {
             "colorbar": {
              "outlinewidth": 0,
              "ticks": ""
             }
            },
            "type": "scatterpolargl"
           }
          ],
          "scatterternary": [
           {
            "marker": {
             "colorbar": {
              "outlinewidth": 0,
              "ticks": ""
             }
            },
            "type": "scatterternary"
           }
          ],
          "surface": [
           {
            "colorbar": {
             "outlinewidth": 0,
             "ticks": ""
            },
            "colorscale": [
             [
              0,
              "#0d0887"
             ],
             [
              0.1111111111111111,
              "#46039f"
             ],
             [
              0.2222222222222222,
              "#7201a8"
             ],
             [
              0.3333333333333333,
              "#9c179e"
             ],
             [
              0.4444444444444444,
              "#bd3786"
             ],
             [
              0.5555555555555556,
              "#d8576b"
             ],
             [
              0.6666666666666666,
              "#ed7953"
             ],
             [
              0.7777777777777778,
              "#fb9f3a"
             ],
             [
              0.8888888888888888,
              "#fdca26"
             ],
             [
              1,
              "#f0f921"
             ]
            ],
            "type": "surface"
           }
          ],
          "table": [
           {
            "cells": {
             "fill": {
              "color": "#EBF0F8"
             },
             "line": {
              "color": "white"
             }
            },
            "header": {
             "fill": {
              "color": "#C8D4E3"
             },
             "line": {
              "color": "white"
             }
            },
            "type": "table"
           }
          ]
         },
         "layout": {
          "annotationdefaults": {
           "arrowcolor": "#2a3f5f",
           "arrowhead": 0,
           "arrowwidth": 1
          },
          "autotypenumbers": "strict",
          "coloraxis": {
           "colorbar": {
            "outlinewidth": 0,
            "ticks": ""
           }
          },
          "colorscale": {
           "diverging": [
            [
             0,
             "#8e0152"
            ],
            [
             0.1,
             "#c51b7d"
            ],
            [
             0.2,
             "#de77ae"
            ],
            [
             0.3,
             "#f1b6da"
            ],
            [
             0.4,
             "#fde0ef"
            ],
            [
             0.5,
             "#f7f7f7"
            ],
            [
             0.6,
             "#e6f5d0"
            ],
            [
             0.7,
             "#b8e186"
            ],
            [
             0.8,
             "#7fbc41"
            ],
            [
             0.9,
             "#4d9221"
            ],
            [
             1,
             "#276419"
            ]
           ],
           "sequential": [
            [
             0,
             "#0d0887"
            ],
            [
             0.1111111111111111,
             "#46039f"
            ],
            [
             0.2222222222222222,
             "#7201a8"
            ],
            [
             0.3333333333333333,
             "#9c179e"
            ],
            [
             0.4444444444444444,
             "#bd3786"
            ],
            [
             0.5555555555555556,
             "#d8576b"
            ],
            [
             0.6666666666666666,
             "#ed7953"
            ],
            [
             0.7777777777777778,
             "#fb9f3a"
            ],
            [
             0.8888888888888888,
             "#fdca26"
            ],
            [
             1,
             "#f0f921"
            ]
           ],
           "sequentialminus": [
            [
             0,
             "#0d0887"
            ],
            [
             0.1111111111111111,
             "#46039f"
            ],
            [
             0.2222222222222222,
             "#7201a8"
            ],
            [
             0.3333333333333333,
             "#9c179e"
            ],
            [
             0.4444444444444444,
             "#bd3786"
            ],
            [
             0.5555555555555556,
             "#d8576b"
            ],
            [
             0.6666666666666666,
             "#ed7953"
            ],
            [
             0.7777777777777778,
             "#fb9f3a"
            ],
            [
             0.8888888888888888,
             "#fdca26"
            ],
            [
             1,
             "#f0f921"
            ]
           ]
          },
          "colorway": [
           "#636efa",
           "#EF553B",
           "#00cc96",
           "#ab63fa",
           "#FFA15A",
           "#19d3f3",
           "#FF6692",
           "#B6E880",
           "#FF97FF",
           "#FECB52"
          ],
          "font": {
           "color": "#2a3f5f"
          },
          "geo": {
           "bgcolor": "white",
           "lakecolor": "white",
           "landcolor": "#E5ECF6",
           "showlakes": true,
           "showland": true,
           "subunitcolor": "white"
          },
          "hoverlabel": {
           "align": "left"
          },
          "hovermode": "closest",
          "mapbox": {
           "style": "light"
          },
          "paper_bgcolor": "white",
          "plot_bgcolor": "#E5ECF6",
          "polar": {
           "angularaxis": {
            "gridcolor": "white",
            "linecolor": "white",
            "ticks": ""
           },
           "bgcolor": "#E5ECF6",
           "radialaxis": {
            "gridcolor": "white",
            "linecolor": "white",
            "ticks": ""
           }
          },
          "scene": {
           "xaxis": {
            "backgroundcolor": "#E5ECF6",
            "gridcolor": "white",
            "gridwidth": 2,
            "linecolor": "white",
            "showbackground": true,
            "ticks": "",
            "zerolinecolor": "white"
           },
           "yaxis": {
            "backgroundcolor": "#E5ECF6",
            "gridcolor": "white",
            "gridwidth": 2,
            "linecolor": "white",
            "showbackground": true,
            "ticks": "",
            "zerolinecolor": "white"
           },
           "zaxis": {
            "backgroundcolor": "#E5ECF6",
            "gridcolor": "white",
            "gridwidth": 2,
            "linecolor": "white",
            "showbackground": true,
            "ticks": "",
            "zerolinecolor": "white"
           }
          },
          "shapedefaults": {
           "line": {
            "color": "#2a3f5f"
           }
          },
          "ternary": {
           "aaxis": {
            "gridcolor": "white",
            "linecolor": "white",
            "ticks": ""
           },
           "baxis": {
            "gridcolor": "white",
            "linecolor": "white",
            "ticks": ""
           },
           "bgcolor": "#E5ECF6",
           "caxis": {
            "gridcolor": "white",
            "linecolor": "white",
            "ticks": ""
           }
          },
          "title": {
           "x": 0.05
          },
          "xaxis": {
           "automargin": true,
           "gridcolor": "white",
           "linecolor": "white",
           "ticks": "",
           "title": {
            "standoff": 15
           },
           "zerolinecolor": "white",
           "zerolinewidth": 2
          },
          "yaxis": {
           "automargin": true,
           "gridcolor": "white",
           "linecolor": "white",
           "ticks": "",
           "title": {
            "standoff": 15
           },
           "zerolinecolor": "white",
           "zerolinewidth": 2
          }
         }
        },
        "title": {
         "text": "1. Análisis Diario de Consumo"
        },
        "xaxis": {
         "gridcolor": "lightgrey",
         "title": {
          "text": "Date"
         }
        },
        "yaxis": {
         "gridcolor": "lightgrey",
         "title": {
          "text": "Consumption"
         }
        }
       }
      }
     },
     "metadata": {},
     "output_type": "display_data"
    }
   ],
   "source": [
    "# Convertir a tipo datetime\n",
    "train['datetime'] = pd.to_datetime(train['datetime'])\n",
    "\n",
    "# Filtrar solo las filas de consumo\n",
    "consumption_data = train[train['is_consumption'] == 1]\n",
    "\n",
    "# Resumir datos de consumo por día\n",
    "dailyCons = consumption_data.resample('D', on='datetime').sum()\n",
    "\n",
    "# Calcular el consumo promedio diario\n",
    "meanConsumption = dailyCons['target'].mean()\n",
    "\n",
    "# Crear la gráfica de área\n",
    "fig = go.Figure()\n",
    "\n",
    "# Añadir la traza de área para el consumo diario\n",
    "fig.add_trace(go.Scatter(\n",
    "    x=dailyCons.index, y=dailyCons['target'],\n",
    "    fill='tozeroy',\n",
    "    mode='none',  # Ocultar las líneas\n",
    "    name='Daily Consumption',\n",
    "    fillcolor='rgba(250, 22, 63, 0.6)'  # Color del área con transparencia\n",
    "))\n",
    "\n",
    "# Añadir la línea horizontal indicando el consumo promedio\n",
    "fig.add_hline(y=meanConsumption, line_dash=\"dot\",\n",
    "              annotation_text=\"Average Consumption\",\n",
    "              annotation_position=\"bottom right\",\n",
    "              line=dict(color='blue', width=2))\n",
    "\n",
    "# Personalizar la apariencia de la gráfica\n",
    "fig.update_layout(\n",
    "    title='1. Análisis Diario de Consumo',\n",
    "    xaxis_title='Date',\n",
    "    yaxis_title='Consumption',\n",
    "    plot_bgcolor='rgba(0,0,0,0)',  # Fondo transparente\n",
    "    yaxis=dict(\n",
    "        gridcolor='lightgrey'  # Color de las líneas de la cuadrícula\n",
    "    ),\n",
    "    xaxis=dict(\n",
    "        gridcolor='lightgrey'  # Color de las líneas de la cuadrícula\n",
    "    )\n",
    ")\n",
    "\n",
    "# Mostrar la gráfica\n",
    "fig.show()"
   ]
  },
  {
   "cell_type": "code",
   "execution_count": 8,
   "metadata": {},
   "outputs": [
    {
     "data": {
      "application/vnd.plotly.v1+json": {
       "config": {
        "plotlyServerURL": "https://plot.ly"
       },
       "data": [
        {
         "fill": "tozeroy",
         "fillcolor": "rgba(66, 125, 157, 0.6)",
         "mode": "none",
         "name": "Daily Production",
         "type": "scatter",
         "x": [
          "2021-09-01T00:00:00",
          "2021-09-02T00:00:00",
          "2021-09-03T00:00:00",
          "2021-09-04T00:00:00",
          "2021-09-05T00:00:00",
          "2021-09-06T00:00:00",
          "2021-09-07T00:00:00",
          "2021-09-08T00:00:00",
          "2021-09-09T00:00:00",
          "2021-09-10T00:00:00",
          "2021-09-11T00:00:00",
          "2021-09-12T00:00:00",
          "2021-09-13T00:00:00",
          "2021-09-14T00:00:00",
          "2021-09-15T00:00:00",
          "2021-09-16T00:00:00",
          "2021-09-17T00:00:00",
          "2021-09-18T00:00:00",
          "2021-09-19T00:00:00",
          "2021-09-20T00:00:00",
          "2021-09-21T00:00:00",
          "2021-09-22T00:00:00",
          "2021-09-23T00:00:00",
          "2021-09-24T00:00:00",
          "2021-09-25T00:00:00",
          "2021-09-26T00:00:00",
          "2021-09-27T00:00:00",
          "2021-09-28T00:00:00",
          "2021-09-29T00:00:00",
          "2021-09-30T00:00:00",
          "2021-10-01T00:00:00",
          "2021-10-02T00:00:00",
          "2021-10-03T00:00:00",
          "2021-10-04T00:00:00",
          "2021-10-05T00:00:00",
          "2021-10-06T00:00:00",
          "2021-10-07T00:00:00",
          "2021-10-08T00:00:00",
          "2021-10-09T00:00:00",
          "2021-10-10T00:00:00",
          "2021-10-11T00:00:00",
          "2021-10-12T00:00:00",
          "2021-10-13T00:00:00",
          "2021-10-14T00:00:00",
          "2021-10-15T00:00:00",
          "2021-10-16T00:00:00",
          "2021-10-17T00:00:00",
          "2021-10-18T00:00:00",
          "2021-10-19T00:00:00",
          "2021-10-20T00:00:00",
          "2021-10-21T00:00:00",
          "2021-10-22T00:00:00",
          "2021-10-23T00:00:00",
          "2021-10-24T00:00:00",
          "2021-10-25T00:00:00",
          "2021-10-26T00:00:00",
          "2021-10-27T00:00:00",
          "2021-10-28T00:00:00",
          "2021-10-29T00:00:00",
          "2021-10-30T00:00:00",
          "2021-10-31T00:00:00",
          "2021-11-01T00:00:00",
          "2021-11-02T00:00:00",
          "2021-11-03T00:00:00",
          "2021-11-04T00:00:00",
          "2021-11-05T00:00:00",
          "2021-11-06T00:00:00",
          "2021-11-07T00:00:00",
          "2021-11-08T00:00:00",
          "2021-11-09T00:00:00",
          "2021-11-10T00:00:00",
          "2021-11-11T00:00:00",
          "2021-11-12T00:00:00",
          "2021-11-13T00:00:00",
          "2021-11-14T00:00:00",
          "2021-11-15T00:00:00",
          "2021-11-16T00:00:00",
          "2021-11-17T00:00:00",
          "2021-11-18T00:00:00",
          "2021-11-19T00:00:00",
          "2021-11-20T00:00:00",
          "2021-11-21T00:00:00",
          "2021-11-22T00:00:00",
          "2021-11-23T00:00:00",
          "2021-11-24T00:00:00",
          "2021-11-25T00:00:00",
          "2021-11-26T00:00:00",
          "2021-11-27T00:00:00",
          "2021-11-28T00:00:00",
          "2021-11-29T00:00:00",
          "2021-11-30T00:00:00",
          "2021-12-01T00:00:00",
          "2021-12-02T00:00:00",
          "2021-12-03T00:00:00",
          "2021-12-04T00:00:00",
          "2021-12-05T00:00:00",
          "2021-12-06T00:00:00",
          "2021-12-07T00:00:00",
          "2021-12-08T00:00:00",
          "2021-12-09T00:00:00",
          "2021-12-10T00:00:00",
          "2021-12-11T00:00:00",
          "2021-12-12T00:00:00",
          "2021-12-13T00:00:00",
          "2021-12-14T00:00:00",
          "2021-12-15T00:00:00",
          "2021-12-16T00:00:00",
          "2021-12-17T00:00:00",
          "2021-12-18T00:00:00",
          "2021-12-19T00:00:00",
          "2021-12-20T00:00:00",
          "2021-12-21T00:00:00",
          "2021-12-22T00:00:00",
          "2021-12-23T00:00:00",
          "2021-12-24T00:00:00",
          "2021-12-25T00:00:00",
          "2021-12-26T00:00:00",
          "2021-12-27T00:00:00",
          "2021-12-28T00:00:00",
          "2021-12-29T00:00:00",
          "2021-12-30T00:00:00",
          "2021-12-31T00:00:00",
          "2022-01-01T00:00:00",
          "2022-01-02T00:00:00",
          "2022-01-03T00:00:00",
          "2022-01-04T00:00:00",
          "2022-01-05T00:00:00",
          "2022-01-06T00:00:00",
          "2022-01-07T00:00:00",
          "2022-01-08T00:00:00",
          "2022-01-09T00:00:00",
          "2022-01-10T00:00:00",
          "2022-01-11T00:00:00",
          "2022-01-12T00:00:00",
          "2022-01-13T00:00:00",
          "2022-01-14T00:00:00",
          "2022-01-15T00:00:00",
          "2022-01-16T00:00:00",
          "2022-01-17T00:00:00",
          "2022-01-18T00:00:00",
          "2022-01-19T00:00:00",
          "2022-01-20T00:00:00",
          "2022-01-21T00:00:00",
          "2022-01-22T00:00:00",
          "2022-01-23T00:00:00",
          "2022-01-24T00:00:00",
          "2022-01-25T00:00:00",
          "2022-01-26T00:00:00",
          "2022-01-27T00:00:00",
          "2022-01-28T00:00:00",
          "2022-01-29T00:00:00",
          "2022-01-30T00:00:00",
          "2022-01-31T00:00:00",
          "2022-02-01T00:00:00",
          "2022-02-02T00:00:00",
          "2022-02-03T00:00:00",
          "2022-02-04T00:00:00",
          "2022-02-05T00:00:00",
          "2022-02-06T00:00:00",
          "2022-02-07T00:00:00",
          "2022-02-08T00:00:00",
          "2022-02-09T00:00:00",
          "2022-02-10T00:00:00",
          "2022-02-11T00:00:00",
          "2022-02-12T00:00:00",
          "2022-02-13T00:00:00",
          "2022-02-14T00:00:00",
          "2022-02-15T00:00:00",
          "2022-02-16T00:00:00",
          "2022-02-17T00:00:00",
          "2022-02-18T00:00:00",
          "2022-02-19T00:00:00",
          "2022-02-20T00:00:00",
          "2022-02-21T00:00:00",
          "2022-02-22T00:00:00",
          "2022-02-23T00:00:00",
          "2022-02-24T00:00:00",
          "2022-02-25T00:00:00",
          "2022-02-26T00:00:00",
          "2022-02-27T00:00:00",
          "2022-02-28T00:00:00",
          "2022-03-01T00:00:00",
          "2022-03-02T00:00:00",
          "2022-03-03T00:00:00",
          "2022-03-04T00:00:00",
          "2022-03-05T00:00:00",
          "2022-03-06T00:00:00",
          "2022-03-07T00:00:00",
          "2022-03-08T00:00:00",
          "2022-03-09T00:00:00",
          "2022-03-10T00:00:00",
          "2022-03-11T00:00:00",
          "2022-03-12T00:00:00",
          "2022-03-13T00:00:00",
          "2022-03-14T00:00:00",
          "2022-03-15T00:00:00",
          "2022-03-16T00:00:00",
          "2022-03-17T00:00:00",
          "2022-03-18T00:00:00",
          "2022-03-19T00:00:00",
          "2022-03-20T00:00:00",
          "2022-03-21T00:00:00",
          "2022-03-22T00:00:00",
          "2022-03-23T00:00:00",
          "2022-03-24T00:00:00",
          "2022-03-25T00:00:00",
          "2022-03-26T00:00:00",
          "2022-03-27T00:00:00",
          "2022-03-28T00:00:00",
          "2022-03-29T00:00:00",
          "2022-03-30T00:00:00",
          "2022-03-31T00:00:00",
          "2022-04-01T00:00:00",
          "2022-04-02T00:00:00",
          "2022-04-03T00:00:00",
          "2022-04-04T00:00:00",
          "2022-04-05T00:00:00",
          "2022-04-06T00:00:00",
          "2022-04-07T00:00:00",
          "2022-04-08T00:00:00",
          "2022-04-09T00:00:00",
          "2022-04-10T00:00:00",
          "2022-04-11T00:00:00",
          "2022-04-12T00:00:00",
          "2022-04-13T00:00:00",
          "2022-04-14T00:00:00",
          "2022-04-15T00:00:00",
          "2022-04-16T00:00:00",
          "2022-04-17T00:00:00",
          "2022-04-18T00:00:00",
          "2022-04-19T00:00:00",
          "2022-04-20T00:00:00",
          "2022-04-21T00:00:00",
          "2022-04-22T00:00:00",
          "2022-04-23T00:00:00",
          "2022-04-24T00:00:00",
          "2022-04-25T00:00:00",
          "2022-04-26T00:00:00",
          "2022-04-27T00:00:00",
          "2022-04-28T00:00:00",
          "2022-04-29T00:00:00",
          "2022-04-30T00:00:00",
          "2022-05-01T00:00:00",
          "2022-05-02T00:00:00",
          "2022-05-03T00:00:00",
          "2022-05-04T00:00:00",
          "2022-05-05T00:00:00",
          "2022-05-06T00:00:00",
          "2022-05-07T00:00:00",
          "2022-05-08T00:00:00",
          "2022-05-09T00:00:00",
          "2022-05-10T00:00:00",
          "2022-05-11T00:00:00",
          "2022-05-12T00:00:00",
          "2022-05-13T00:00:00",
          "2022-05-14T00:00:00",
          "2022-05-15T00:00:00",
          "2022-05-16T00:00:00",
          "2022-05-17T00:00:00",
          "2022-05-18T00:00:00",
          "2022-05-19T00:00:00",
          "2022-05-20T00:00:00",
          "2022-05-21T00:00:00",
          "2022-05-22T00:00:00",
          "2022-05-23T00:00:00",
          "2022-05-24T00:00:00",
          "2022-05-25T00:00:00",
          "2022-05-26T00:00:00",
          "2022-05-27T00:00:00",
          "2022-05-28T00:00:00",
          "2022-05-29T00:00:00",
          "2022-05-30T00:00:00",
          "2022-05-31T00:00:00",
          "2022-06-01T00:00:00",
          "2022-06-02T00:00:00",
          "2022-06-03T00:00:00",
          "2022-06-04T00:00:00",
          "2022-06-05T00:00:00",
          "2022-06-06T00:00:00",
          "2022-06-07T00:00:00",
          "2022-06-08T00:00:00",
          "2022-06-09T00:00:00",
          "2022-06-10T00:00:00",
          "2022-06-11T00:00:00",
          "2022-06-12T00:00:00",
          "2022-06-13T00:00:00",
          "2022-06-14T00:00:00",
          "2022-06-15T00:00:00",
          "2022-06-16T00:00:00",
          "2022-06-17T00:00:00",
          "2022-06-18T00:00:00",
          "2022-06-19T00:00:00",
          "2022-06-20T00:00:00",
          "2022-06-21T00:00:00",
          "2022-06-22T00:00:00",
          "2022-06-23T00:00:00",
          "2022-06-24T00:00:00",
          "2022-06-25T00:00:00",
          "2022-06-26T00:00:00",
          "2022-06-27T00:00:00",
          "2022-06-28T00:00:00",
          "2022-06-29T00:00:00",
          "2022-06-30T00:00:00",
          "2022-07-01T00:00:00",
          "2022-07-02T00:00:00",
          "2022-07-03T00:00:00",
          "2022-07-04T00:00:00",
          "2022-07-05T00:00:00",
          "2022-07-06T00:00:00",
          "2022-07-07T00:00:00",
          "2022-07-08T00:00:00",
          "2022-07-09T00:00:00",
          "2022-07-10T00:00:00",
          "2022-07-11T00:00:00",
          "2022-07-12T00:00:00",
          "2022-07-13T00:00:00",
          "2022-07-14T00:00:00",
          "2022-07-15T00:00:00",
          "2022-07-16T00:00:00",
          "2022-07-17T00:00:00",
          "2022-07-18T00:00:00",
          "2022-07-19T00:00:00",
          "2022-07-20T00:00:00",
          "2022-07-21T00:00:00",
          "2022-07-22T00:00:00",
          "2022-07-23T00:00:00",
          "2022-07-24T00:00:00",
          "2022-07-25T00:00:00",
          "2022-07-26T00:00:00",
          "2022-07-27T00:00:00",
          "2022-07-28T00:00:00",
          "2022-07-29T00:00:00",
          "2022-07-30T00:00:00",
          "2022-07-31T00:00:00",
          "2022-08-01T00:00:00",
          "2022-08-02T00:00:00",
          "2022-08-03T00:00:00",
          "2022-08-04T00:00:00",
          "2022-08-05T00:00:00",
          "2022-08-06T00:00:00",
          "2022-08-07T00:00:00",
          "2022-08-08T00:00:00",
          "2022-08-09T00:00:00",
          "2022-08-10T00:00:00",
          "2022-08-11T00:00:00",
          "2022-08-12T00:00:00",
          "2022-08-13T00:00:00",
          "2022-08-14T00:00:00",
          "2022-08-15T00:00:00",
          "2022-08-16T00:00:00",
          "2022-08-17T00:00:00",
          "2022-08-18T00:00:00",
          "2022-08-19T00:00:00",
          "2022-08-20T00:00:00",
          "2022-08-21T00:00:00",
          "2022-08-22T00:00:00",
          "2022-08-23T00:00:00",
          "2022-08-24T00:00:00",
          "2022-08-25T00:00:00",
          "2022-08-26T00:00:00",
          "2022-08-27T00:00:00",
          "2022-08-28T00:00:00",
          "2022-08-29T00:00:00",
          "2022-08-30T00:00:00",
          "2022-08-31T00:00:00",
          "2022-09-01T00:00:00",
          "2022-09-02T00:00:00",
          "2022-09-03T00:00:00",
          "2022-09-04T00:00:00",
          "2022-09-05T00:00:00",
          "2022-09-06T00:00:00",
          "2022-09-07T00:00:00",
          "2022-09-08T00:00:00",
          "2022-09-09T00:00:00",
          "2022-09-10T00:00:00",
          "2022-09-11T00:00:00",
          "2022-09-12T00:00:00",
          "2022-09-13T00:00:00",
          "2022-09-14T00:00:00",
          "2022-09-15T00:00:00",
          "2022-09-16T00:00:00",
          "2022-09-17T00:00:00",
          "2022-09-18T00:00:00",
          "2022-09-19T00:00:00",
          "2022-09-20T00:00:00",
          "2022-09-21T00:00:00",
          "2022-09-22T00:00:00",
          "2022-09-23T00:00:00",
          "2022-09-24T00:00:00",
          "2022-09-25T00:00:00",
          "2022-09-26T00:00:00",
          "2022-09-27T00:00:00",
          "2022-09-28T00:00:00",
          "2022-09-29T00:00:00",
          "2022-09-30T00:00:00",
          "2022-10-01T00:00:00",
          "2022-10-02T00:00:00",
          "2022-10-03T00:00:00",
          "2022-10-04T00:00:00",
          "2022-10-05T00:00:00",
          "2022-10-06T00:00:00",
          "2022-10-07T00:00:00",
          "2022-10-08T00:00:00",
          "2022-10-09T00:00:00",
          "2022-10-10T00:00:00",
          "2022-10-11T00:00:00",
          "2022-10-12T00:00:00",
          "2022-10-13T00:00:00",
          "2022-10-14T00:00:00",
          "2022-10-15T00:00:00",
          "2022-10-16T00:00:00",
          "2022-10-17T00:00:00",
          "2022-10-18T00:00:00",
          "2022-10-19T00:00:00",
          "2022-10-20T00:00:00",
          "2022-10-21T00:00:00",
          "2022-10-22T00:00:00",
          "2022-10-23T00:00:00",
          "2022-10-24T00:00:00",
          "2022-10-25T00:00:00",
          "2022-10-26T00:00:00",
          "2022-10-27T00:00:00",
          "2022-10-28T00:00:00",
          "2022-10-29T00:00:00",
          "2022-10-30T00:00:00",
          "2022-10-31T00:00:00",
          "2022-11-01T00:00:00",
          "2022-11-02T00:00:00",
          "2022-11-03T00:00:00",
          "2022-11-04T00:00:00",
          "2022-11-05T00:00:00",
          "2022-11-06T00:00:00",
          "2022-11-07T00:00:00",
          "2022-11-08T00:00:00",
          "2022-11-09T00:00:00",
          "2022-11-10T00:00:00",
          "2022-11-11T00:00:00",
          "2022-11-12T00:00:00",
          "2022-11-13T00:00:00",
          "2022-11-14T00:00:00",
          "2022-11-15T00:00:00",
          "2022-11-16T00:00:00",
          "2022-11-17T00:00:00",
          "2022-11-18T00:00:00",
          "2022-11-19T00:00:00",
          "2022-11-20T00:00:00",
          "2022-11-21T00:00:00",
          "2022-11-22T00:00:00",
          "2022-11-23T00:00:00",
          "2022-11-24T00:00:00",
          "2022-11-25T00:00:00",
          "2022-11-26T00:00:00",
          "2022-11-27T00:00:00",
          "2022-11-28T00:00:00",
          "2022-11-29T00:00:00",
          "2022-11-30T00:00:00",
          "2022-12-01T00:00:00",
          "2022-12-02T00:00:00",
          "2022-12-03T00:00:00",
          "2022-12-04T00:00:00",
          "2022-12-05T00:00:00",
          "2022-12-06T00:00:00",
          "2022-12-07T00:00:00",
          "2022-12-08T00:00:00",
          "2022-12-09T00:00:00",
          "2022-12-10T00:00:00",
          "2022-12-11T00:00:00",
          "2022-12-12T00:00:00",
          "2022-12-13T00:00:00",
          "2022-12-14T00:00:00",
          "2022-12-15T00:00:00",
          "2022-12-16T00:00:00",
          "2022-12-17T00:00:00",
          "2022-12-18T00:00:00",
          "2022-12-19T00:00:00",
          "2022-12-20T00:00:00",
          "2022-12-21T00:00:00",
          "2022-12-22T00:00:00",
          "2022-12-23T00:00:00",
          "2022-12-24T00:00:00",
          "2022-12-25T00:00:00",
          "2022-12-26T00:00:00",
          "2022-12-27T00:00:00",
          "2022-12-28T00:00:00",
          "2022-12-29T00:00:00",
          "2022-12-30T00:00:00",
          "2022-12-31T00:00:00",
          "2023-01-01T00:00:00",
          "2023-01-02T00:00:00",
          "2023-01-03T00:00:00",
          "2023-01-04T00:00:00",
          "2023-01-05T00:00:00",
          "2023-01-06T00:00:00",
          "2023-01-07T00:00:00",
          "2023-01-08T00:00:00",
          "2023-01-09T00:00:00",
          "2023-01-10T00:00:00",
          "2023-01-11T00:00:00",
          "2023-01-12T00:00:00",
          "2023-01-13T00:00:00",
          "2023-01-14T00:00:00",
          "2023-01-15T00:00:00",
          "2023-01-16T00:00:00",
          "2023-01-17T00:00:00",
          "2023-01-18T00:00:00",
          "2023-01-19T00:00:00",
          "2023-01-20T00:00:00",
          "2023-01-21T00:00:00",
          "2023-01-22T00:00:00",
          "2023-01-23T00:00:00",
          "2023-01-24T00:00:00",
          "2023-01-25T00:00:00",
          "2023-01-26T00:00:00",
          "2023-01-27T00:00:00",
          "2023-01-28T00:00:00",
          "2023-01-29T00:00:00",
          "2023-01-30T00:00:00",
          "2023-01-31T00:00:00",
          "2023-02-01T00:00:00",
          "2023-02-02T00:00:00",
          "2023-02-03T00:00:00",
          "2023-02-04T00:00:00",
          "2023-02-05T00:00:00",
          "2023-02-06T00:00:00",
          "2023-02-07T00:00:00",
          "2023-02-08T00:00:00",
          "2023-02-09T00:00:00",
          "2023-02-10T00:00:00",
          "2023-02-11T00:00:00",
          "2023-02-12T00:00:00",
          "2023-02-13T00:00:00",
          "2023-02-14T00:00:00",
          "2023-02-15T00:00:00",
          "2023-02-16T00:00:00",
          "2023-02-17T00:00:00",
          "2023-02-18T00:00:00",
          "2023-02-19T00:00:00",
          "2023-02-20T00:00:00",
          "2023-02-21T00:00:00",
          "2023-02-22T00:00:00",
          "2023-02-23T00:00:00",
          "2023-02-24T00:00:00",
          "2023-02-25T00:00:00",
          "2023-02-26T00:00:00",
          "2023-02-27T00:00:00",
          "2023-02-28T00:00:00",
          "2023-03-01T00:00:00",
          "2023-03-02T00:00:00",
          "2023-03-03T00:00:00",
          "2023-03-04T00:00:00",
          "2023-03-05T00:00:00",
          "2023-03-06T00:00:00",
          "2023-03-07T00:00:00",
          "2023-03-08T00:00:00",
          "2023-03-09T00:00:00",
          "2023-03-10T00:00:00",
          "2023-03-11T00:00:00",
          "2023-03-12T00:00:00",
          "2023-03-13T00:00:00",
          "2023-03-14T00:00:00",
          "2023-03-15T00:00:00",
          "2023-03-16T00:00:00",
          "2023-03-17T00:00:00",
          "2023-03-18T00:00:00",
          "2023-03-19T00:00:00",
          "2023-03-20T00:00:00",
          "2023-03-21T00:00:00",
          "2023-03-22T00:00:00",
          "2023-03-23T00:00:00",
          "2023-03-24T00:00:00",
          "2023-03-25T00:00:00",
          "2023-03-26T00:00:00",
          "2023-03-27T00:00:00",
          "2023-03-28T00:00:00",
          "2023-03-29T00:00:00",
          "2023-03-30T00:00:00",
          "2023-03-31T00:00:00",
          "2023-04-01T00:00:00",
          "2023-04-02T00:00:00",
          "2023-04-03T00:00:00",
          "2023-04-04T00:00:00",
          "2023-04-05T00:00:00",
          "2023-04-06T00:00:00",
          "2023-04-07T00:00:00",
          "2023-04-08T00:00:00",
          "2023-04-09T00:00:00",
          "2023-04-10T00:00:00",
          "2023-04-11T00:00:00",
          "2023-04-12T00:00:00",
          "2023-04-13T00:00:00",
          "2023-04-14T00:00:00",
          "2023-04-15T00:00:00",
          "2023-04-16T00:00:00",
          "2023-04-17T00:00:00",
          "2023-04-18T00:00:00",
          "2023-04-19T00:00:00",
          "2023-04-20T00:00:00",
          "2023-04-21T00:00:00",
          "2023-04-22T00:00:00",
          "2023-04-23T00:00:00",
          "2023-04-24T00:00:00",
          "2023-04-25T00:00:00",
          "2023-04-26T00:00:00",
          "2023-04-27T00:00:00",
          "2023-04-28T00:00:00",
          "2023-04-29T00:00:00",
          "2023-04-30T00:00:00",
          "2023-05-01T00:00:00",
          "2023-05-02T00:00:00",
          "2023-05-03T00:00:00",
          "2023-05-04T00:00:00",
          "2023-05-05T00:00:00",
          "2023-05-06T00:00:00",
          "2023-05-07T00:00:00",
          "2023-05-08T00:00:00",
          "2023-05-09T00:00:00",
          "2023-05-10T00:00:00",
          "2023-05-11T00:00:00",
          "2023-05-12T00:00:00",
          "2023-05-13T00:00:00",
          "2023-05-14T00:00:00",
          "2023-05-15T00:00:00",
          "2023-05-16T00:00:00",
          "2023-05-17T00:00:00",
          "2023-05-18T00:00:00",
          "2023-05-19T00:00:00",
          "2023-05-20T00:00:00",
          "2023-05-21T00:00:00",
          "2023-05-22T00:00:00",
          "2023-05-23T00:00:00",
          "2023-05-24T00:00:00",
          "2023-05-25T00:00:00",
          "2023-05-26T00:00:00",
          "2023-05-27T00:00:00",
          "2023-05-28T00:00:00",
          "2023-05-29T00:00:00",
          "2023-05-30T00:00:00",
          "2023-05-31T00:00:00"
         ],
         "y": [
          157505.391,
          138802.216,
          127900.79000000001,
          197071.556,
          167043.915,
          86084.987,
          82191.507,
          24827.055,
          110122.145,
          43167.189,
          175609.696,
          27427.021,
          88885.613,
          127534.958,
          102360.34,
          39801.741,
          90325.104,
          167455.145,
          193249.2,
          83690.256,
          16738.11,
          65199.123,
          66159.513,
          17481.367,
          52671.635,
          159270.228,
          132684.566,
          110802.158,
          16488.451,
          22704.976,
          23521.41,
          146697.393,
          124374.94,
          96270.909,
          13084.654,
          87098.961,
          90469.972,
          120898.409,
          40167.128,
          51071.927,
          85160.942,
          43203.979,
          29724.739999999998,
          44887.315,
          6649.935,
          81259.144,
          92605.75,
          54754.538,
          92082.597,
          2775.791,
          16210.048,
          48681.267,
          11641.711,
          46537.346,
          9208.028,
          9829.573,
          10423.333,
          19442.269,
          57768.143000000004,
          66723.781,
          57146.883,
          59841.452,
          54499.871,
          1682.139,
          12342.462,
          2901.679,
          20226.564,
          2062.84,
          5150.083,
          31012.367,
          2180.75,
          14805.199,
          18197.441,
          7136.006,
          43224.677,
          10235.15,
          1614.398,
          1200.636,
          3865.16,
          3923.215,
          13755.334,
          7885.684,
          15339.253999999999,
          2658.554,
          11397.642,
          3486.427,
          6707.18,
          2946.665,
          734.87,
          480.938,
          1098.05,
          2488.107,
          1508.538,
          993.496,
          2446.644,
          3302.863,
          2868.055,
          2682.464,
          1318.874,
          2780.416,
          1583.194,
          1825.234,
          1724.902,
          2225.19,
          1324.861,
          794.171,
          7273.629,
          5169.582,
          1748.621,
          2981.823,
          1996.148,
          2274.416,
          2235.567,
          1619.252,
          1265.016,
          2055.53,
          1403.178,
          850.276,
          1851.035,
          1386.76,
          879.208,
          2454.591,
          1904.372,
          450.731,
          565.855,
          1768.1870000000001,
          1494.74,
          1147.573,
          2133.733,
          591.293,
          723.09,
          538.93,
          2817.5190000000002,
          622.023,
          15849.292,
          5234.284,
          29332.559,
          3880.91,
          2250.971,
          4754.057,
          4983.068,
          2655.93,
          2628.645,
          1717.011,
          1145.317,
          1676.544,
          24517.467,
          7392.635,
          2156.835,
          1823.415,
          5854.187,
          2900.611,
          665.242,
          678.868,
          1664.492,
          2918.357,
          8946.147,
          1646.1,
          2941.656,
          3308.395,
          3214.282,
          6787.436,
          16802.736,
          37759.486,
          23983.395,
          11905.938,
          19528.981,
          36244.198,
          10778.244999999999,
          6026.7,
          28504.12,
          6875.168,
          16320.258,
          4820.039,
          9710.293,
          20774.483,
          27245.761,
          13591.005,
          127758.409,
          109226.528,
          143960.893,
          147232.005,
          35167.017,
          64839.323,
          138453.197,
          182865.142,
          142720.82200000001,
          26067.562,
          26811.105,
          102726.327,
          162966.659,
          116624.37700000001,
          166647.339,
          187149.903,
          197369.934,
          190172.184,
          201692.502,
          206345.731,
          186134.514,
          116614.134,
          254297.44,
          222347.508,
          211123.224,
          123118.454,
          170782.078,
          129617.839,
          74956.4,
          243090.047,
          91322.805,
          64801.171,
          147008.142,
          173033.363,
          210184.245,
          257716.474,
          248854.359,
          72193.521,
          51814.666,
          163235.229,
          33354.472,
          87699.309,
          171743.573,
          161139.034,
          261332.921,
          270640.612,
          251070.243,
          35512.434,
          114874.876,
          323108.813,
          336222.795,
          218826.54,
          304099.33,
          298400.35,
          317233.161,
          281099.205,
          273544.995,
          162058.786,
          75621.083,
          266792.567,
          297849.145,
          219608.285,
          256597.86,
          354075.996,
          198716.047,
          254130.85,
          238909.58000000002,
          267559.025,
          245825.808,
          282581.926,
          258559.837,
          383008.642,
          236081.113,
          324798.496,
          144095.058,
          85713.577,
          277517.601,
          178237.885,
          379679.56799999997,
          278254.603,
          135289.391,
          354202.516,
          231538.338,
          46184.157,
          316406.4,
          403471.247,
          343631.758,
          355165.95399999997,
          232408.08299999998,
          156540.05,
          148519.78,
          173242.781,
          251055.659,
          218906.038,
          89340.588,
          234009.77,
          110862.716,
          199034.662,
          249145.61000000002,
          382228.744,
          375579.379,
          354543.534,
          142187.006,
          318102.646,
          243547.385,
          376519.373,
          359310.191,
          269734.066,
          128269.065,
          338825.046,
          306871.163,
          342895.398,
          102759.417,
          342199.4,
          228330.89,
          363046.919,
          376173.783,
          417314.306,
          464651.19299999997,
          447127.982,
          411695.81,
          323568.753,
          266439.406,
          237247.407,
          316202.074,
          303589.375,
          370457.571,
          361994.165,
          316815.28,
          302222.094,
          222558.126,
          248140.722,
          162956.147,
          245912.885,
          304171.787,
          291965.899,
          137108.132,
          323846.854,
          267028.519,
          229962.12900000002,
          346974.804,
          193767.834,
          274417.259,
          259360.797,
          409951.795,
          367322.725,
          368756.253,
          248438.233,
          151685.534,
          333827.911,
          227663.46899999998,
          187981.328,
          176342.486,
          269748.7,
          402611.844,
          404542.137,
          114333.793,
          290431.773,
          301025.275,
          335965.271,
          363019.517,
          194597.472,
          346635.364,
          152681.867,
          300308.503,
          334976.996,
          344882.122,
          347317.346,
          374497.836,
          388608.715,
          267854.137,
          301078.44299999997,
          185134.764,
          277848.529,
          281831.794,
          318664.215,
          273276.642,
          111544.2,
          268661.728,
          165270.508,
          120064.125,
          211043.4,
          324149.054,
          303504.786,
          130210.787,
          62912.395,
          141314.857,
          211328.269,
          270161.391,
          298796.094,
          239101.482,
          149573.608,
          213669.084,
          165851.547,
          204148.252,
          317990.894,
          353717.325,
          355708.12,
          179690.554,
          51073.365,
          49092.932,
          104611.19,
          95737.64199999999,
          105750.012,
          190446.352,
          98033.903,
          97567.581,
          98887.486,
          154788.189,
          111366.086,
          231588.599,
          215822.612,
          182189.482,
          224388.612,
          181916.58,
          46608.567,
          104693.096,
          168101.726,
          114903.657,
          47874.613,
          37382.335,
          17242.461,
          37040.959,
          83217.389,
          108248.739,
          212207.502,
          104522.907,
          43399.741,
          169945.638,
          75068.411,
          43205.188,
          62220.818,
          16373.596,
          63453.443,
          30709.68,
          97026.36,
          56920.528,
          32862.768,
          138404.754,
          17789.876,
          119624.731,
          3678.846,
          13274.483,
          11696.996,
          7132.901,
          9400.083,
          29359.773,
          109401.291,
          9117.605,
          8826.253,
          8564.762,
          10782.301,
          9541.786,
          17937.977,
          17942.19,
          12016.834,
          6549.135,
          7508.502,
          4794.081,
          51703.863,
          83964.381,
          11043.848,
          6195.909,
          14765.907,
          7154.789,
          10090.132,
          5689.916,
          2765.441,
          2280.583,
          2880.2799999999997,
          2474.463,
          1825.277,
          880.71,
          996.79,
          766.822,
          1339.613,
          2125.264,
          1759.023,
          3323.52,
          5553.597,
          1650.462,
          713.836,
          1154.861,
          742.391,
          572.673,
          1338.88,
          2047.212,
          3012.542,
          1077.8509999999999,
          2408.549,
          948.115,
          1342.104,
          2757.171,
          2284.4429999999998,
          1827.54,
          2086.259,
          2105.299,
          2563.505,
          2332.578,
          2755.419,
          3431.065,
          22769.32,
          8549.016,
          6299.84,
          3976.004,
          14170.12,
          2060.8,
          3024.82,
          2534.213,
          2808.118,
          4942.387,
          3005.473,
          2913.149,
          7791.114,
          7380.914,
          5023.278,
          2455.915,
          2139.169,
          1617.266,
          4819.436,
          2736.293,
          2799.0950000000003,
          4088.411,
          3657.586,
          9843.52,
          3556.965,
          4730.682,
          7352.909,
          12071.718,
          38058.53,
          3903.271,
          3027.217,
          2435.416,
          4180.822,
          3564.294,
          33193.115,
          11392.528,
          6167.197,
          10512.947,
          28749.426,
          6965.518,
          11043.175,
          8496.489,
          3945.475,
          24559.515,
          31084.363,
          16230.148,
          5610.86,
          39077.846,
          43131.544,
          21232.642,
          19826.313,
          67954.883,
          143641.108,
          72282.865,
          8181.704,
          7946.782,
          15466.545,
          8121.125,
          5251.881,
          5747.72,
          30633,
          9515.374,
          5776.516,
          8083.257,
          24215.137,
          82587.447,
          67564.163,
          163904.15,
          197630.701,
          141629.919,
          16835.47,
          22923.895,
          43436.542,
          50853.458,
          11186.184,
          98923.071,
          163285.858,
          14533.785,
          121814.496,
          142550.93,
          79007.421,
          217418.917,
          256621.935,
          265649.046,
          151897.28399999999,
          63464.781,
          122184.295,
          161444.047,
          36100.197,
          141043.437,
          131538.338,
          154910.893,
          49477.196,
          64857.674,
          135423.954,
          181711.973,
          54115.811,
          52941.377,
          202365.574,
          431727.792,
          255956.727,
          269581.017,
          28357.399,
          132564.955,
          478323.561,
          489253.453,
          479378.82,
          427869.02,
          299270.505,
          332782.544,
          158865.195,
          405112.822,
          385037.35,
          299932.664,
          305305.323,
          337338.421,
          492054.411,
          458613.572,
          403844.189,
          532252.768,
          551948.883,
          310755.569,
          312409.733,
          266440.641,
          253262.982,
          307720.077,
          402101.375,
          281133.4,
          464688.656,
          254822.093,
          469472.84,
          436172.636,
          324361.888,
          485760.674,
          659038.594,
          580784.846,
          592470.854,
          573329.345,
          580915.094,
          605318.212,
          683287.405,
          673067.724,
          528691.953,
          62181.947,
          347676.615,
          643016.448,
          701607.637,
          774373.666,
          685075.708,
          510611.498,
          546112.089,
          625928.067,
          411391.526,
          623860.564,
          771194.578,
          764474.043,
          621032.624,
          584241.765,
          667617.943
         ]
        }
       ],
       "layout": {
        "annotations": [
         {
          "showarrow": false,
          "text": "Average Production",
          "x": 1,
          "xanchor": "right",
          "xref": "x domain",
          "y": 140746.45530094046,
          "yanchor": "top",
          "yref": "y"
         }
        ],
        "plot_bgcolor": "rgba(0,0,0,0)",
        "shapes": [
         {
          "line": {
           "color": "red",
           "dash": "dot",
           "width": 2
          },
          "type": "line",
          "x0": 0,
          "x1": 1,
          "xref": "x domain",
          "y0": 140746.45530094046,
          "y1": 140746.45530094046,
          "yref": "y"
         }
        ],
        "template": {
         "data": {
          "bar": [
           {
            "error_x": {
             "color": "#2a3f5f"
            },
            "error_y": {
             "color": "#2a3f5f"
            },
            "marker": {
             "line": {
              "color": "#E5ECF6",
              "width": 0.5
             },
             "pattern": {
              "fillmode": "overlay",
              "size": 10,
              "solidity": 0.2
             }
            },
            "type": "bar"
           }
          ],
          "barpolar": [
           {
            "marker": {
             "line": {
              "color": "#E5ECF6",
              "width": 0.5
             },
             "pattern": {
              "fillmode": "overlay",
              "size": 10,
              "solidity": 0.2
             }
            },
            "type": "barpolar"
           }
          ],
          "carpet": [
           {
            "aaxis": {
             "endlinecolor": "#2a3f5f",
             "gridcolor": "white",
             "linecolor": "white",
             "minorgridcolor": "white",
             "startlinecolor": "#2a3f5f"
            },
            "baxis": {
             "endlinecolor": "#2a3f5f",
             "gridcolor": "white",
             "linecolor": "white",
             "minorgridcolor": "white",
             "startlinecolor": "#2a3f5f"
            },
            "type": "carpet"
           }
          ],
          "choropleth": [
           {
            "colorbar": {
             "outlinewidth": 0,
             "ticks": ""
            },
            "type": "choropleth"
           }
          ],
          "contour": [
           {
            "colorbar": {
             "outlinewidth": 0,
             "ticks": ""
            },
            "colorscale": [
             [
              0,
              "#0d0887"
             ],
             [
              0.1111111111111111,
              "#46039f"
             ],
             [
              0.2222222222222222,
              "#7201a8"
             ],
             [
              0.3333333333333333,
              "#9c179e"
             ],
             [
              0.4444444444444444,
              "#bd3786"
             ],
             [
              0.5555555555555556,
              "#d8576b"
             ],
             [
              0.6666666666666666,
              "#ed7953"
             ],
             [
              0.7777777777777778,
              "#fb9f3a"
             ],
             [
              0.8888888888888888,
              "#fdca26"
             ],
             [
              1,
              "#f0f921"
             ]
            ],
            "type": "contour"
           }
          ],
          "contourcarpet": [
           {
            "colorbar": {
             "outlinewidth": 0,
             "ticks": ""
            },
            "type": "contourcarpet"
           }
          ],
          "heatmap": [
           {
            "colorbar": {
             "outlinewidth": 0,
             "ticks": ""
            },
            "colorscale": [
             [
              0,
              "#0d0887"
             ],
             [
              0.1111111111111111,
              "#46039f"
             ],
             [
              0.2222222222222222,
              "#7201a8"
             ],
             [
              0.3333333333333333,
              "#9c179e"
             ],
             [
              0.4444444444444444,
              "#bd3786"
             ],
             [
              0.5555555555555556,
              "#d8576b"
             ],
             [
              0.6666666666666666,
              "#ed7953"
             ],
             [
              0.7777777777777778,
              "#fb9f3a"
             ],
             [
              0.8888888888888888,
              "#fdca26"
             ],
             [
              1,
              "#f0f921"
             ]
            ],
            "type": "heatmap"
           }
          ],
          "heatmapgl": [
           {
            "colorbar": {
             "outlinewidth": 0,
             "ticks": ""
            },
            "colorscale": [
             [
              0,
              "#0d0887"
             ],
             [
              0.1111111111111111,
              "#46039f"
             ],
             [
              0.2222222222222222,
              "#7201a8"
             ],
             [
              0.3333333333333333,
              "#9c179e"
             ],
             [
              0.4444444444444444,
              "#bd3786"
             ],
             [
              0.5555555555555556,
              "#d8576b"
             ],
             [
              0.6666666666666666,
              "#ed7953"
             ],
             [
              0.7777777777777778,
              "#fb9f3a"
             ],
             [
              0.8888888888888888,
              "#fdca26"
             ],
             [
              1,
              "#f0f921"
             ]
            ],
            "type": "heatmapgl"
           }
          ],
          "histogram": [
           {
            "marker": {
             "pattern": {
              "fillmode": "overlay",
              "size": 10,
              "solidity": 0.2
             }
            },
            "type": "histogram"
           }
          ],
          "histogram2d": [
           {
            "colorbar": {
             "outlinewidth": 0,
             "ticks": ""
            },
            "colorscale": [
             [
              0,
              "#0d0887"
             ],
             [
              0.1111111111111111,
              "#46039f"
             ],
             [
              0.2222222222222222,
              "#7201a8"
             ],
             [
              0.3333333333333333,
              "#9c179e"
             ],
             [
              0.4444444444444444,
              "#bd3786"
             ],
             [
              0.5555555555555556,
              "#d8576b"
             ],
             [
              0.6666666666666666,
              "#ed7953"
             ],
             [
              0.7777777777777778,
              "#fb9f3a"
             ],
             [
              0.8888888888888888,
              "#fdca26"
             ],
             [
              1,
              "#f0f921"
             ]
            ],
            "type": "histogram2d"
           }
          ],
          "histogram2dcontour": [
           {
            "colorbar": {
             "outlinewidth": 0,
             "ticks": ""
            },
            "colorscale": [
             [
              0,
              "#0d0887"
             ],
             [
              0.1111111111111111,
              "#46039f"
             ],
             [
              0.2222222222222222,
              "#7201a8"
             ],
             [
              0.3333333333333333,
              "#9c179e"
             ],
             [
              0.4444444444444444,
              "#bd3786"
             ],
             [
              0.5555555555555556,
              "#d8576b"
             ],
             [
              0.6666666666666666,
              "#ed7953"
             ],
             [
              0.7777777777777778,
              "#fb9f3a"
             ],
             [
              0.8888888888888888,
              "#fdca26"
             ],
             [
              1,
              "#f0f921"
             ]
            ],
            "type": "histogram2dcontour"
           }
          ],
          "mesh3d": [
           {
            "colorbar": {
             "outlinewidth": 0,
             "ticks": ""
            },
            "type": "mesh3d"
           }
          ],
          "parcoords": [
           {
            "line": {
             "colorbar": {
              "outlinewidth": 0,
              "ticks": ""
             }
            },
            "type": "parcoords"
           }
          ],
          "pie": [
           {
            "automargin": true,
            "type": "pie"
           }
          ],
          "scatter": [
           {
            "fillpattern": {
             "fillmode": "overlay",
             "size": 10,
             "solidity": 0.2
            },
            "type": "scatter"
           }
          ],
          "scatter3d": [
           {
            "line": {
             "colorbar": {
              "outlinewidth": 0,
              "ticks": ""
             }
            },
            "marker": {
             "colorbar": {
              "outlinewidth": 0,
              "ticks": ""
             }
            },
            "type": "scatter3d"
           }
          ],
          "scattercarpet": [
           {
            "marker": {
             "colorbar": {
              "outlinewidth": 0,
              "ticks": ""
             }
            },
            "type": "scattercarpet"
           }
          ],
          "scattergeo": [
           {
            "marker": {
             "colorbar": {
              "outlinewidth": 0,
              "ticks": ""
             }
            },
            "type": "scattergeo"
           }
          ],
          "scattergl": [
           {
            "marker": {
             "colorbar": {
              "outlinewidth": 0,
              "ticks": ""
             }
            },
            "type": "scattergl"
           }
          ],
          "scattermapbox": [
           {
            "marker": {
             "colorbar": {
              "outlinewidth": 0,
              "ticks": ""
             }
            },
            "type": "scattermapbox"
           }
          ],
          "scatterpolar": [
           {
            "marker": {
             "colorbar": {
              "outlinewidth": 0,
              "ticks": ""
             }
            },
            "type": "scatterpolar"
           }
          ],
          "scatterpolargl": [
           {
            "marker": {
             "colorbar": {
              "outlinewidth": 0,
              "ticks": ""
             }
            },
            "type": "scatterpolargl"
           }
          ],
          "scatterternary": [
           {
            "marker": {
             "colorbar": {
              "outlinewidth": 0,
              "ticks": ""
             }
            },
            "type": "scatterternary"
           }
          ],
          "surface": [
           {
            "colorbar": {
             "outlinewidth": 0,
             "ticks": ""
            },
            "colorscale": [
             [
              0,
              "#0d0887"
             ],
             [
              0.1111111111111111,
              "#46039f"
             ],
             [
              0.2222222222222222,
              "#7201a8"
             ],
             [
              0.3333333333333333,
              "#9c179e"
             ],
             [
              0.4444444444444444,
              "#bd3786"
             ],
             [
              0.5555555555555556,
              "#d8576b"
             ],
             [
              0.6666666666666666,
              "#ed7953"
             ],
             [
              0.7777777777777778,
              "#fb9f3a"
             ],
             [
              0.8888888888888888,
              "#fdca26"
             ],
             [
              1,
              "#f0f921"
             ]
            ],
            "type": "surface"
           }
          ],
          "table": [
           {
            "cells": {
             "fill": {
              "color": "#EBF0F8"
             },
             "line": {
              "color": "white"
             }
            },
            "header": {
             "fill": {
              "color": "#C8D4E3"
             },
             "line": {
              "color": "white"
             }
            },
            "type": "table"
           }
          ]
         },
         "layout": {
          "annotationdefaults": {
           "arrowcolor": "#2a3f5f",
           "arrowhead": 0,
           "arrowwidth": 1
          },
          "autotypenumbers": "strict",
          "coloraxis": {
           "colorbar": {
            "outlinewidth": 0,
            "ticks": ""
           }
          },
          "colorscale": {
           "diverging": [
            [
             0,
             "#8e0152"
            ],
            [
             0.1,
             "#c51b7d"
            ],
            [
             0.2,
             "#de77ae"
            ],
            [
             0.3,
             "#f1b6da"
            ],
            [
             0.4,
             "#fde0ef"
            ],
            [
             0.5,
             "#f7f7f7"
            ],
            [
             0.6,
             "#e6f5d0"
            ],
            [
             0.7,
             "#b8e186"
            ],
            [
             0.8,
             "#7fbc41"
            ],
            [
             0.9,
             "#4d9221"
            ],
            [
             1,
             "#276419"
            ]
           ],
           "sequential": [
            [
             0,
             "#0d0887"
            ],
            [
             0.1111111111111111,
             "#46039f"
            ],
            [
             0.2222222222222222,
             "#7201a8"
            ],
            [
             0.3333333333333333,
             "#9c179e"
            ],
            [
             0.4444444444444444,
             "#bd3786"
            ],
            [
             0.5555555555555556,
             "#d8576b"
            ],
            [
             0.6666666666666666,
             "#ed7953"
            ],
            [
             0.7777777777777778,
             "#fb9f3a"
            ],
            [
             0.8888888888888888,
             "#fdca26"
            ],
            [
             1,
             "#f0f921"
            ]
           ],
           "sequentialminus": [
            [
             0,
             "#0d0887"
            ],
            [
             0.1111111111111111,
             "#46039f"
            ],
            [
             0.2222222222222222,
             "#7201a8"
            ],
            [
             0.3333333333333333,
             "#9c179e"
            ],
            [
             0.4444444444444444,
             "#bd3786"
            ],
            [
             0.5555555555555556,
             "#d8576b"
            ],
            [
             0.6666666666666666,
             "#ed7953"
            ],
            [
             0.7777777777777778,
             "#fb9f3a"
            ],
            [
             0.8888888888888888,
             "#fdca26"
            ],
            [
             1,
             "#f0f921"
            ]
           ]
          },
          "colorway": [
           "#636efa",
           "#EF553B",
           "#00cc96",
           "#ab63fa",
           "#FFA15A",
           "#19d3f3",
           "#FF6692",
           "#B6E880",
           "#FF97FF",
           "#FECB52"
          ],
          "font": {
           "color": "#2a3f5f"
          },
          "geo": {
           "bgcolor": "white",
           "lakecolor": "white",
           "landcolor": "#E5ECF6",
           "showlakes": true,
           "showland": true,
           "subunitcolor": "white"
          },
          "hoverlabel": {
           "align": "left"
          },
          "hovermode": "closest",
          "mapbox": {
           "style": "light"
          },
          "paper_bgcolor": "white",
          "plot_bgcolor": "#E5ECF6",
          "polar": {
           "angularaxis": {
            "gridcolor": "white",
            "linecolor": "white",
            "ticks": ""
           },
           "bgcolor": "#E5ECF6",
           "radialaxis": {
            "gridcolor": "white",
            "linecolor": "white",
            "ticks": ""
           }
          },
          "scene": {
           "xaxis": {
            "backgroundcolor": "#E5ECF6",
            "gridcolor": "white",
            "gridwidth": 2,
            "linecolor": "white",
            "showbackground": true,
            "ticks": "",
            "zerolinecolor": "white"
           },
           "yaxis": {
            "backgroundcolor": "#E5ECF6",
            "gridcolor": "white",
            "gridwidth": 2,
            "linecolor": "white",
            "showbackground": true,
            "ticks": "",
            "zerolinecolor": "white"
           },
           "zaxis": {
            "backgroundcolor": "#E5ECF6",
            "gridcolor": "white",
            "gridwidth": 2,
            "linecolor": "white",
            "showbackground": true,
            "ticks": "",
            "zerolinecolor": "white"
           }
          },
          "shapedefaults": {
           "line": {
            "color": "#2a3f5f"
           }
          },
          "ternary": {
           "aaxis": {
            "gridcolor": "white",
            "linecolor": "white",
            "ticks": ""
           },
           "baxis": {
            "gridcolor": "white",
            "linecolor": "white",
            "ticks": ""
           },
           "bgcolor": "#E5ECF6",
           "caxis": {
            "gridcolor": "white",
            "linecolor": "white",
            "ticks": ""
           }
          },
          "title": {
           "x": 0.05
          },
          "xaxis": {
           "automargin": true,
           "gridcolor": "white",
           "linecolor": "white",
           "ticks": "",
           "title": {
            "standoff": 15
           },
           "zerolinecolor": "white",
           "zerolinewidth": 2
          },
          "yaxis": {
           "automargin": true,
           "gridcolor": "white",
           "linecolor": "white",
           "ticks": "",
           "title": {
            "standoff": 15
           },
           "zerolinecolor": "white",
           "zerolinewidth": 2
          }
         }
        },
        "title": {
         "text": "2. Análisis Diario de Producción"
        },
        "xaxis": {
         "gridcolor": "lightgrey",
         "title": {
          "text": "Date"
         }
        },
        "yaxis": {
         "gridcolor": "lightgrey",
         "title": {
          "text": "Production"
         }
        }
       }
      }
     },
     "metadata": {},
     "output_type": "display_data"
    }
   ],
   "source": [
    "# Filtrar solo las filas de producción\n",
    "production_data = train[train['is_consumption'] == 0]\n",
    "\n",
    "# Resumir datos de producción por día\n",
    "dailyProd = production_data.resample('D', on='datetime').sum()\n",
    "\n",
    "# Calcular la producción promedio diaria\n",
    "meanProduction = dailyProd['target'].mean()\n",
    "\n",
    "# Crear la gráfica de área\n",
    "fig = go.Figure()\n",
    "\n",
    "# Añadir la traza de área para la producción diaria\n",
    "fig.add_trace(go.Scatter(\n",
    "    x=dailyProd.index, y=dailyProd['target'],\n",
    "    fill='tozeroy',\n",
    "    mode='none',  # Ocultar las líneas\n",
    "    name='Daily Production',\n",
    "    fillcolor='rgba(66, 125, 157, 0.6)'  # Color del área con transparencia\n",
    "))\n",
    "\n",
    "# Añadir la línea horizontal indicando la producción promedio\n",
    "fig.add_hline(y=meanProduction, line_dash=\"dot\",\n",
    "              annotation_text=\"Average Production\",\n",
    "              annotation_position=\"bottom right\",\n",
    "              line=dict(color='red', width=2))\n",
    "\n",
    "# Personalizar la apariencia de la gráfica\n",
    "fig.update_layout(\n",
    "    title='2. Análisis Diario de Producción',\n",
    "    xaxis_title='Date',\n",
    "    yaxis_title='Production',\n",
    "    plot_bgcolor='rgba(0,0,0,0)',  # Fondo transparente\n",
    "    yaxis=dict(\n",
    "        gridcolor='lightgrey'  # Color de las líneas de la cuadrícula\n",
    "    ),\n",
    "    xaxis=dict(\n",
    "        gridcolor='lightgrey'  # Color de las líneas de la cuadrícula\n",
    "    )\n",
    ")\n",
    "\n",
    "# Mostrar la gráfica\n",
    "fig.show()"
   ]
  },
  {
   "cell_type": "code",
   "execution_count": 9,
   "metadata": {},
   "outputs": [
    {
     "data": {
      "application/vnd.plotly.v1+json": {
       "config": {
        "plotlyServerURL": "https://plot.ly"
       },
       "data": [
        {
         "line": {
          "color": "green",
          "width": 2
         },
         "mode": "lines",
         "name": "Daily Net Consumption",
         "type": "scatter",
         "x": [
          "2021-09-01T00:00:00",
          "2021-09-02T00:00:00",
          "2021-09-03T00:00:00",
          "2021-09-04T00:00:00",
          "2021-09-05T00:00:00",
          "2021-09-06T00:00:00",
          "2021-09-07T00:00:00",
          "2021-09-08T00:00:00",
          "2021-09-09T00:00:00",
          "2021-09-10T00:00:00",
          "2021-09-11T00:00:00",
          "2021-09-12T00:00:00",
          "2021-09-13T00:00:00",
          "2021-09-14T00:00:00",
          "2021-09-15T00:00:00",
          "2021-09-16T00:00:00",
          "2021-09-17T00:00:00",
          "2021-09-18T00:00:00",
          "2021-09-19T00:00:00",
          "2021-09-20T00:00:00",
          "2021-09-21T00:00:00",
          "2021-09-22T00:00:00",
          "2021-09-23T00:00:00",
          "2021-09-24T00:00:00",
          "2021-09-25T00:00:00",
          "2021-09-26T00:00:00",
          "2021-09-27T00:00:00",
          "2021-09-28T00:00:00",
          "2021-09-29T00:00:00",
          "2021-09-30T00:00:00",
          "2021-10-01T00:00:00",
          "2021-10-02T00:00:00",
          "2021-10-03T00:00:00",
          "2021-10-04T00:00:00",
          "2021-10-05T00:00:00",
          "2021-10-06T00:00:00",
          "2021-10-07T00:00:00",
          "2021-10-08T00:00:00",
          "2021-10-09T00:00:00",
          "2021-10-10T00:00:00",
          "2021-10-11T00:00:00",
          "2021-10-12T00:00:00",
          "2021-10-13T00:00:00",
          "2021-10-14T00:00:00",
          "2021-10-15T00:00:00",
          "2021-10-16T00:00:00",
          "2021-10-17T00:00:00",
          "2021-10-18T00:00:00",
          "2021-10-19T00:00:00",
          "2021-10-20T00:00:00",
          "2021-10-21T00:00:00",
          "2021-10-22T00:00:00",
          "2021-10-23T00:00:00",
          "2021-10-24T00:00:00",
          "2021-10-25T00:00:00",
          "2021-10-26T00:00:00",
          "2021-10-27T00:00:00",
          "2021-10-28T00:00:00",
          "2021-10-29T00:00:00",
          "2021-10-30T00:00:00",
          "2021-10-31T00:00:00",
          "2021-11-01T00:00:00",
          "2021-11-02T00:00:00",
          "2021-11-03T00:00:00",
          "2021-11-04T00:00:00",
          "2021-11-05T00:00:00",
          "2021-11-06T00:00:00",
          "2021-11-07T00:00:00",
          "2021-11-08T00:00:00",
          "2021-11-09T00:00:00",
          "2021-11-10T00:00:00",
          "2021-11-11T00:00:00",
          "2021-11-12T00:00:00",
          "2021-11-13T00:00:00",
          "2021-11-14T00:00:00",
          "2021-11-15T00:00:00",
          "2021-11-16T00:00:00",
          "2021-11-17T00:00:00",
          "2021-11-18T00:00:00",
          "2021-11-19T00:00:00",
          "2021-11-20T00:00:00",
          "2021-11-21T00:00:00",
          "2021-11-22T00:00:00",
          "2021-11-23T00:00:00",
          "2021-11-24T00:00:00",
          "2021-11-25T00:00:00",
          "2021-11-26T00:00:00",
          "2021-11-27T00:00:00",
          "2021-11-28T00:00:00",
          "2021-11-29T00:00:00",
          "2021-11-30T00:00:00",
          "2021-12-01T00:00:00",
          "2021-12-02T00:00:00",
          "2021-12-03T00:00:00",
          "2021-12-04T00:00:00",
          "2021-12-05T00:00:00",
          "2021-12-06T00:00:00",
          "2021-12-07T00:00:00",
          "2021-12-08T00:00:00",
          "2021-12-09T00:00:00",
          "2021-12-10T00:00:00",
          "2021-12-11T00:00:00",
          "2021-12-12T00:00:00",
          "2021-12-13T00:00:00",
          "2021-12-14T00:00:00",
          "2021-12-15T00:00:00",
          "2021-12-16T00:00:00",
          "2021-12-17T00:00:00",
          "2021-12-18T00:00:00",
          "2021-12-19T00:00:00",
          "2021-12-20T00:00:00",
          "2021-12-21T00:00:00",
          "2021-12-22T00:00:00",
          "2021-12-23T00:00:00",
          "2021-12-24T00:00:00",
          "2021-12-25T00:00:00",
          "2021-12-26T00:00:00",
          "2021-12-27T00:00:00",
          "2021-12-28T00:00:00",
          "2021-12-29T00:00:00",
          "2021-12-30T00:00:00",
          "2021-12-31T00:00:00",
          "2022-01-01T00:00:00",
          "2022-01-02T00:00:00",
          "2022-01-03T00:00:00",
          "2022-01-04T00:00:00",
          "2022-01-05T00:00:00",
          "2022-01-06T00:00:00",
          "2022-01-07T00:00:00",
          "2022-01-08T00:00:00",
          "2022-01-09T00:00:00",
          "2022-01-10T00:00:00",
          "2022-01-11T00:00:00",
          "2022-01-12T00:00:00",
          "2022-01-13T00:00:00",
          "2022-01-14T00:00:00",
          "2022-01-15T00:00:00",
          "2022-01-16T00:00:00",
          "2022-01-17T00:00:00",
          "2022-01-18T00:00:00",
          "2022-01-19T00:00:00",
          "2022-01-20T00:00:00",
          "2022-01-21T00:00:00",
          "2022-01-22T00:00:00",
          "2022-01-23T00:00:00",
          "2022-01-24T00:00:00",
          "2022-01-25T00:00:00",
          "2022-01-26T00:00:00",
          "2022-01-27T00:00:00",
          "2022-01-28T00:00:00",
          "2022-01-29T00:00:00",
          "2022-01-30T00:00:00",
          "2022-01-31T00:00:00",
          "2022-02-01T00:00:00",
          "2022-02-02T00:00:00",
          "2022-02-03T00:00:00",
          "2022-02-04T00:00:00",
          "2022-02-05T00:00:00",
          "2022-02-06T00:00:00",
          "2022-02-07T00:00:00",
          "2022-02-08T00:00:00",
          "2022-02-09T00:00:00",
          "2022-02-10T00:00:00",
          "2022-02-11T00:00:00",
          "2022-02-12T00:00:00",
          "2022-02-13T00:00:00",
          "2022-02-14T00:00:00",
          "2022-02-15T00:00:00",
          "2022-02-16T00:00:00",
          "2022-02-17T00:00:00",
          "2022-02-18T00:00:00",
          "2022-02-19T00:00:00",
          "2022-02-20T00:00:00",
          "2022-02-21T00:00:00",
          "2022-02-22T00:00:00",
          "2022-02-23T00:00:00",
          "2022-02-24T00:00:00",
          "2022-02-25T00:00:00",
          "2022-02-26T00:00:00",
          "2022-02-27T00:00:00",
          "2022-02-28T00:00:00",
          "2022-03-01T00:00:00",
          "2022-03-02T00:00:00",
          "2022-03-03T00:00:00",
          "2022-03-04T00:00:00",
          "2022-03-05T00:00:00",
          "2022-03-06T00:00:00",
          "2022-03-07T00:00:00",
          "2022-03-08T00:00:00",
          "2022-03-09T00:00:00",
          "2022-03-10T00:00:00",
          "2022-03-11T00:00:00",
          "2022-03-12T00:00:00",
          "2022-03-13T00:00:00",
          "2022-03-14T00:00:00",
          "2022-03-15T00:00:00",
          "2022-03-16T00:00:00",
          "2022-03-17T00:00:00",
          "2022-03-18T00:00:00",
          "2022-03-19T00:00:00",
          "2022-03-20T00:00:00",
          "2022-03-21T00:00:00",
          "2022-03-22T00:00:00",
          "2022-03-23T00:00:00",
          "2022-03-24T00:00:00",
          "2022-03-25T00:00:00",
          "2022-03-26T00:00:00",
          "2022-03-27T00:00:00",
          "2022-03-28T00:00:00",
          "2022-03-29T00:00:00",
          "2022-03-30T00:00:00",
          "2022-03-31T00:00:00",
          "2022-04-01T00:00:00",
          "2022-04-02T00:00:00",
          "2022-04-03T00:00:00",
          "2022-04-04T00:00:00",
          "2022-04-05T00:00:00",
          "2022-04-06T00:00:00",
          "2022-04-07T00:00:00",
          "2022-04-08T00:00:00",
          "2022-04-09T00:00:00",
          "2022-04-10T00:00:00",
          "2022-04-11T00:00:00",
          "2022-04-12T00:00:00",
          "2022-04-13T00:00:00",
          "2022-04-14T00:00:00",
          "2022-04-15T00:00:00",
          "2022-04-16T00:00:00",
          "2022-04-17T00:00:00",
          "2022-04-18T00:00:00",
          "2022-04-19T00:00:00",
          "2022-04-20T00:00:00",
          "2022-04-21T00:00:00",
          "2022-04-22T00:00:00",
          "2022-04-23T00:00:00",
          "2022-04-24T00:00:00",
          "2022-04-25T00:00:00",
          "2022-04-26T00:00:00",
          "2022-04-27T00:00:00",
          "2022-04-28T00:00:00",
          "2022-04-29T00:00:00",
          "2022-04-30T00:00:00",
          "2022-05-01T00:00:00",
          "2022-05-02T00:00:00",
          "2022-05-03T00:00:00",
          "2022-05-04T00:00:00",
          "2022-05-05T00:00:00",
          "2022-05-06T00:00:00",
          "2022-05-07T00:00:00",
          "2022-05-08T00:00:00",
          "2022-05-09T00:00:00",
          "2022-05-10T00:00:00",
          "2022-05-11T00:00:00",
          "2022-05-12T00:00:00",
          "2022-05-13T00:00:00",
          "2022-05-14T00:00:00",
          "2022-05-15T00:00:00",
          "2022-05-16T00:00:00",
          "2022-05-17T00:00:00",
          "2022-05-18T00:00:00",
          "2022-05-19T00:00:00",
          "2022-05-20T00:00:00",
          "2022-05-21T00:00:00",
          "2022-05-22T00:00:00",
          "2022-05-23T00:00:00",
          "2022-05-24T00:00:00",
          "2022-05-25T00:00:00",
          "2022-05-26T00:00:00",
          "2022-05-27T00:00:00",
          "2022-05-28T00:00:00",
          "2022-05-29T00:00:00",
          "2022-05-30T00:00:00",
          "2022-05-31T00:00:00",
          "2022-06-01T00:00:00",
          "2022-06-02T00:00:00",
          "2022-06-03T00:00:00",
          "2022-06-04T00:00:00",
          "2022-06-05T00:00:00",
          "2022-06-06T00:00:00",
          "2022-06-07T00:00:00",
          "2022-06-08T00:00:00",
          "2022-06-09T00:00:00",
          "2022-06-10T00:00:00",
          "2022-06-11T00:00:00",
          "2022-06-12T00:00:00",
          "2022-06-13T00:00:00",
          "2022-06-14T00:00:00",
          "2022-06-15T00:00:00",
          "2022-06-16T00:00:00",
          "2022-06-17T00:00:00",
          "2022-06-18T00:00:00",
          "2022-06-19T00:00:00",
          "2022-06-20T00:00:00",
          "2022-06-21T00:00:00",
          "2022-06-22T00:00:00",
          "2022-06-23T00:00:00",
          "2022-06-24T00:00:00",
          "2022-06-25T00:00:00",
          "2022-06-26T00:00:00",
          "2022-06-27T00:00:00",
          "2022-06-28T00:00:00",
          "2022-06-29T00:00:00",
          "2022-06-30T00:00:00",
          "2022-07-01T00:00:00",
          "2022-07-02T00:00:00",
          "2022-07-03T00:00:00",
          "2022-07-04T00:00:00",
          "2022-07-05T00:00:00",
          "2022-07-06T00:00:00",
          "2022-07-07T00:00:00",
          "2022-07-08T00:00:00",
          "2022-07-09T00:00:00",
          "2022-07-10T00:00:00",
          "2022-07-11T00:00:00",
          "2022-07-12T00:00:00",
          "2022-07-13T00:00:00",
          "2022-07-14T00:00:00",
          "2022-07-15T00:00:00",
          "2022-07-16T00:00:00",
          "2022-07-17T00:00:00",
          "2022-07-18T00:00:00",
          "2022-07-19T00:00:00",
          "2022-07-20T00:00:00",
          "2022-07-21T00:00:00",
          "2022-07-22T00:00:00",
          "2022-07-23T00:00:00",
          "2022-07-24T00:00:00",
          "2022-07-25T00:00:00",
          "2022-07-26T00:00:00",
          "2022-07-27T00:00:00",
          "2022-07-28T00:00:00",
          "2022-07-29T00:00:00",
          "2022-07-30T00:00:00",
          "2022-07-31T00:00:00",
          "2022-08-01T00:00:00",
          "2022-08-02T00:00:00",
          "2022-08-03T00:00:00",
          "2022-08-04T00:00:00",
          "2022-08-05T00:00:00",
          "2022-08-06T00:00:00",
          "2022-08-07T00:00:00",
          "2022-08-08T00:00:00",
          "2022-08-09T00:00:00",
          "2022-08-10T00:00:00",
          "2022-08-11T00:00:00",
          "2022-08-12T00:00:00",
          "2022-08-13T00:00:00",
          "2022-08-14T00:00:00",
          "2022-08-15T00:00:00",
          "2022-08-16T00:00:00",
          "2022-08-17T00:00:00",
          "2022-08-18T00:00:00",
          "2022-08-19T00:00:00",
          "2022-08-20T00:00:00",
          "2022-08-21T00:00:00",
          "2022-08-22T00:00:00",
          "2022-08-23T00:00:00",
          "2022-08-24T00:00:00",
          "2022-08-25T00:00:00",
          "2022-08-26T00:00:00",
          "2022-08-27T00:00:00",
          "2022-08-28T00:00:00",
          "2022-08-29T00:00:00",
          "2022-08-30T00:00:00",
          "2022-08-31T00:00:00",
          "2022-09-01T00:00:00",
          "2022-09-02T00:00:00",
          "2022-09-03T00:00:00",
          "2022-09-04T00:00:00",
          "2022-09-05T00:00:00",
          "2022-09-06T00:00:00",
          "2022-09-07T00:00:00",
          "2022-09-08T00:00:00",
          "2022-09-09T00:00:00",
          "2022-09-10T00:00:00",
          "2022-09-11T00:00:00",
          "2022-09-12T00:00:00",
          "2022-09-13T00:00:00",
          "2022-09-14T00:00:00",
          "2022-09-15T00:00:00",
          "2022-09-16T00:00:00",
          "2022-09-17T00:00:00",
          "2022-09-18T00:00:00",
          "2022-09-19T00:00:00",
          "2022-09-20T00:00:00",
          "2022-09-21T00:00:00",
          "2022-09-22T00:00:00",
          "2022-09-23T00:00:00",
          "2022-09-24T00:00:00",
          "2022-09-25T00:00:00",
          "2022-09-26T00:00:00",
          "2022-09-27T00:00:00",
          "2022-09-28T00:00:00",
          "2022-09-29T00:00:00",
          "2022-09-30T00:00:00",
          "2022-10-01T00:00:00",
          "2022-10-02T00:00:00",
          "2022-10-03T00:00:00",
          "2022-10-04T00:00:00",
          "2022-10-05T00:00:00",
          "2022-10-06T00:00:00",
          "2022-10-07T00:00:00",
          "2022-10-08T00:00:00",
          "2022-10-09T00:00:00",
          "2022-10-10T00:00:00",
          "2022-10-11T00:00:00",
          "2022-10-12T00:00:00",
          "2022-10-13T00:00:00",
          "2022-10-14T00:00:00",
          "2022-10-15T00:00:00",
          "2022-10-16T00:00:00",
          "2022-10-17T00:00:00",
          "2022-10-18T00:00:00",
          "2022-10-19T00:00:00",
          "2022-10-20T00:00:00",
          "2022-10-21T00:00:00",
          "2022-10-22T00:00:00",
          "2022-10-23T00:00:00",
          "2022-10-24T00:00:00",
          "2022-10-25T00:00:00",
          "2022-10-26T00:00:00",
          "2022-10-27T00:00:00",
          "2022-10-28T00:00:00",
          "2022-10-29T00:00:00",
          "2022-10-30T00:00:00",
          "2022-10-31T00:00:00",
          "2022-11-01T00:00:00",
          "2022-11-02T00:00:00",
          "2022-11-03T00:00:00",
          "2022-11-04T00:00:00",
          "2022-11-05T00:00:00",
          "2022-11-06T00:00:00",
          "2022-11-07T00:00:00",
          "2022-11-08T00:00:00",
          "2022-11-09T00:00:00",
          "2022-11-10T00:00:00",
          "2022-11-11T00:00:00",
          "2022-11-12T00:00:00",
          "2022-11-13T00:00:00",
          "2022-11-14T00:00:00",
          "2022-11-15T00:00:00",
          "2022-11-16T00:00:00",
          "2022-11-17T00:00:00",
          "2022-11-18T00:00:00",
          "2022-11-19T00:00:00",
          "2022-11-20T00:00:00",
          "2022-11-21T00:00:00",
          "2022-11-22T00:00:00",
          "2022-11-23T00:00:00",
          "2022-11-24T00:00:00",
          "2022-11-25T00:00:00",
          "2022-11-26T00:00:00",
          "2022-11-27T00:00:00",
          "2022-11-28T00:00:00",
          "2022-11-29T00:00:00",
          "2022-11-30T00:00:00",
          "2022-12-01T00:00:00",
          "2022-12-02T00:00:00",
          "2022-12-03T00:00:00",
          "2022-12-04T00:00:00",
          "2022-12-05T00:00:00",
          "2022-12-06T00:00:00",
          "2022-12-07T00:00:00",
          "2022-12-08T00:00:00",
          "2022-12-09T00:00:00",
          "2022-12-10T00:00:00",
          "2022-12-11T00:00:00",
          "2022-12-12T00:00:00",
          "2022-12-13T00:00:00",
          "2022-12-14T00:00:00",
          "2022-12-15T00:00:00",
          "2022-12-16T00:00:00",
          "2022-12-17T00:00:00",
          "2022-12-18T00:00:00",
          "2022-12-19T00:00:00",
          "2022-12-20T00:00:00",
          "2022-12-21T00:00:00",
          "2022-12-22T00:00:00",
          "2022-12-23T00:00:00",
          "2022-12-24T00:00:00",
          "2022-12-25T00:00:00",
          "2022-12-26T00:00:00",
          "2022-12-27T00:00:00",
          "2022-12-28T00:00:00",
          "2022-12-29T00:00:00",
          "2022-12-30T00:00:00",
          "2022-12-31T00:00:00",
          "2023-01-01T00:00:00",
          "2023-01-02T00:00:00",
          "2023-01-03T00:00:00",
          "2023-01-04T00:00:00",
          "2023-01-05T00:00:00",
          "2023-01-06T00:00:00",
          "2023-01-07T00:00:00",
          "2023-01-08T00:00:00",
          "2023-01-09T00:00:00",
          "2023-01-10T00:00:00",
          "2023-01-11T00:00:00",
          "2023-01-12T00:00:00",
          "2023-01-13T00:00:00",
          "2023-01-14T00:00:00",
          "2023-01-15T00:00:00",
          "2023-01-16T00:00:00",
          "2023-01-17T00:00:00",
          "2023-01-18T00:00:00",
          "2023-01-19T00:00:00",
          "2023-01-20T00:00:00",
          "2023-01-21T00:00:00",
          "2023-01-22T00:00:00",
          "2023-01-23T00:00:00",
          "2023-01-24T00:00:00",
          "2023-01-25T00:00:00",
          "2023-01-26T00:00:00",
          "2023-01-27T00:00:00",
          "2023-01-28T00:00:00",
          "2023-01-29T00:00:00",
          "2023-01-30T00:00:00",
          "2023-01-31T00:00:00",
          "2023-02-01T00:00:00",
          "2023-02-02T00:00:00",
          "2023-02-03T00:00:00",
          "2023-02-04T00:00:00",
          "2023-02-05T00:00:00",
          "2023-02-06T00:00:00",
          "2023-02-07T00:00:00",
          "2023-02-08T00:00:00",
          "2023-02-09T00:00:00",
          "2023-02-10T00:00:00",
          "2023-02-11T00:00:00",
          "2023-02-12T00:00:00",
          "2023-02-13T00:00:00",
          "2023-02-14T00:00:00",
          "2023-02-15T00:00:00",
          "2023-02-16T00:00:00",
          "2023-02-17T00:00:00",
          "2023-02-18T00:00:00",
          "2023-02-19T00:00:00",
          "2023-02-20T00:00:00",
          "2023-02-21T00:00:00",
          "2023-02-22T00:00:00",
          "2023-02-23T00:00:00",
          "2023-02-24T00:00:00",
          "2023-02-25T00:00:00",
          "2023-02-26T00:00:00",
          "2023-02-27T00:00:00",
          "2023-02-28T00:00:00",
          "2023-03-01T00:00:00",
          "2023-03-02T00:00:00",
          "2023-03-03T00:00:00",
          "2023-03-04T00:00:00",
          "2023-03-05T00:00:00",
          "2023-03-06T00:00:00",
          "2023-03-07T00:00:00",
          "2023-03-08T00:00:00",
          "2023-03-09T00:00:00",
          "2023-03-10T00:00:00",
          "2023-03-11T00:00:00",
          "2023-03-12T00:00:00",
          "2023-03-13T00:00:00",
          "2023-03-14T00:00:00",
          "2023-03-15T00:00:00",
          "2023-03-16T00:00:00",
          "2023-03-17T00:00:00",
          "2023-03-18T00:00:00",
          "2023-03-19T00:00:00",
          "2023-03-20T00:00:00",
          "2023-03-21T00:00:00",
          "2023-03-22T00:00:00",
          "2023-03-23T00:00:00",
          "2023-03-24T00:00:00",
          "2023-03-25T00:00:00",
          "2023-03-26T00:00:00",
          "2023-03-27T00:00:00",
          "2023-03-28T00:00:00",
          "2023-03-29T00:00:00",
          "2023-03-30T00:00:00",
          "2023-03-31T00:00:00",
          "2023-04-01T00:00:00",
          "2023-04-02T00:00:00",
          "2023-04-03T00:00:00",
          "2023-04-04T00:00:00",
          "2023-04-05T00:00:00",
          "2023-04-06T00:00:00",
          "2023-04-07T00:00:00",
          "2023-04-08T00:00:00",
          "2023-04-09T00:00:00",
          "2023-04-10T00:00:00",
          "2023-04-11T00:00:00",
          "2023-04-12T00:00:00",
          "2023-04-13T00:00:00",
          "2023-04-14T00:00:00",
          "2023-04-15T00:00:00",
          "2023-04-16T00:00:00",
          "2023-04-17T00:00:00",
          "2023-04-18T00:00:00",
          "2023-04-19T00:00:00",
          "2023-04-20T00:00:00",
          "2023-04-21T00:00:00",
          "2023-04-22T00:00:00",
          "2023-04-23T00:00:00",
          "2023-04-24T00:00:00",
          "2023-04-25T00:00:00",
          "2023-04-26T00:00:00",
          "2023-04-27T00:00:00",
          "2023-04-28T00:00:00",
          "2023-04-29T00:00:00",
          "2023-04-30T00:00:00",
          "2023-05-01T00:00:00",
          "2023-05-02T00:00:00",
          "2023-05-03T00:00:00",
          "2023-05-04T00:00:00",
          "2023-05-05T00:00:00",
          "2023-05-06T00:00:00",
          "2023-05-07T00:00:00",
          "2023-05-08T00:00:00",
          "2023-05-09T00:00:00",
          "2023-05-10T00:00:00",
          "2023-05-11T00:00:00",
          "2023-05-12T00:00:00",
          "2023-05-13T00:00:00",
          "2023-05-14T00:00:00",
          "2023-05-15T00:00:00",
          "2023-05-16T00:00:00",
          "2023-05-17T00:00:00",
          "2023-05-18T00:00:00",
          "2023-05-19T00:00:00",
          "2023-05-20T00:00:00",
          "2023-05-21T00:00:00",
          "2023-05-22T00:00:00",
          "2023-05-23T00:00:00",
          "2023-05-24T00:00:00",
          "2023-05-25T00:00:00",
          "2023-05-26T00:00:00",
          "2023-05-27T00:00:00",
          "2023-05-28T00:00:00",
          "2023-05-29T00:00:00",
          "2023-05-30T00:00:00",
          "2023-05-31T00:00:00"
         ],
         "y": [
          356424.565,
          380106.08999999997,
          400018.98,
          176192.841,
          199925.661,
          479830.9,
          494813.497,
          596759.4149999999,
          445649.88399999996,
          548989.8589999999,
          199212.695,
          397065.468,
          480506.94200000004,
          412941.61900000006,
          467094.605,
          575794.065,
          474525.34800000006,
          233062.225,
          191933.858,
          506003.51000000007,
          648561.569,
          559031.054,
          557591.252,
          632840.27,
          394497.028,
          231570.49200000003,
          421412.54799999995,
          472639.033,
          645266.061,
          630437.163,
          652301.993,
          278686.706,
          290890.994,
          501626.77100000007,
          677741.226,
          538997.271,
          527351.971,
          470174.596,
          430623.762,
          389353.006,
          533454.193,
          634925.821,
          656986.901,
          636543.9210000001,
          696909.8579999999,
          395536.97699999996,
          359825.398,
          615787.4779999999,
          566309.236,
          745398.349,
          674999.476,
          613057.781,
          518570.43799999997,
          447073.65099999995,
          700023.277,
          702570.924,
          697186.528,
          678477.9700000001,
          582565.222,
          416756.68799999997,
          391360.323,
          577665.164,
          614454.09,
          731414.145,
          689520.7719999999,
          699753.951,
          495927.647,
          533939.241,
          734760.953,
          707253.3150000001,
          753015.392,
          700140.377,
          686800.321,
          532694.5419999999,
          467305.034,
          766987.132,
          790487.402,
          771152.764,
          759508.696,
          751737.8890000001,
          542169.4789999999,
          543020.318,
          753072.104,
          813993.509,
          758622.927,
          767545.788,
          766606.8369999999,
          621107.242,
          613021.397,
          829654.008,
          865461.842,
          871938.128,
          889400.7420000001,
          869477.8369999999,
          688182.301,
          697267.998,
          943527.021,
          971329.816,
          948695.8920000001,
          962078.8030000001,
          922622.586,
          692413.245,
          638260.448,
          822672.701,
          815713.73,
          808111.893,
          772975.233,
          756063.107,
          601646.288,
          585131.899,
          809969.088,
          833078.4380000001,
          817605.813,
          693527.457,
          597841.9040000001,
          594069.814,
          608140.593,
          718988.902,
          726295.34,
          734389.617,
          723049.425,
          574221.259,
          587744.25,
          646195.254,
          826378.2440000001,
          826874.64,
          829988.785,
          861049.246,
          869528.394,
          723801.251,
          694837.39,
          930532.8829999999,
          1010883.344,
          973352.0599999999,
          861930.108,
          861093.419,
          627005.192,
          658659.779,
          855744.164,
          916076.288,
          883831.964,
          894890.1549999999,
          882325.262,
          692140.1329999999,
          679290.1059999999,
          858464.053,
          809766.018,
          875724.961,
          868288.179,
          851596.086,
          661161.206,
          626534.401,
          876461.3910000001,
          938562.36,
          991866.402,
          1000161.903,
          959144.598,
          745045.924,
          702066.2660000001,
          905307.98,
          907837.48,
          910812.8640000001,
          894160.166,
          834491.983,
          680291.547,
          670980.523,
          841989.6109999999,
          799274.805,
          878563.71,
          886451.8960000001,
          841095.802,
          719070.1420000001,
          660884.007,
          902593.879,
          888893.863,
          842309.552,
          662498.611,
          753801.24,
          442215.81200000003,
          462519.10599999997,
          583010.0569999999,
          594639.947,
          805790.513,
          773520.296,
          646534.8230000001,
          428762.93799999997,
          442654.11699999997,
          811883.913,
          838559.4,
          709678.9709999999,
          644597.419,
          672017.5430000001,
          422449.50899999996,
          359701.91,
          496529.86,
          492841.83999999997,
          479109.806,
          492853.39099999995,
          517116.547,
          467662.781,
          251349.651,
          409234.975,
          435611.90700000006,
          579624.569,
          512346.176,
          553776.9909999999,
          504395.343,
          253749.769,
          671860.7010000001,
          758490.398,
          617670.484,
          585407.566,
          518772.01100000006,
          297342.39900000003,
          257739.865,
          700166.471,
          781625.525,
          615515.172,
          805719.631,
          678078.295,
          414149.074,
          391141.189,
          390810.85,
          364570.092,
          391109.6969999999,
          737499.586,
          426070.40900000004,
          120323.946,
          98189.62700000004,
          459766.948,
          345614.90199999994,
          332479.28500000003,
          289959.87299999996,
          333444.562,
          199599.86700000003,
          319825.988,
          622415.087,
          328752.35599999997,
          292035.2949999999,
          430077.046,
          373164.497,
          98542.044,
          255051.231,
          383969.924,
          413549.839,
          389454.70699999994,
          421459.62600000005,
          333740.01600000006,
          172505.64899999998,
          -11068.271000000008,
          358895.703,
          279881.617,
          559136.7520000001,
          654065.4809999999,
          335476.497,
          263035.825,
          -201.05899999995017,
          292789.934,
          542633.344,
          245709.96399999998,
          389120.45000000007,
          663684.188,
          100580.28099999996,
          -45775.22099999996,
          193272.51299999998,
          197389.349,
          405038.24899999995,
          510289.663,
          509009.05700000003,
          269997.566,
          142317.013,
          357532.11000000004,
          620559.01,
          394309.25,
          565428.23,
          435470.79299999995,
          169892.11499999996,
          -13938.014000000025,
          121782.59999999998,
          164773.38300000003,
          478586.898,
          230012.168,
          335433.231,
          21727.257999999973,
          42059.24099999998,
          298553.377,
          533934.179,
          221636.87900000007,
          239855.14999999997,
          170989.69800000003,
          340393.222,
          14206.44299999997,
          287392.148,
          102764.685,
          38641.73600000003,
          -80812.294,
          -151305.039,
          -147445.85700000002,
          -89378.14799999999,
          174087.61199999996,
          302715.942,
          332880.19200000004,
          221358.94299999997,
          244140.35199999996,
          43053.98800000001,
          30086.924,
          222832.08499999996,
          267666.501,
          355225.881,
          328500.15900000004,
          434872.676,
          161788.936,
          78775.10700000002,
          239895.40399999998,
          497493.907,
          221620.153,
          299567.132,
          307947.14499999996,
          31492.262999999977,
          198390.68399999998,
          246378.5,
          294351.522,
          82201.14500000002,
          150940.24100000004,
          145493.64499999996,
          177479.62300000002,
          264058.77300000004,
          183592.213,
          359694.25200000004,
          391795.43200000003,
          398868.4469999999,
          247934.04200000002,
          -26240.572999999975,
          -38957.511,
          523991.03699999995,
          298282.778,
          283876.179,
          266922.374,
          208430.39300000004,
          292888.908,
          79201.457,
          477643.108,
          305207.98199999996,
          266227.60099999997,
          255031.49300000002,
          256200.04499999993,
          86711.826,
          61834.929000000004,
          372289.54000000004,
          346538.799,
          499880.61400000006,
          382428.11900000006,
          358558.01599999995,
          141512.68299999996,
          185248.838,
          613567.2300000001,
          405307.659,
          555610.025,
          607948.975,
          461873.52599999995,
          151650.86800000002,
          154880.342,
          592259.744,
          718756.03,
          560180.665,
          468571.003,
          369067.90499999997,
          184428.533,
          229280.26000000004,
          533914.951,
          464264.08699999994,
          544009.863,
          496469.997,
          300602.01,
          111821.14299999998,
          78166.27500000002,
          490206.556,
          726702.898,
          734857.44,
          644416.362,
          621066.518,
          405233.954,
          286345.40599999996,
          605064.095,
          630193.141,
          639714.4589999999,
          549786.09,
          591249.282,
          251064.396,
          262889.98400000005,
          496647.78500000003,
          441678.90100000007,
          508192.762,
          726205.9519999999,
          613124.669,
          355139.39099999995,
          418665.296,
          753744.09,
          822258.528,
          846287.016,
          798773.4199999999,
          680256.7390000001,
          443254.712,
          293849.488,
          660433.986,
          799410.206,
          584887.3759999999,
          758443.545,
          771942.0530000001,
          520558.39300000004,
          578457.794,
          741845.093,
          834157.531,
          748778.532,
          802180.6719999999,
          817827.119,
          453617.238,
          618079.0059999999,
          696134.444,
          932620.423,
          868610.482,
          883207.705,
          850549.7840000001,
          644253.822,
          579958.0149999999,
          697277.02,
          876210.542,
          869829.38,
          887308.298,
          862671.272,
          699344.7390000001,
          640323.319,
          846640.182,
          872495.122,
          875608.913,
          881317.019,
          876225.656,
          566939.627,
          519830.567,
          915133.792,
          954099.2660000001,
          946903.246,
          990476.262,
          972652.728,
          804931.631,
          814886.806,
          1077770.0499999998,
          1068106.291,
          1062852.831,
          1068647.774,
          1052585.545,
          855231.7749999999,
          835292.94,
          1062484.4070000001,
          1072433.303,
          1073450.003,
          1081634.7889999999,
          1126385.091,
          918105.59,
          873488.84,
          1093124.134,
          1132726.5799999998,
          1124452.043,
          1117448.6770000001,
          1113933.598,
          906771.13,
          909013.553,
          1106256.8239999998,
          1140865.459,
          1124802.716,
          1142232.1539999999,
          1107205.328,
          912556.564,
          878146.403,
          1028430.058,
          1068021.3530000001,
          983664.121,
          915347.809,
          814332.528,
          698859.4060000001,
          739361.3910000001,
          822514.502,
          911002.314,
          861853.826,
          875368.814,
          805590.7690000001,
          687944.62,
          675828.12,
          952990.811,
          1012483.023,
          1052675.885,
          1127494.032,
          1145520.197,
          1019853.107,
          984683.591,
          1192128.118,
          1177999.508,
          1112591.994,
          1115998.24,
          1055335.006,
          811558.949,
          808387.265,
          1034551.415,
          1101201.7289999998,
          1078594.177,
          1078693.506,
          1077397.943,
          851653.858,
          893293.3180000001,
          1186432.286,
          1156837.4070000001,
          1116590.284,
          1107506.971,
          1041721.2790000001,
          877514.068,
          817914.164,
          1054012.693,
          1030111.2779999999,
          1131416.3890000002,
          1126899.4209999999,
          1146005.102,
          949389.8890000001,
          889696.61,
          1099110.9160000002,
          1133068.662,
          1138331.5939999998,
          1052104.769,
          1040287.523,
          866891.218,
          846846.447,
          944389.027,
          826837.668,
          977352.3759999999,
          1089249.2170000002,
          1079306.381,
          852880.107,
          857110.824,
          1128114.231,
          1184394.482,
          1187873.81,
          1159631.392,
          919582.1340000001,
          904341.873,
          883335.753,
          1014998.083,
          971996.0900000001,
          822953.769,
          736509.025,
          791900.463,
          851637.7220000001,
          847896.763,
          1074661.948,
          1099682.7719999999,
          1153198.6530000002,
          1038603.6170000001,
          956674.1510000001,
          937296.1159999999,
          724452.769,
          908459.3050000002,
          908260.186,
          685319.4789999999,
          651387.898,
          628804.137,
          545846.6560000001,
          640217.662,
          775303.669,
          754418.553,
          977676.634,
          743922.041,
          743117.088,
          517962.779,
          637453.408,
          933500.356,
          812778.203,
          755709.548,
          977703.3640000001,
          954843.336,
          522138.26599999995,
          169363.54799999995,
          604390.9890000001,
          604995.365,
          1032683.2490000001,
          777964.6120000001,
          109032.97900000005,
          55216.58999999997,
          53129.34500000003,
          279993.01399999997,
          458609.68700000003,
          395779.671,
          649095.1880000001,
          306622.435,
          175070.434,
          253569.49300000002,
          425983.86199999996,
          404064.226,
          182962.01199999993,
          220185.22500000003,
          270293.921,
          -54411.44800000003,
          -98697.91600000003,
          367865.38,
          383743.772,
          460445.146,
          494806.3720000001,
          409201.64999999997,
          131234.86,
          256365.27000000002,
          75234.23799999995,
          525467.198,
          246022.40399999992,
          303320.58300000004,
          465075.45800000004,
          72752.35199999996,
          -155549.21500000003,
          89543.27799999993,
          68688.8189999999,
          81936.19500000007,
          63216.36599999992,
          289.8159999999916,
          -231696.304,
          -236379.31700000004,
          94944.19799999997,
          774240.9319999999,
          364298.69299999997,
          -21085.55900000001,
          -98213.68400000001,
          -327645.421,
          -246578.44399999996,
          128104.76399999997,
          91480.98199999996,
          -4487.054000000004,
          284208.63699999993,
          -8840.234999999986,
          -343510.68399999995,
          -348577.47,
          -18008.849999999977,
          54664.60600000003,
          -55126.88399999996
         ]
        }
       ],
       "layout": {
        "annotations": [
         {
          "showarrow": false,
          "text": "Average Net Consumption",
          "x": 1,
          "xanchor": "right",
          "xref": "x domain",
          "y": 587801.9886159875,
          "yanchor": "top",
          "yref": "y"
         }
        ],
        "plot_bgcolor": "rgba(0,0,0,0)",
        "shapes": [
         {
          "line": {
           "color": "orange",
           "dash": "dot",
           "width": 2
          },
          "type": "line",
          "x0": 0,
          "x1": 1,
          "xref": "x domain",
          "y0": 587801.9886159875,
          "y1": 587801.9886159875,
          "yref": "y"
         }
        ],
        "template": {
         "data": {
          "bar": [
           {
            "error_x": {
             "color": "#2a3f5f"
            },
            "error_y": {
             "color": "#2a3f5f"
            },
            "marker": {
             "line": {
              "color": "#E5ECF6",
              "width": 0.5
             },
             "pattern": {
              "fillmode": "overlay",
              "size": 10,
              "solidity": 0.2
             }
            },
            "type": "bar"
           }
          ],
          "barpolar": [
           {
            "marker": {
             "line": {
              "color": "#E5ECF6",
              "width": 0.5
             },
             "pattern": {
              "fillmode": "overlay",
              "size": 10,
              "solidity": 0.2
             }
            },
            "type": "barpolar"
           }
          ],
          "carpet": [
           {
            "aaxis": {
             "endlinecolor": "#2a3f5f",
             "gridcolor": "white",
             "linecolor": "white",
             "minorgridcolor": "white",
             "startlinecolor": "#2a3f5f"
            },
            "baxis": {
             "endlinecolor": "#2a3f5f",
             "gridcolor": "white",
             "linecolor": "white",
             "minorgridcolor": "white",
             "startlinecolor": "#2a3f5f"
            },
            "type": "carpet"
           }
          ],
          "choropleth": [
           {
            "colorbar": {
             "outlinewidth": 0,
             "ticks": ""
            },
            "type": "choropleth"
           }
          ],
          "contour": [
           {
            "colorbar": {
             "outlinewidth": 0,
             "ticks": ""
            },
            "colorscale": [
             [
              0,
              "#0d0887"
             ],
             [
              0.1111111111111111,
              "#46039f"
             ],
             [
              0.2222222222222222,
              "#7201a8"
             ],
             [
              0.3333333333333333,
              "#9c179e"
             ],
             [
              0.4444444444444444,
              "#bd3786"
             ],
             [
              0.5555555555555556,
              "#d8576b"
             ],
             [
              0.6666666666666666,
              "#ed7953"
             ],
             [
              0.7777777777777778,
              "#fb9f3a"
             ],
             [
              0.8888888888888888,
              "#fdca26"
             ],
             [
              1,
              "#f0f921"
             ]
            ],
            "type": "contour"
           }
          ],
          "contourcarpet": [
           {
            "colorbar": {
             "outlinewidth": 0,
             "ticks": ""
            },
            "type": "contourcarpet"
           }
          ],
          "heatmap": [
           {
            "colorbar": {
             "outlinewidth": 0,
             "ticks": ""
            },
            "colorscale": [
             [
              0,
              "#0d0887"
             ],
             [
              0.1111111111111111,
              "#46039f"
             ],
             [
              0.2222222222222222,
              "#7201a8"
             ],
             [
              0.3333333333333333,
              "#9c179e"
             ],
             [
              0.4444444444444444,
              "#bd3786"
             ],
             [
              0.5555555555555556,
              "#d8576b"
             ],
             [
              0.6666666666666666,
              "#ed7953"
             ],
             [
              0.7777777777777778,
              "#fb9f3a"
             ],
             [
              0.8888888888888888,
              "#fdca26"
             ],
             [
              1,
              "#f0f921"
             ]
            ],
            "type": "heatmap"
           }
          ],
          "heatmapgl": [
           {
            "colorbar": {
             "outlinewidth": 0,
             "ticks": ""
            },
            "colorscale": [
             [
              0,
              "#0d0887"
             ],
             [
              0.1111111111111111,
              "#46039f"
             ],
             [
              0.2222222222222222,
              "#7201a8"
             ],
             [
              0.3333333333333333,
              "#9c179e"
             ],
             [
              0.4444444444444444,
              "#bd3786"
             ],
             [
              0.5555555555555556,
              "#d8576b"
             ],
             [
              0.6666666666666666,
              "#ed7953"
             ],
             [
              0.7777777777777778,
              "#fb9f3a"
             ],
             [
              0.8888888888888888,
              "#fdca26"
             ],
             [
              1,
              "#f0f921"
             ]
            ],
            "type": "heatmapgl"
           }
          ],
          "histogram": [
           {
            "marker": {
             "pattern": {
              "fillmode": "overlay",
              "size": 10,
              "solidity": 0.2
             }
            },
            "type": "histogram"
           }
          ],
          "histogram2d": [
           {
            "colorbar": {
             "outlinewidth": 0,
             "ticks": ""
            },
            "colorscale": [
             [
              0,
              "#0d0887"
             ],
             [
              0.1111111111111111,
              "#46039f"
             ],
             [
              0.2222222222222222,
              "#7201a8"
             ],
             [
              0.3333333333333333,
              "#9c179e"
             ],
             [
              0.4444444444444444,
              "#bd3786"
             ],
             [
              0.5555555555555556,
              "#d8576b"
             ],
             [
              0.6666666666666666,
              "#ed7953"
             ],
             [
              0.7777777777777778,
              "#fb9f3a"
             ],
             [
              0.8888888888888888,
              "#fdca26"
             ],
             [
              1,
              "#f0f921"
             ]
            ],
            "type": "histogram2d"
           }
          ],
          "histogram2dcontour": [
           {
            "colorbar": {
             "outlinewidth": 0,
             "ticks": ""
            },
            "colorscale": [
             [
              0,
              "#0d0887"
             ],
             [
              0.1111111111111111,
              "#46039f"
             ],
             [
              0.2222222222222222,
              "#7201a8"
             ],
             [
              0.3333333333333333,
              "#9c179e"
             ],
             [
              0.4444444444444444,
              "#bd3786"
             ],
             [
              0.5555555555555556,
              "#d8576b"
             ],
             [
              0.6666666666666666,
              "#ed7953"
             ],
             [
              0.7777777777777778,
              "#fb9f3a"
             ],
             [
              0.8888888888888888,
              "#fdca26"
             ],
             [
              1,
              "#f0f921"
             ]
            ],
            "type": "histogram2dcontour"
           }
          ],
          "mesh3d": [
           {
            "colorbar": {
             "outlinewidth": 0,
             "ticks": ""
            },
            "type": "mesh3d"
           }
          ],
          "parcoords": [
           {
            "line": {
             "colorbar": {
              "outlinewidth": 0,
              "ticks": ""
             }
            },
            "type": "parcoords"
           }
          ],
          "pie": [
           {
            "automargin": true,
            "type": "pie"
           }
          ],
          "scatter": [
           {
            "fillpattern": {
             "fillmode": "overlay",
             "size": 10,
             "solidity": 0.2
            },
            "type": "scatter"
           }
          ],
          "scatter3d": [
           {
            "line": {
             "colorbar": {
              "outlinewidth": 0,
              "ticks": ""
             }
            },
            "marker": {
             "colorbar": {
              "outlinewidth": 0,
              "ticks": ""
             }
            },
            "type": "scatter3d"
           }
          ],
          "scattercarpet": [
           {
            "marker": {
             "colorbar": {
              "outlinewidth": 0,
              "ticks": ""
             }
            },
            "type": "scattercarpet"
           }
          ],
          "scattergeo": [
           {
            "marker": {
             "colorbar": {
              "outlinewidth": 0,
              "ticks": ""
             }
            },
            "type": "scattergeo"
           }
          ],
          "scattergl": [
           {
            "marker": {
             "colorbar": {
              "outlinewidth": 0,
              "ticks": ""
             }
            },
            "type": "scattergl"
           }
          ],
          "scattermapbox": [
           {
            "marker": {
             "colorbar": {
              "outlinewidth": 0,
              "ticks": ""
             }
            },
            "type": "scattermapbox"
           }
          ],
          "scatterpolar": [
           {
            "marker": {
             "colorbar": {
              "outlinewidth": 0,
              "ticks": ""
             }
            },
            "type": "scatterpolar"
           }
          ],
          "scatterpolargl": [
           {
            "marker": {
             "colorbar": {
              "outlinewidth": 0,
              "ticks": ""
             }
            },
            "type": "scatterpolargl"
           }
          ],
          "scatterternary": [
           {
            "marker": {
             "colorbar": {
              "outlinewidth": 0,
              "ticks": ""
             }
            },
            "type": "scatterternary"
           }
          ],
          "surface": [
           {
            "colorbar": {
             "outlinewidth": 0,
             "ticks": ""
            },
            "colorscale": [
             [
              0,
              "#0d0887"
             ],
             [
              0.1111111111111111,
              "#46039f"
             ],
             [
              0.2222222222222222,
              "#7201a8"
             ],
             [
              0.3333333333333333,
              "#9c179e"
             ],
             [
              0.4444444444444444,
              "#bd3786"
             ],
             [
              0.5555555555555556,
              "#d8576b"
             ],
             [
              0.6666666666666666,
              "#ed7953"
             ],
             [
              0.7777777777777778,
              "#fb9f3a"
             ],
             [
              0.8888888888888888,
              "#fdca26"
             ],
             [
              1,
              "#f0f921"
             ]
            ],
            "type": "surface"
           }
          ],
          "table": [
           {
            "cells": {
             "fill": {
              "color": "#EBF0F8"
             },
             "line": {
              "color": "white"
             }
            },
            "header": {
             "fill": {
              "color": "#C8D4E3"
             },
             "line": {
              "color": "white"
             }
            },
            "type": "table"
           }
          ]
         },
         "layout": {
          "annotationdefaults": {
           "arrowcolor": "#2a3f5f",
           "arrowhead": 0,
           "arrowwidth": 1
          },
          "autotypenumbers": "strict",
          "coloraxis": {
           "colorbar": {
            "outlinewidth": 0,
            "ticks": ""
           }
          },
          "colorscale": {
           "diverging": [
            [
             0,
             "#8e0152"
            ],
            [
             0.1,
             "#c51b7d"
            ],
            [
             0.2,
             "#de77ae"
            ],
            [
             0.3,
             "#f1b6da"
            ],
            [
             0.4,
             "#fde0ef"
            ],
            [
             0.5,
             "#f7f7f7"
            ],
            [
             0.6,
             "#e6f5d0"
            ],
            [
             0.7,
             "#b8e186"
            ],
            [
             0.8,
             "#7fbc41"
            ],
            [
             0.9,
             "#4d9221"
            ],
            [
             1,
             "#276419"
            ]
           ],
           "sequential": [
            [
             0,
             "#0d0887"
            ],
            [
             0.1111111111111111,
             "#46039f"
            ],
            [
             0.2222222222222222,
             "#7201a8"
            ],
            [
             0.3333333333333333,
             "#9c179e"
            ],
            [
             0.4444444444444444,
             "#bd3786"
            ],
            [
             0.5555555555555556,
             "#d8576b"
            ],
            [
             0.6666666666666666,
             "#ed7953"
            ],
            [
             0.7777777777777778,
             "#fb9f3a"
            ],
            [
             0.8888888888888888,
             "#fdca26"
            ],
            [
             1,
             "#f0f921"
            ]
           ],
           "sequentialminus": [
            [
             0,
             "#0d0887"
            ],
            [
             0.1111111111111111,
             "#46039f"
            ],
            [
             0.2222222222222222,
             "#7201a8"
            ],
            [
             0.3333333333333333,
             "#9c179e"
            ],
            [
             0.4444444444444444,
             "#bd3786"
            ],
            [
             0.5555555555555556,
             "#d8576b"
            ],
            [
             0.6666666666666666,
             "#ed7953"
            ],
            [
             0.7777777777777778,
             "#fb9f3a"
            ],
            [
             0.8888888888888888,
             "#fdca26"
            ],
            [
             1,
             "#f0f921"
            ]
           ]
          },
          "colorway": [
           "#636efa",
           "#EF553B",
           "#00cc96",
           "#ab63fa",
           "#FFA15A",
           "#19d3f3",
           "#FF6692",
           "#B6E880",
           "#FF97FF",
           "#FECB52"
          ],
          "font": {
           "color": "#2a3f5f"
          },
          "geo": {
           "bgcolor": "white",
           "lakecolor": "white",
           "landcolor": "#E5ECF6",
           "showlakes": true,
           "showland": true,
           "subunitcolor": "white"
          },
          "hoverlabel": {
           "align": "left"
          },
          "hovermode": "closest",
          "mapbox": {
           "style": "light"
          },
          "paper_bgcolor": "white",
          "plot_bgcolor": "#E5ECF6",
          "polar": {
           "angularaxis": {
            "gridcolor": "white",
            "linecolor": "white",
            "ticks": ""
           },
           "bgcolor": "#E5ECF6",
           "radialaxis": {
            "gridcolor": "white",
            "linecolor": "white",
            "ticks": ""
           }
          },
          "scene": {
           "xaxis": {
            "backgroundcolor": "#E5ECF6",
            "gridcolor": "white",
            "gridwidth": 2,
            "linecolor": "white",
            "showbackground": true,
            "ticks": "",
            "zerolinecolor": "white"
           },
           "yaxis": {
            "backgroundcolor": "#E5ECF6",
            "gridcolor": "white",
            "gridwidth": 2,
            "linecolor": "white",
            "showbackground": true,
            "ticks": "",
            "zerolinecolor": "white"
           },
           "zaxis": {
            "backgroundcolor": "#E5ECF6",
            "gridcolor": "white",
            "gridwidth": 2,
            "linecolor": "white",
            "showbackground": true,
            "ticks": "",
            "zerolinecolor": "white"
           }
          },
          "shapedefaults": {
           "line": {
            "color": "#2a3f5f"
           }
          },
          "ternary": {
           "aaxis": {
            "gridcolor": "white",
            "linecolor": "white",
            "ticks": ""
           },
           "baxis": {
            "gridcolor": "white",
            "linecolor": "white",
            "ticks": ""
           },
           "bgcolor": "#E5ECF6",
           "caxis": {
            "gridcolor": "white",
            "linecolor": "white",
            "ticks": ""
           }
          },
          "title": {
           "x": 0.05
          },
          "xaxis": {
           "automargin": true,
           "gridcolor": "white",
           "linecolor": "white",
           "ticks": "",
           "title": {
            "standoff": 15
           },
           "zerolinecolor": "white",
           "zerolinewidth": 2
          },
          "yaxis": {
           "automargin": true,
           "gridcolor": "white",
           "linecolor": "white",
           "ticks": "",
           "title": {
            "standoff": 15
           },
           "zerolinecolor": "white",
           "zerolinewidth": 2
          }
         }
        },
        "title": {
         "text": "Análisis del consumo Neto Diario"
        },
        "xaxis": {
         "gridcolor": "lightgrey",
         "title": {
          "text": "Date"
         }
        },
        "yaxis": {
         "gridcolor": "lightgrey",
         "title": {
          "text": "Net Consumption"
         }
        }
       }
      }
     },
     "metadata": {},
     "output_type": "display_data"
    }
   ],
   "source": [
    "# Calcular el consumo neto diario\n",
    "dailyNetConsumption = dailyCons['target'] - dailyProd['target']\n",
    "\n",
    "# Calcular el promedio de consumo neto diario\n",
    "meanNetConsumption = dailyNetConsumption.mean()\n",
    "\n",
    "# Crear la gráfica\n",
    "fig = go.Figure()\n",
    "\n",
    "# Añadir la traza de área para el consumo neto diario\n",
    "fig.add_trace(go.Scatter(\n",
    "    x=dailyNetConsumption.index, y=dailyNetConsumption,\n",
    "    mode='lines',\n",
    "    name='Daily Net Consumption',\n",
    "    line=dict(color='green', width=2)\n",
    "))\n",
    "\n",
    "# Añadir línea horizontal indicando el consumo neto promedio\n",
    "fig.add_hline(y=meanNetConsumption, line_dash=\"dot\",\n",
    "              annotation_text=\"Average Net Consumption\",\n",
    "              annotation_position=\"bottom right\",\n",
    "              line=dict(color='orange', width=2))\n",
    "\n",
    "# Personalizar la apariencia de la gráfica\n",
    "fig.update_layout(\n",
    "    title='Análisis del consumo Neto Diario',\n",
    "    xaxis_title='Date',\n",
    "    yaxis_title='Net Consumption',\n",
    "    plot_bgcolor='rgba(0,0,0,0)',  # Fondo transparente\n",
    "    yaxis=dict(\n",
    "        gridcolor='lightgrey'  # Color de las líneas de la cuadrícula\n",
    "    ),\n",
    "    xaxis=dict(\n",
    "        gridcolor='lightgrey'  # Color de las líneas de la cuadrícula\n",
    "    )\n",
    ")\n",
    "\n",
    "# Mostrar la gráfica\n",
    "fig.show()"
   ]
  },
  {
   "cell_type": "code",
   "execution_count": 11,
   "metadata": {},
   "outputs": [
    {
     "data": {
      "application/vnd.plotly.v1+json": {
       "config": {
        "plotlyServerURL": "https://plot.ly"
       },
       "data": [
        {
         "alignmentgroup": "True",
         "bingroup": "x",
         "hovertemplate": "target=%{x}<br>count=%{y}<extra></extra>",
         "legendgroup": "",
         "marker": {
          "color": "#636efa",
          "pattern": {
           "shape": ""
          }
         },
         "name": "",
         "nbinsx": 50,
         "offsetgroup": "",
         "orientation": "v",
         "showlegend": false,
         "type": "histogram",
         "x": [
          157505.391,
          138802.216,
          127900.79000000001,
          197071.556,
          167043.915,
          86084.987,
          82191.507,
          24827.055,
          110122.145,
          43167.189,
          175609.696,
          27427.021,
          88885.613,
          127534.958,
          102360.34,
          39801.741,
          90325.104,
          167455.145,
          193249.2,
          83690.256,
          16738.11,
          65199.123,
          66159.513,
          17481.367,
          52671.635,
          159270.228,
          132684.566,
          110802.158,
          16488.451,
          22704.976,
          23521.41,
          146697.393,
          124374.94,
          96270.909,
          13084.654,
          87098.961,
          90469.972,
          120898.409,
          40167.128,
          51071.927,
          85160.942,
          43203.979,
          29724.739999999998,
          44887.315,
          6649.935,
          81259.144,
          92605.75,
          54754.538,
          92082.597,
          2775.791,
          16210.048,
          48681.267,
          11641.711,
          46537.346,
          9208.028,
          9829.573,
          10423.333,
          19442.269,
          57768.143000000004,
          66723.781,
          57146.883,
          59841.452,
          54499.871,
          1682.139,
          12342.462,
          2901.679,
          20226.564,
          2062.84,
          5150.083,
          31012.367,
          2180.75,
          14805.199,
          18197.441,
          7136.006,
          43224.677,
          10235.15,
          1614.398,
          1200.636,
          3865.16,
          3923.215,
          13755.334,
          7885.684,
          15339.253999999999,
          2658.554,
          11397.642,
          3486.427,
          6707.18,
          2946.665,
          734.87,
          480.938,
          1098.05,
          2488.107,
          1508.538,
          993.496,
          2446.644,
          3302.863,
          2868.055,
          2682.464,
          1318.874,
          2780.416,
          1583.194,
          1825.234,
          1724.902,
          2225.19,
          1324.861,
          794.171,
          7273.629,
          5169.582,
          1748.621,
          2981.823,
          1996.148,
          2274.416,
          2235.567,
          1619.252,
          1265.016,
          2055.53,
          1403.178,
          850.276,
          1851.035,
          1386.76,
          879.208,
          2454.591,
          1904.372,
          450.731,
          565.855,
          1768.1870000000001,
          1494.74,
          1147.573,
          2133.733,
          591.293,
          723.09,
          538.93,
          2817.5190000000002,
          622.023,
          15849.292,
          5234.284,
          29332.559,
          3880.91,
          2250.971,
          4754.057,
          4983.068,
          2655.93,
          2628.645,
          1717.011,
          1145.317,
          1676.544,
          24517.467,
          7392.635,
          2156.835,
          1823.415,
          5854.187,
          2900.611,
          665.242,
          678.868,
          1664.492,
          2918.357,
          8946.147,
          1646.1,
          2941.656,
          3308.395,
          3214.282,
          6787.436,
          16802.736,
          37759.486,
          23983.395,
          11905.938,
          19528.981,
          36244.198,
          10778.244999999999,
          6026.7,
          28504.12,
          6875.168,
          16320.258,
          4820.039,
          9710.293,
          20774.483,
          27245.761,
          13591.005,
          127758.409,
          109226.528,
          143960.893,
          147232.005,
          35167.017,
          64839.323,
          138453.197,
          182865.142,
          142720.82200000001,
          26067.562,
          26811.105,
          102726.327,
          162966.659,
          116624.37700000001,
          166647.339,
          187149.903,
          197369.934,
          190172.184,
          201692.502,
          206345.731,
          186134.514,
          116614.134,
          254297.44,
          222347.508,
          211123.224,
          123118.454,
          170782.078,
          129617.839,
          74956.4,
          243090.047,
          91322.805,
          64801.171,
          147008.142,
          173033.363,
          210184.245,
          257716.474,
          248854.359,
          72193.521,
          51814.666,
          163235.229,
          33354.472,
          87699.309,
          171743.573,
          161139.034,
          261332.921,
          270640.612,
          251070.243,
          35512.434,
          114874.876,
          323108.813,
          336222.795,
          218826.54,
          304099.33,
          298400.35,
          317233.161,
          281099.205,
          273544.995,
          162058.786,
          75621.083,
          266792.567,
          297849.145,
          219608.285,
          256597.86,
          354075.996,
          198716.047,
          254130.85,
          238909.58000000002,
          267559.025,
          245825.808,
          282581.926,
          258559.837,
          383008.642,
          236081.113,
          324798.496,
          144095.058,
          85713.577,
          277517.601,
          178237.885,
          379679.56799999997,
          278254.603,
          135289.391,
          354202.516,
          231538.338,
          46184.157,
          316406.4,
          403471.247,
          343631.758,
          355165.95399999997,
          232408.08299999998,
          156540.05,
          148519.78,
          173242.781,
          251055.659,
          218906.038,
          89340.588,
          234009.77,
          110862.716,
          199034.662,
          249145.61000000002,
          382228.744,
          375579.379,
          354543.534,
          142187.006,
          318102.646,
          243547.385,
          376519.373,
          359310.191,
          269734.066,
          128269.065,
          338825.046,
          306871.163,
          342895.398,
          102759.417,
          342199.4,
          228330.89,
          363046.919,
          376173.783,
          417314.306,
          464651.19299999997,
          447127.982,
          411695.81,
          323568.753,
          266439.406,
          237247.407,
          316202.074,
          303589.375,
          370457.571,
          361994.165,
          316815.28,
          302222.094,
          222558.126,
          248140.722,
          162956.147,
          245912.885,
          304171.787,
          291965.899,
          137108.132,
          323846.854,
          267028.519,
          229962.12900000002,
          346974.804,
          193767.834,
          274417.259,
          259360.797,
          409951.795,
          367322.725,
          368756.253,
          248438.233,
          151685.534,
          333827.911,
          227663.46899999998,
          187981.328,
          176342.486,
          269748.7,
          402611.844,
          404542.137,
          114333.793,
          290431.773,
          301025.275,
          335965.271,
          363019.517,
          194597.472,
          346635.364,
          152681.867,
          300308.503,
          334976.996,
          344882.122,
          347317.346,
          374497.836,
          388608.715,
          267854.137,
          301078.44299999997,
          185134.764,
          277848.529,
          281831.794,
          318664.215,
          273276.642,
          111544.2,
          268661.728,
          165270.508,
          120064.125,
          211043.4,
          324149.054,
          303504.786,
          130210.787,
          62912.395,
          141314.857,
          211328.269,
          270161.391,
          298796.094,
          239101.482,
          149573.608,
          213669.084,
          165851.547,
          204148.252,
          317990.894,
          353717.325,
          355708.12,
          179690.554,
          51073.365,
          49092.932,
          104611.19,
          95737.64199999999,
          105750.012,
          190446.352,
          98033.903,
          97567.581,
          98887.486,
          154788.189,
          111366.086,
          231588.599,
          215822.612,
          182189.482,
          224388.612,
          181916.58,
          46608.567,
          104693.096,
          168101.726,
          114903.657,
          47874.613,
          37382.335,
          17242.461,
          37040.959,
          83217.389,
          108248.739,
          212207.502,
          104522.907,
          43399.741,
          169945.638,
          75068.411,
          43205.188,
          62220.818,
          16373.596,
          63453.443,
          30709.68,
          97026.36,
          56920.528,
          32862.768,
          138404.754,
          17789.876,
          119624.731,
          3678.846,
          13274.483,
          11696.996,
          7132.901,
          9400.083,
          29359.773,
          109401.291,
          9117.605,
          8826.253,
          8564.762,
          10782.301,
          9541.786,
          17937.977,
          17942.19,
          12016.834,
          6549.135,
          7508.502,
          4794.081,
          51703.863,
          83964.381,
          11043.848,
          6195.909,
          14765.907,
          7154.789,
          10090.132,
          5689.916,
          2765.441,
          2280.583,
          2880.2799999999997,
          2474.463,
          1825.277,
          880.71,
          996.79,
          766.822,
          1339.613,
          2125.264,
          1759.023,
          3323.52,
          5553.597,
          1650.462,
          713.836,
          1154.861,
          742.391,
          572.673,
          1338.88,
          2047.212,
          3012.542,
          1077.8509999999999,
          2408.549,
          948.115,
          1342.104,
          2757.171,
          2284.4429999999998,
          1827.54,
          2086.259,
          2105.299,
          2563.505,
          2332.578,
          2755.419,
          3431.065,
          22769.32,
          8549.016,
          6299.84,
          3976.004,
          14170.12,
          2060.8,
          3024.82,
          2534.213,
          2808.118,
          4942.387,
          3005.473,
          2913.149,
          7791.114,
          7380.914,
          5023.278,
          2455.915,
          2139.169,
          1617.266,
          4819.436,
          2736.293,
          2799.0950000000003,
          4088.411,
          3657.586,
          9843.52,
          3556.965,
          4730.682,
          7352.909,
          12071.718,
          38058.53,
          3903.271,
          3027.217,
          2435.416,
          4180.822,
          3564.294,
          33193.115,
          11392.528,
          6167.197,
          10512.947,
          28749.426,
          6965.518,
          11043.175,
          8496.489,
          3945.475,
          24559.515,
          31084.363,
          16230.148,
          5610.86,
          39077.846,
          43131.544,
          21232.642,
          19826.313,
          67954.883,
          143641.108,
          72282.865,
          8181.704,
          7946.782,
          15466.545,
          8121.125,
          5251.881,
          5747.72,
          30633,
          9515.374,
          5776.516,
          8083.257,
          24215.137,
          82587.447,
          67564.163,
          163904.15,
          197630.701,
          141629.919,
          16835.47,
          22923.895,
          43436.542,
          50853.458,
          11186.184,
          98923.071,
          163285.858,
          14533.785,
          121814.496,
          142550.93,
          79007.421,
          217418.917,
          256621.935,
          265649.046,
          151897.28399999999,
          63464.781,
          122184.295,
          161444.047,
          36100.197,
          141043.437,
          131538.338,
          154910.893,
          49477.196,
          64857.674,
          135423.954,
          181711.973,
          54115.811,
          52941.377,
          202365.574,
          431727.792,
          255956.727,
          269581.017,
          28357.399,
          132564.955,
          478323.561,
          489253.453,
          479378.82,
          427869.02,
          299270.505,
          332782.544,
          158865.195,
          405112.822,
          385037.35,
          299932.664,
          305305.323,
          337338.421,
          492054.411,
          458613.572,
          403844.189,
          532252.768,
          551948.883,
          310755.569,
          312409.733,
          266440.641,
          253262.982,
          307720.077,
          402101.375,
          281133.4,
          464688.656,
          254822.093,
          469472.84,
          436172.636,
          324361.888,
          485760.674,
          659038.594,
          580784.846,
          592470.854,
          573329.345,
          580915.094,
          605318.212,
          683287.405,
          673067.724,
          528691.953,
          62181.947,
          347676.615,
          643016.448,
          701607.637,
          774373.666,
          685075.708,
          510611.498,
          546112.089,
          625928.067,
          411391.526,
          623860.564,
          771194.578,
          764474.043,
          621032.624,
          584241.765,
          667617.943
         ],
         "xaxis": "x",
         "yaxis": "y"
        }
       ],
       "layout": {
        "barmode": "relative",
        "legend": {
         "tracegroupgap": 0
        },
        "template": {
         "data": {
          "bar": [
           {
            "error_x": {
             "color": "#2a3f5f"
            },
            "error_y": {
             "color": "#2a3f5f"
            },
            "marker": {
             "line": {
              "color": "#E5ECF6",
              "width": 0.5
             },
             "pattern": {
              "fillmode": "overlay",
              "size": 10,
              "solidity": 0.2
             }
            },
            "type": "bar"
           }
          ],
          "barpolar": [
           {
            "marker": {
             "line": {
              "color": "#E5ECF6",
              "width": 0.5
             },
             "pattern": {
              "fillmode": "overlay",
              "size": 10,
              "solidity": 0.2
             }
            },
            "type": "barpolar"
           }
          ],
          "carpet": [
           {
            "aaxis": {
             "endlinecolor": "#2a3f5f",
             "gridcolor": "white",
             "linecolor": "white",
             "minorgridcolor": "white",
             "startlinecolor": "#2a3f5f"
            },
            "baxis": {
             "endlinecolor": "#2a3f5f",
             "gridcolor": "white",
             "linecolor": "white",
             "minorgridcolor": "white",
             "startlinecolor": "#2a3f5f"
            },
            "type": "carpet"
           }
          ],
          "choropleth": [
           {
            "colorbar": {
             "outlinewidth": 0,
             "ticks": ""
            },
            "type": "choropleth"
           }
          ],
          "contour": [
           {
            "colorbar": {
             "outlinewidth": 0,
             "ticks": ""
            },
            "colorscale": [
             [
              0,
              "#0d0887"
             ],
             [
              0.1111111111111111,
              "#46039f"
             ],
             [
              0.2222222222222222,
              "#7201a8"
             ],
             [
              0.3333333333333333,
              "#9c179e"
             ],
             [
              0.4444444444444444,
              "#bd3786"
             ],
             [
              0.5555555555555556,
              "#d8576b"
             ],
             [
              0.6666666666666666,
              "#ed7953"
             ],
             [
              0.7777777777777778,
              "#fb9f3a"
             ],
             [
              0.8888888888888888,
              "#fdca26"
             ],
             [
              1,
              "#f0f921"
             ]
            ],
            "type": "contour"
           }
          ],
          "contourcarpet": [
           {
            "colorbar": {
             "outlinewidth": 0,
             "ticks": ""
            },
            "type": "contourcarpet"
           }
          ],
          "heatmap": [
           {
            "colorbar": {
             "outlinewidth": 0,
             "ticks": ""
            },
            "colorscale": [
             [
              0,
              "#0d0887"
             ],
             [
              0.1111111111111111,
              "#46039f"
             ],
             [
              0.2222222222222222,
              "#7201a8"
             ],
             [
              0.3333333333333333,
              "#9c179e"
             ],
             [
              0.4444444444444444,
              "#bd3786"
             ],
             [
              0.5555555555555556,
              "#d8576b"
             ],
             [
              0.6666666666666666,
              "#ed7953"
             ],
             [
              0.7777777777777778,
              "#fb9f3a"
             ],
             [
              0.8888888888888888,
              "#fdca26"
             ],
             [
              1,
              "#f0f921"
             ]
            ],
            "type": "heatmap"
           }
          ],
          "heatmapgl": [
           {
            "colorbar": {
             "outlinewidth": 0,
             "ticks": ""
            },
            "colorscale": [
             [
              0,
              "#0d0887"
             ],
             [
              0.1111111111111111,
              "#46039f"
             ],
             [
              0.2222222222222222,
              "#7201a8"
             ],
             [
              0.3333333333333333,
              "#9c179e"
             ],
             [
              0.4444444444444444,
              "#bd3786"
             ],
             [
              0.5555555555555556,
              "#d8576b"
             ],
             [
              0.6666666666666666,
              "#ed7953"
             ],
             [
              0.7777777777777778,
              "#fb9f3a"
             ],
             [
              0.8888888888888888,
              "#fdca26"
             ],
             [
              1,
              "#f0f921"
             ]
            ],
            "type": "heatmapgl"
           }
          ],
          "histogram": [
           {
            "marker": {
             "pattern": {
              "fillmode": "overlay",
              "size": 10,
              "solidity": 0.2
             }
            },
            "type": "histogram"
           }
          ],
          "histogram2d": [
           {
            "colorbar": {
             "outlinewidth": 0,
             "ticks": ""
            },
            "colorscale": [
             [
              0,
              "#0d0887"
             ],
             [
              0.1111111111111111,
              "#46039f"
             ],
             [
              0.2222222222222222,
              "#7201a8"
             ],
             [
              0.3333333333333333,
              "#9c179e"
             ],
             [
              0.4444444444444444,
              "#bd3786"
             ],
             [
              0.5555555555555556,
              "#d8576b"
             ],
             [
              0.6666666666666666,
              "#ed7953"
             ],
             [
              0.7777777777777778,
              "#fb9f3a"
             ],
             [
              0.8888888888888888,
              "#fdca26"
             ],
             [
              1,
              "#f0f921"
             ]
            ],
            "type": "histogram2d"
           }
          ],
          "histogram2dcontour": [
           {
            "colorbar": {
             "outlinewidth": 0,
             "ticks": ""
            },
            "colorscale": [
             [
              0,
              "#0d0887"
             ],
             [
              0.1111111111111111,
              "#46039f"
             ],
             [
              0.2222222222222222,
              "#7201a8"
             ],
             [
              0.3333333333333333,
              "#9c179e"
             ],
             [
              0.4444444444444444,
              "#bd3786"
             ],
             [
              0.5555555555555556,
              "#d8576b"
             ],
             [
              0.6666666666666666,
              "#ed7953"
             ],
             [
              0.7777777777777778,
              "#fb9f3a"
             ],
             [
              0.8888888888888888,
              "#fdca26"
             ],
             [
              1,
              "#f0f921"
             ]
            ],
            "type": "histogram2dcontour"
           }
          ],
          "mesh3d": [
           {
            "colorbar": {
             "outlinewidth": 0,
             "ticks": ""
            },
            "type": "mesh3d"
           }
          ],
          "parcoords": [
           {
            "line": {
             "colorbar": {
              "outlinewidth": 0,
              "ticks": ""
             }
            },
            "type": "parcoords"
           }
          ],
          "pie": [
           {
            "automargin": true,
            "type": "pie"
           }
          ],
          "scatter": [
           {
            "fillpattern": {
             "fillmode": "overlay",
             "size": 10,
             "solidity": 0.2
            },
            "type": "scatter"
           }
          ],
          "scatter3d": [
           {
            "line": {
             "colorbar": {
              "outlinewidth": 0,
              "ticks": ""
             }
            },
            "marker": {
             "colorbar": {
              "outlinewidth": 0,
              "ticks": ""
             }
            },
            "type": "scatter3d"
           }
          ],
          "scattercarpet": [
           {
            "marker": {
             "colorbar": {
              "outlinewidth": 0,
              "ticks": ""
             }
            },
            "type": "scattercarpet"
           }
          ],
          "scattergeo": [
           {
            "marker": {
             "colorbar": {
              "outlinewidth": 0,
              "ticks": ""
             }
            },
            "type": "scattergeo"
           }
          ],
          "scattergl": [
           {
            "marker": {
             "colorbar": {
              "outlinewidth": 0,
              "ticks": ""
             }
            },
            "type": "scattergl"
           }
          ],
          "scattermapbox": [
           {
            "marker": {
             "colorbar": {
              "outlinewidth": 0,
              "ticks": ""
             }
            },
            "type": "scattermapbox"
           }
          ],
          "scatterpolar": [
           {
            "marker": {
             "colorbar": {
              "outlinewidth": 0,
              "ticks": ""
             }
            },
            "type": "scatterpolar"
           }
          ],
          "scatterpolargl": [
           {
            "marker": {
             "colorbar": {
              "outlinewidth": 0,
              "ticks": ""
             }
            },
            "type": "scatterpolargl"
           }
          ],
          "scatterternary": [
           {
            "marker": {
             "colorbar": {
              "outlinewidth": 0,
              "ticks": ""
             }
            },
            "type": "scatterternary"
           }
          ],
          "surface": [
           {
            "colorbar": {
             "outlinewidth": 0,
             "ticks": ""
            },
            "colorscale": [
             [
              0,
              "#0d0887"
             ],
             [
              0.1111111111111111,
              "#46039f"
             ],
             [
              0.2222222222222222,
              "#7201a8"
             ],
             [
              0.3333333333333333,
              "#9c179e"
             ],
             [
              0.4444444444444444,
              "#bd3786"
             ],
             [
              0.5555555555555556,
              "#d8576b"
             ],
             [
              0.6666666666666666,
              "#ed7953"
             ],
             [
              0.7777777777777778,
              "#fb9f3a"
             ],
             [
              0.8888888888888888,
              "#fdca26"
             ],
             [
              1,
              "#f0f921"
             ]
            ],
            "type": "surface"
           }
          ],
          "table": [
           {
            "cells": {
             "fill": {
              "color": "#EBF0F8"
             },
             "line": {
              "color": "white"
             }
            },
            "header": {
             "fill": {
              "color": "#C8D4E3"
             },
             "line": {
              "color": "white"
             }
            },
            "type": "table"
           }
          ]
         },
         "layout": {
          "annotationdefaults": {
           "arrowcolor": "#2a3f5f",
           "arrowhead": 0,
           "arrowwidth": 1
          },
          "autotypenumbers": "strict",
          "coloraxis": {
           "colorbar": {
            "outlinewidth": 0,
            "ticks": ""
           }
          },
          "colorscale": {
           "diverging": [
            [
             0,
             "#8e0152"
            ],
            [
             0.1,
             "#c51b7d"
            ],
            [
             0.2,
             "#de77ae"
            ],
            [
             0.3,
             "#f1b6da"
            ],
            [
             0.4,
             "#fde0ef"
            ],
            [
             0.5,
             "#f7f7f7"
            ],
            [
             0.6,
             "#e6f5d0"
            ],
            [
             0.7,
             "#b8e186"
            ],
            [
             0.8,
             "#7fbc41"
            ],
            [
             0.9,
             "#4d9221"
            ],
            [
             1,
             "#276419"
            ]
           ],
           "sequential": [
            [
             0,
             "#0d0887"
            ],
            [
             0.1111111111111111,
             "#46039f"
            ],
            [
             0.2222222222222222,
             "#7201a8"
            ],
            [
             0.3333333333333333,
             "#9c179e"
            ],
            [
             0.4444444444444444,
             "#bd3786"
            ],
            [
             0.5555555555555556,
             "#d8576b"
            ],
            [
             0.6666666666666666,
             "#ed7953"
            ],
            [
             0.7777777777777778,
             "#fb9f3a"
            ],
            [
             0.8888888888888888,
             "#fdca26"
            ],
            [
             1,
             "#f0f921"
            ]
           ],
           "sequentialminus": [
            [
             0,
             "#0d0887"
            ],
            [
             0.1111111111111111,
             "#46039f"
            ],
            [
             0.2222222222222222,
             "#7201a8"
            ],
            [
             0.3333333333333333,
             "#9c179e"
            ],
            [
             0.4444444444444444,
             "#bd3786"
            ],
            [
             0.5555555555555556,
             "#d8576b"
            ],
            [
             0.6666666666666666,
             "#ed7953"
            ],
            [
             0.7777777777777778,
             "#fb9f3a"
            ],
            [
             0.8888888888888888,
             "#fdca26"
            ],
            [
             1,
             "#f0f921"
            ]
           ]
          },
          "colorway": [
           "#636efa",
           "#EF553B",
           "#00cc96",
           "#ab63fa",
           "#FFA15A",
           "#19d3f3",
           "#FF6692",
           "#B6E880",
           "#FF97FF",
           "#FECB52"
          ],
          "font": {
           "color": "#2a3f5f"
          },
          "geo": {
           "bgcolor": "white",
           "lakecolor": "white",
           "landcolor": "#E5ECF6",
           "showlakes": true,
           "showland": true,
           "subunitcolor": "white"
          },
          "hoverlabel": {
           "align": "left"
          },
          "hovermode": "closest",
          "mapbox": {
           "style": "light"
          },
          "paper_bgcolor": "white",
          "plot_bgcolor": "#E5ECF6",
          "polar": {
           "angularaxis": {
            "gridcolor": "white",
            "linecolor": "white",
            "ticks": ""
           },
           "bgcolor": "#E5ECF6",
           "radialaxis": {
            "gridcolor": "white",
            "linecolor": "white",
            "ticks": ""
           }
          },
          "scene": {
           "xaxis": {
            "backgroundcolor": "#E5ECF6",
            "gridcolor": "white",
            "gridwidth": 2,
            "linecolor": "white",
            "showbackground": true,
            "ticks": "",
            "zerolinecolor": "white"
           },
           "yaxis": {
            "backgroundcolor": "#E5ECF6",
            "gridcolor": "white",
            "gridwidth": 2,
            "linecolor": "white",
            "showbackground": true,
            "ticks": "",
            "zerolinecolor": "white"
           },
           "zaxis": {
            "backgroundcolor": "#E5ECF6",
            "gridcolor": "white",
            "gridwidth": 2,
            "linecolor": "white",
            "showbackground": true,
            "ticks": "",
            "zerolinecolor": "white"
           }
          },
          "shapedefaults": {
           "line": {
            "color": "#2a3f5f"
           }
          },
          "ternary": {
           "aaxis": {
            "gridcolor": "white",
            "linecolor": "white",
            "ticks": ""
           },
           "baxis": {
            "gridcolor": "white",
            "linecolor": "white",
            "ticks": ""
           },
           "bgcolor": "#E5ECF6",
           "caxis": {
            "gridcolor": "white",
            "linecolor": "white",
            "ticks": ""
           }
          },
          "title": {
           "x": 0.05
          },
          "xaxis": {
           "automargin": true,
           "gridcolor": "white",
           "linecolor": "white",
           "ticks": "",
           "title": {
            "standoff": 15
           },
           "zerolinecolor": "white",
           "zerolinewidth": 2
          },
          "yaxis": {
           "automargin": true,
           "gridcolor": "white",
           "linecolor": "white",
           "ticks": "",
           "title": {
            "standoff": 15
           },
           "zerolinecolor": "white",
           "zerolinewidth": 2
          }
         }
        },
        "title": {
         "text": "Distribution of Daily Production"
        },
        "xaxis": {
         "anchor": "y",
         "domain": [
          0,
          1
         ],
         "title": {
          "text": "Production"
         }
        },
        "yaxis": {
         "anchor": "x",
         "domain": [
          0,
          1
         ],
         "title": {
          "text": "Count"
         }
        }
       }
      }
     },
     "metadata": {},
     "output_type": "display_data"
    },
    {
     "data": {
      "application/vnd.plotly.v1+json": {
       "config": {
        "plotlyServerURL": "https://plot.ly"
       },
       "data": [
        {
         "alignmentgroup": "True",
         "bingroup": "x",
         "hovertemplate": "target=%{x}<br>count=%{y}<extra></extra>",
         "legendgroup": "",
         "marker": {
          "color": "#636efa",
          "pattern": {
           "shape": ""
          }
         },
         "name": "",
         "nbinsx": 50,
         "offsetgroup": "",
         "orientation": "v",
         "showlegend": false,
         "type": "histogram",
         "x": [
          513929.956,
          518908.306,
          527919.77,
          373264.397,
          366969.576,
          565915.887,
          577005.004,
          621586.47,
          555772.029,
          592157.048,
          374822.391,
          424492.489,
          569392.555,
          540476.577,
          569454.945,
          615595.806,
          564850.452,
          400517.37,
          385183.058,
          589693.7660000001,
          665299.679,
          624230.177,
          623750.765,
          650321.637,
          447168.663,
          390840.72000000003,
          554097.114,
          583441.191,
          661754.512,
          653142.139,
          675823.403,
          425384.099,
          415265.934,
          597897.68,
          690825.88,
          626096.232,
          617821.943,
          591073.005,
          470790.89,
          440424.933,
          618615.135,
          678129.8,
          686711.641,
          681431.236,
          703559.793,
          476796.121,
          452431.148,
          670542.016,
          658391.833,
          748174.14,
          691209.524,
          661739.048,
          530212.149,
          493610.997,
          709231.305,
          712400.497,
          707609.861,
          697920.2390000001,
          640333.365,
          483480.469,
          448507.206,
          637506.616,
          668953.961,
          733096.284,
          701863.2339999999,
          702655.63,
          516154.211,
          536002.081,
          739911.036,
          738265.682,
          755196.142,
          714945.576,
          704997.762,
          539830.548,
          510529.711,
          777222.282,
          792101.8,
          772353.4,
          763373.856,
          755661.104,
          555924.813,
          550906.002,
          768411.358,
          816652.063,
          770020.569,
          771032.215,
          773314.017,
          624053.907,
          613756.267,
          830134.946,
          866559.892,
          874426.235,
          890909.28,
          870471.333,
          690628.945,
          700570.861,
          946395.076,
          974012.28,
          950014.7660000001,
          964859.219,
          924205.78,
          694238.479,
          639985.35,
          824897.891,
          817038.591,
          808906.064,
          780248.862,
          761232.689,
          603394.909,
          588113.722,
          811965.236,
          835352.854,
          819841.38,
          695146.709,
          599106.92,
          596125.344,
          609543.771,
          719839.178,
          728146.375,
          735776.377,
          723928.633,
          576675.85,
          589648.622,
          646645.985,
          826944.099,
          828642.827,
          831483.525,
          862196.819,
          871662.127,
          724392.544,
          695560.48,
          931071.813,
          1013700.863,
          973974.083,
          877779.4,
          866327.703,
          656337.751,
          662540.689,
          857995.135,
          920830.345,
          888815.032,
          897546.085,
          884953.907,
          693857.144,
          680435.423,
          860140.597,
          834283.485,
          883117.596,
          870445.014,
          853419.501,
          667015.393,
          629435.012,
          877126.633,
          939241.228,
          993530.894,
          1003080.26,
          968090.745,
          746692.024,
          705007.922,
          908616.375,
          911051.762,
          917600.3,
          910962.902,
          872251.469,
          704274.942,
          682886.461,
          861518.592,
          835519.003,
          889341.955,
          892478.596,
          869599.922,
          725945.31,
          677204.265,
          907413.918,
          898604.156,
          863084.035,
          689744.372,
          767392.245,
          569974.221,
          571745.634,
          726970.95,
          741871.952,
          840957.53,
          838359.619,
          784988.02,
          611628.08,
          585374.939,
          837951.475,
          865370.505,
          812405.298,
          807564.078,
          788641.92,
          589096.848,
          546851.813,
          693899.794,
          683014.024,
          680802.308,
          699199.122,
          703251.061,
          584276.915,
          505647.091,
          631582.483,
          646735.131,
          702743.023,
          683128.254,
          683394.83,
          579351.743,
          496839.816,
          763183.506,
          823291.569,
          764678.626,
          758440.929,
          728956.256,
          555058.873,
          506594.224,
          772359.992,
          833440.191,
          778750.401,
          839074.103,
          765777.604,
          585892.647,
          552280.223,
          652143.771,
          635210.704,
          642179.94,
          773012.02,
          540945.285,
          443432.759,
          434412.422,
          678593.488,
          649714.232,
          630879.635,
          607193.034,
          614543.767,
          473144.862,
          481884.774,
          698036.17,
          595544.923,
          589884.44,
          649685.331,
          629762.357,
          452618.04,
          453767.278,
          638100.774,
          652459.419,
          657013.732,
          667285.434,
          616321.942,
          431065.486,
          371940.371,
          594976.816,
          604680.113,
          703231.81,
          739779.058,
          612994.098,
          441273.71,
          379478.509,
          571044.537,
          677922.735,
          599912.48,
          620658.7880000001,
          709868.345,
          416986.681,
          357696.026,
          536904.271,
          552555.303,
          637446.3319999999,
          666829.713,
          657528.837,
          443240.347,
          393372.672,
          576438.148,
          709899.598,
          628319.02,
          676290.946,
          634505.455,
          419037.725,
          368290.73,
          497361.979,
          519316.917,
          620773.904,
          548114.814,
          578980.616,
          398246.631,
          401369.432,
          568287.443,
          662203.244,
          560461.925,
          546726.313,
          513885.096,
          443152.639,
          356405.843,
          515723.038,
          465811.604,
          414815.51900000003,
          336502.012,
          313346.154,
          299682.125,
          322317.662,
          497656.365,
          569155.348,
          570127.599,
          537561.017,
          547729.727,
          413511.559,
          392081.089,
          539647.365,
          569888.595,
          577784.007,
          576640.881,
          597828.823,
          407701.821,
          382946.89400000003,
          531861.303,
          634602.039,
          545467.007,
          566595.651,
          537909.274,
          378467.067,
          392158.518,
          520795.759,
          553712.319,
          492152.94,
          518262.966,
          514249.898,
          425917.856,
          415744.30700000003,
          517420.124,
          587357.721,
          579776.76,
          575210.933,
          517682.742,
          376371.271,
          365584.626,
          638324.83,
          588714.551,
          584901.454,
          602887.645,
          571449.91,
          487486.38,
          425836.821,
          630324.975,
          605516.485,
          601204.597,
          599913.615,
          603517.391,
          461209.662,
          450443.64400000003,
          640143.677,
          647617.242,
          685015.378,
          660276.648,
          640389.8099999999,
          460176.898,
          458525.48,
          725111.43,
          673969.387,
          720880.533,
          728013.1,
          672916.926,
          475799.922,
          458385.128,
          722470.531,
          781668.425,
          701495.522,
          679899.272,
          639229.296,
          483224.627,
          468381.742,
          683488.559,
          677933.171,
          709861.41,
          700618.249,
          618592.904,
          465538.468,
          433874.395,
          669897.11,
          777776.263,
          783950.372,
          749027.552,
          716804.16,
          510983.966,
          476791.758,
          703097.998,
          727760.722,
          738601.945,
          704574.279,
          702615.368,
          482652.995,
          478712.596,
          678837.267,
          666067.513,
          690109.342,
          772814.519,
          717817.765,
          523241.11699999997,
          533568.953,
          801618.703,
          859640.863,
          863529.477,
          835814.379,
          763474.128,
          551503.451,
          506056.99,
          764956.893,
          842809.947,
          754833.014,
          833511.956,
          815147.241,
          582779.211,
          594831.39,
          805298.536,
          864867.211,
          845804.892,
          859101.2,
          850689.887,
          592021.992,
          635868.882,
          815759.175,
          936299.269,
          881884.965,
          894904.701,
          857682.685,
          653653.905,
          609317.788,
          806678.311,
          885328.147,
          878655.633,
          895873.0599999999,
          873453.573,
          708886.525,
          658261.296,
          864582.372,
          884511.956,
          882158.048,
          888825.521,
          881019.737,
          618643.49,
          603794.948,
          926177.64,
          960295.175,
          961669.153,
          997631.051,
          982742.86,
          810621.547,
          817652.247,
          1080050.633,
          1070986.571,
          1065327.294,
          1070473.051,
          1053466.255,
          856228.565,
          836059.762,
          1063824.02,
          1074558.567,
          1075209.026,
          1084958.309,
          1131938.688,
          919756.052,
          874202.676,
          1094278.995,
          1133468.971,
          1125024.716,
          1118787.557,
          1115980.81,
          909783.672,
          910091.404,
          1108665.373,
          1141813.574,
          1126144.82,
          1144989.325,
          1109489.771,
          914384.104,
          880232.662,
          1030535.357,
          1070584.858,
          985996.699,
          918103.228,
          817763.593,
          721628.726,
          747910.407,
          828814.342,
          914978.318,
          876023.946,
          877429.6140000001,
          808615.589,
          690478.833,
          678636.238,
          957933.198,
          1015488.496,
          1055589.034,
          1135285.146,
          1152901.111,
          1024876.385,
          987139.506,
          1194267.287,
          1179616.774,
          1117411.43,
          1118734.533,
          1058134.101,
          815647.36,
          812044.851,
          1044394.935,
          1104758.694,
          1083324.859,
          1086046.415,
          1089469.661,
          889712.388,
          897196.589,
          1189459.503,
          1159272.823,
          1120771.106,
          1111071.265,
          1074914.394,
          888906.596,
          824081.361,
          1064525.64,
          1058860.704,
          1138381.9070000001,
          1137942.596,
          1154501.591,
          953335.3640000001,
          914256.125,
          1130195.279,
          1149298.81,
          1143942.454,
          1091182.615,
          1083419.067,
          888123.86,
          866672.76,
          1012343.91,
          970478.776,
          1049635.241,
          1097430.921,
          1087253.163,
          868346.652,
          865231.949,
          1133366.112,
          1190142.202,
          1218506.81,
          1169146.766,
          925358.65,
          912425.13,
          907550.89,
          1097585.53,
          1039560.253,
          986857.919,
          934139.726,
          933530.382,
          868473.192,
          870820.658,
          1118098.49,
          1150536.23,
          1164384.837,
          1137526.688,
          1119960.009,
          951829.901,
          846267.265,
          1051010.235,
          987267.607,
          902738.396,
          908009.833,
          894453.183,
          697743.9400000001,
          703682.443,
          897487.964,
          915862.6,
          1013776.831,
          884965.478,
          874655.426,
          672873.672,
          686930.604,
          998358.03,
          948202.157,
          937421.521,
          1031819.175,
          1007784.713,
          724503.84,
          601091.34,
          860347.716,
          874576.382,
          1061040.648,
          910529.567,
          587356.54,
          544470.043,
          532508.165,
          707862.034,
          757880.192,
          728562.215,
          807960.383,
          711735.257,
          560107.784,
          553502.157,
          731289.1849999999,
          741402.647,
          675016.423,
          678798.797,
          674138.11,
          477841.32,
          453250.967,
          678620.949,
          696153.505,
          726885.787,
          748069.354,
          716921.727,
          533336.235,
          537498.67,
          539922.894,
          780289.291,
          715495.244,
          739493.219,
          789437.346,
          558513.026,
          503489.379,
          670328.124,
          661159.673,
          655265.54,
          644131.46,
          605608.028,
          451591.101,
          436688.407,
          623636.151,
          836422.879,
          711975.308,
          621930.889,
          603393.953,
          446728.245,
          438497.264,
          638716.262,
          637593.071,
          621441.013,
          695600.163,
          615020.329,
          427683.89400000003,
          415896.573,
          603023.774,
          638906.371,
          612491.059
         ],
         "xaxis": "x",
         "yaxis": "y"
        }
       ],
       "layout": {
        "barmode": "relative",
        "legend": {
         "tracegroupgap": 0
        },
        "template": {
         "data": {
          "bar": [
           {
            "error_x": {
             "color": "#2a3f5f"
            },
            "error_y": {
             "color": "#2a3f5f"
            },
            "marker": {
             "line": {
              "color": "#E5ECF6",
              "width": 0.5
             },
             "pattern": {
              "fillmode": "overlay",
              "size": 10,
              "solidity": 0.2
             }
            },
            "type": "bar"
           }
          ],
          "barpolar": [
           {
            "marker": {
             "line": {
              "color": "#E5ECF6",
              "width": 0.5
             },
             "pattern": {
              "fillmode": "overlay",
              "size": 10,
              "solidity": 0.2
             }
            },
            "type": "barpolar"
           }
          ],
          "carpet": [
           {
            "aaxis": {
             "endlinecolor": "#2a3f5f",
             "gridcolor": "white",
             "linecolor": "white",
             "minorgridcolor": "white",
             "startlinecolor": "#2a3f5f"
            },
            "baxis": {
             "endlinecolor": "#2a3f5f",
             "gridcolor": "white",
             "linecolor": "white",
             "minorgridcolor": "white",
             "startlinecolor": "#2a3f5f"
            },
            "type": "carpet"
           }
          ],
          "choropleth": [
           {
            "colorbar": {
             "outlinewidth": 0,
             "ticks": ""
            },
            "type": "choropleth"
           }
          ],
          "contour": [
           {
            "colorbar": {
             "outlinewidth": 0,
             "ticks": ""
            },
            "colorscale": [
             [
              0,
              "#0d0887"
             ],
             [
              0.1111111111111111,
              "#46039f"
             ],
             [
              0.2222222222222222,
              "#7201a8"
             ],
             [
              0.3333333333333333,
              "#9c179e"
             ],
             [
              0.4444444444444444,
              "#bd3786"
             ],
             [
              0.5555555555555556,
              "#d8576b"
             ],
             [
              0.6666666666666666,
              "#ed7953"
             ],
             [
              0.7777777777777778,
              "#fb9f3a"
             ],
             [
              0.8888888888888888,
              "#fdca26"
             ],
             [
              1,
              "#f0f921"
             ]
            ],
            "type": "contour"
           }
          ],
          "contourcarpet": [
           {
            "colorbar": {
             "outlinewidth": 0,
             "ticks": ""
            },
            "type": "contourcarpet"
           }
          ],
          "heatmap": [
           {
            "colorbar": {
             "outlinewidth": 0,
             "ticks": ""
            },
            "colorscale": [
             [
              0,
              "#0d0887"
             ],
             [
              0.1111111111111111,
              "#46039f"
             ],
             [
              0.2222222222222222,
              "#7201a8"
             ],
             [
              0.3333333333333333,
              "#9c179e"
             ],
             [
              0.4444444444444444,
              "#bd3786"
             ],
             [
              0.5555555555555556,
              "#d8576b"
             ],
             [
              0.6666666666666666,
              "#ed7953"
             ],
             [
              0.7777777777777778,
              "#fb9f3a"
             ],
             [
              0.8888888888888888,
              "#fdca26"
             ],
             [
              1,
              "#f0f921"
             ]
            ],
            "type": "heatmap"
           }
          ],
          "heatmapgl": [
           {
            "colorbar": {
             "outlinewidth": 0,
             "ticks": ""
            },
            "colorscale": [
             [
              0,
              "#0d0887"
             ],
             [
              0.1111111111111111,
              "#46039f"
             ],
             [
              0.2222222222222222,
              "#7201a8"
             ],
             [
              0.3333333333333333,
              "#9c179e"
             ],
             [
              0.4444444444444444,
              "#bd3786"
             ],
             [
              0.5555555555555556,
              "#d8576b"
             ],
             [
              0.6666666666666666,
              "#ed7953"
             ],
             [
              0.7777777777777778,
              "#fb9f3a"
             ],
             [
              0.8888888888888888,
              "#fdca26"
             ],
             [
              1,
              "#f0f921"
             ]
            ],
            "type": "heatmapgl"
           }
          ],
          "histogram": [
           {
            "marker": {
             "pattern": {
              "fillmode": "overlay",
              "size": 10,
              "solidity": 0.2
             }
            },
            "type": "histogram"
           }
          ],
          "histogram2d": [
           {
            "colorbar": {
             "outlinewidth": 0,
             "ticks": ""
            },
            "colorscale": [
             [
              0,
              "#0d0887"
             ],
             [
              0.1111111111111111,
              "#46039f"
             ],
             [
              0.2222222222222222,
              "#7201a8"
             ],
             [
              0.3333333333333333,
              "#9c179e"
             ],
             [
              0.4444444444444444,
              "#bd3786"
             ],
             [
              0.5555555555555556,
              "#d8576b"
             ],
             [
              0.6666666666666666,
              "#ed7953"
             ],
             [
              0.7777777777777778,
              "#fb9f3a"
             ],
             [
              0.8888888888888888,
              "#fdca26"
             ],
             [
              1,
              "#f0f921"
             ]
            ],
            "type": "histogram2d"
           }
          ],
          "histogram2dcontour": [
           {
            "colorbar": {
             "outlinewidth": 0,
             "ticks": ""
            },
            "colorscale": [
             [
              0,
              "#0d0887"
             ],
             [
              0.1111111111111111,
              "#46039f"
             ],
             [
              0.2222222222222222,
              "#7201a8"
             ],
             [
              0.3333333333333333,
              "#9c179e"
             ],
             [
              0.4444444444444444,
              "#bd3786"
             ],
             [
              0.5555555555555556,
              "#d8576b"
             ],
             [
              0.6666666666666666,
              "#ed7953"
             ],
             [
              0.7777777777777778,
              "#fb9f3a"
             ],
             [
              0.8888888888888888,
              "#fdca26"
             ],
             [
              1,
              "#f0f921"
             ]
            ],
            "type": "histogram2dcontour"
           }
          ],
          "mesh3d": [
           {
            "colorbar": {
             "outlinewidth": 0,
             "ticks": ""
            },
            "type": "mesh3d"
           }
          ],
          "parcoords": [
           {
            "line": {
             "colorbar": {
              "outlinewidth": 0,
              "ticks": ""
             }
            },
            "type": "parcoords"
           }
          ],
          "pie": [
           {
            "automargin": true,
            "type": "pie"
           }
          ],
          "scatter": [
           {
            "fillpattern": {
             "fillmode": "overlay",
             "size": 10,
             "solidity": 0.2
            },
            "type": "scatter"
           }
          ],
          "scatter3d": [
           {
            "line": {
             "colorbar": {
              "outlinewidth": 0,
              "ticks": ""
             }
            },
            "marker": {
             "colorbar": {
              "outlinewidth": 0,
              "ticks": ""
             }
            },
            "type": "scatter3d"
           }
          ],
          "scattercarpet": [
           {
            "marker": {
             "colorbar": {
              "outlinewidth": 0,
              "ticks": ""
             }
            },
            "type": "scattercarpet"
           }
          ],
          "scattergeo": [
           {
            "marker": {
             "colorbar": {
              "outlinewidth": 0,
              "ticks": ""
             }
            },
            "type": "scattergeo"
           }
          ],
          "scattergl": [
           {
            "marker": {
             "colorbar": {
              "outlinewidth": 0,
              "ticks": ""
             }
            },
            "type": "scattergl"
           }
          ],
          "scattermapbox": [
           {
            "marker": {
             "colorbar": {
              "outlinewidth": 0,
              "ticks": ""
             }
            },
            "type": "scattermapbox"
           }
          ],
          "scatterpolar": [
           {
            "marker": {
             "colorbar": {
              "outlinewidth": 0,
              "ticks": ""
             }
            },
            "type": "scatterpolar"
           }
          ],
          "scatterpolargl": [
           {
            "marker": {
             "colorbar": {
              "outlinewidth": 0,
              "ticks": ""
             }
            },
            "type": "scatterpolargl"
           }
          ],
          "scatterternary": [
           {
            "marker": {
             "colorbar": {
              "outlinewidth": 0,
              "ticks": ""
             }
            },
            "type": "scatterternary"
           }
          ],
          "surface": [
           {
            "colorbar": {
             "outlinewidth": 0,
             "ticks": ""
            },
            "colorscale": [
             [
              0,
              "#0d0887"
             ],
             [
              0.1111111111111111,
              "#46039f"
             ],
             [
              0.2222222222222222,
              "#7201a8"
             ],
             [
              0.3333333333333333,
              "#9c179e"
             ],
             [
              0.4444444444444444,
              "#bd3786"
             ],
             [
              0.5555555555555556,
              "#d8576b"
             ],
             [
              0.6666666666666666,
              "#ed7953"
             ],
             [
              0.7777777777777778,
              "#fb9f3a"
             ],
             [
              0.8888888888888888,
              "#fdca26"
             ],
             [
              1,
              "#f0f921"
             ]
            ],
            "type": "surface"
           }
          ],
          "table": [
           {
            "cells": {
             "fill": {
              "color": "#EBF0F8"
             },
             "line": {
              "color": "white"
             }
            },
            "header": {
             "fill": {
              "color": "#C8D4E3"
             },
             "line": {
              "color": "white"
             }
            },
            "type": "table"
           }
          ]
         },
         "layout": {
          "annotationdefaults": {
           "arrowcolor": "#2a3f5f",
           "arrowhead": 0,
           "arrowwidth": 1
          },
          "autotypenumbers": "strict",
          "coloraxis": {
           "colorbar": {
            "outlinewidth": 0,
            "ticks": ""
           }
          },
          "colorscale": {
           "diverging": [
            [
             0,
             "#8e0152"
            ],
            [
             0.1,
             "#c51b7d"
            ],
            [
             0.2,
             "#de77ae"
            ],
            [
             0.3,
             "#f1b6da"
            ],
            [
             0.4,
             "#fde0ef"
            ],
            [
             0.5,
             "#f7f7f7"
            ],
            [
             0.6,
             "#e6f5d0"
            ],
            [
             0.7,
             "#b8e186"
            ],
            [
             0.8,
             "#7fbc41"
            ],
            [
             0.9,
             "#4d9221"
            ],
            [
             1,
             "#276419"
            ]
           ],
           "sequential": [
            [
             0,
             "#0d0887"
            ],
            [
             0.1111111111111111,
             "#46039f"
            ],
            [
             0.2222222222222222,
             "#7201a8"
            ],
            [
             0.3333333333333333,
             "#9c179e"
            ],
            [
             0.4444444444444444,
             "#bd3786"
            ],
            [
             0.5555555555555556,
             "#d8576b"
            ],
            [
             0.6666666666666666,
             "#ed7953"
            ],
            [
             0.7777777777777778,
             "#fb9f3a"
            ],
            [
             0.8888888888888888,
             "#fdca26"
            ],
            [
             1,
             "#f0f921"
            ]
           ],
           "sequentialminus": [
            [
             0,
             "#0d0887"
            ],
            [
             0.1111111111111111,
             "#46039f"
            ],
            [
             0.2222222222222222,
             "#7201a8"
            ],
            [
             0.3333333333333333,
             "#9c179e"
            ],
            [
             0.4444444444444444,
             "#bd3786"
            ],
            [
             0.5555555555555556,
             "#d8576b"
            ],
            [
             0.6666666666666666,
             "#ed7953"
            ],
            [
             0.7777777777777778,
             "#fb9f3a"
            ],
            [
             0.8888888888888888,
             "#fdca26"
            ],
            [
             1,
             "#f0f921"
            ]
           ]
          },
          "colorway": [
           "#636efa",
           "#EF553B",
           "#00cc96",
           "#ab63fa",
           "#FFA15A",
           "#19d3f3",
           "#FF6692",
           "#B6E880",
           "#FF97FF",
           "#FECB52"
          ],
          "font": {
           "color": "#2a3f5f"
          },
          "geo": {
           "bgcolor": "white",
           "lakecolor": "white",
           "landcolor": "#E5ECF6",
           "showlakes": true,
           "showland": true,
           "subunitcolor": "white"
          },
          "hoverlabel": {
           "align": "left"
          },
          "hovermode": "closest",
          "mapbox": {
           "style": "light"
          },
          "paper_bgcolor": "white",
          "plot_bgcolor": "#E5ECF6",
          "polar": {
           "angularaxis": {
            "gridcolor": "white",
            "linecolor": "white",
            "ticks": ""
           },
           "bgcolor": "#E5ECF6",
           "radialaxis": {
            "gridcolor": "white",
            "linecolor": "white",
            "ticks": ""
           }
          },
          "scene": {
           "xaxis": {
            "backgroundcolor": "#E5ECF6",
            "gridcolor": "white",
            "gridwidth": 2,
            "linecolor": "white",
            "showbackground": true,
            "ticks": "",
            "zerolinecolor": "white"
           },
           "yaxis": {
            "backgroundcolor": "#E5ECF6",
            "gridcolor": "white",
            "gridwidth": 2,
            "linecolor": "white",
            "showbackground": true,
            "ticks": "",
            "zerolinecolor": "white"
           },
           "zaxis": {
            "backgroundcolor": "#E5ECF6",
            "gridcolor": "white",
            "gridwidth": 2,
            "linecolor": "white",
            "showbackground": true,
            "ticks": "",
            "zerolinecolor": "white"
           }
          },
          "shapedefaults": {
           "line": {
            "color": "#2a3f5f"
           }
          },
          "ternary": {
           "aaxis": {
            "gridcolor": "white",
            "linecolor": "white",
            "ticks": ""
           },
           "baxis": {
            "gridcolor": "white",
            "linecolor": "white",
            "ticks": ""
           },
           "bgcolor": "#E5ECF6",
           "caxis": {
            "gridcolor": "white",
            "linecolor": "white",
            "ticks": ""
           }
          },
          "title": {
           "x": 0.05
          },
          "xaxis": {
           "automargin": true,
           "gridcolor": "white",
           "linecolor": "white",
           "ticks": "",
           "title": {
            "standoff": 15
           },
           "zerolinecolor": "white",
           "zerolinewidth": 2
          },
          "yaxis": {
           "automargin": true,
           "gridcolor": "white",
           "linecolor": "white",
           "ticks": "",
           "title": {
            "standoff": 15
           },
           "zerolinecolor": "white",
           "zerolinewidth": 2
          }
         }
        },
        "title": {
         "text": "Distribution of Daily Consumption"
        },
        "xaxis": {
         "anchor": "y",
         "domain": [
          0,
          1
         ],
         "title": {
          "text": "Consumption"
         }
        },
        "yaxis": {
         "anchor": "x",
         "domain": [
          0,
          1
         ],
         "title": {
          "text": "Count"
         }
        }
       }
      }
     },
     "metadata": {},
     "output_type": "display_data"
    }
   ],
   "source": [
    "# Histograma de producción diaria\n",
    "fig_hist_prod = px.histogram(dailyProd, x='target', nbins=50, title='Distribution of Daily Production')\n",
    "fig_hist_prod.update_layout(xaxis_title='Production',\n",
    "                            yaxis_title='Count')\n",
    "\n",
    "# Histograma de consumo diario\n",
    "fig_hist_cons = px.histogram(dailyCons, x='target', nbins=50, title='Distribution of Daily Consumption')\n",
    "fig_hist_cons.update_layout(xaxis_title='Consumption',\n",
    "                            yaxis_title='Count')\n",
    "\n",
    "# Mostrar los histogramas\n",
    "fig_hist_prod.show()\n",
    "fig_hist_cons.show()"
   ]
  },
  {
   "cell_type": "markdown",
   "metadata": {},
   "source": [
    "## Análisis del precio del gas\n",
    "\n",
    "**gas_prices.csv**\n",
    "\n",
    "***origin_date*** - La fecha en que estuvieron disponibles los precios diarios.\n",
    "\n",
    "***forecast_date*** - La fecha en que los precios previstos deberán ser relevantes.\n",
    "\n",
    "***[lowest/highest]_price_per_mwh*** - El precio más bajo/más alto del gas natural vigente en el mercado del día siguiente de esa jornada de negociación, en euros por megavatio hora equivalente.\n",
    "\n",
    "***data_block_id***\n"
   ]
  },
  {
   "cell_type": "code",
   "execution_count": 32,
   "metadata": {},
   "outputs": [],
   "source": [
    "import statsmodels.api as sm\n",
    "from statsmodels.tsa.seasonal import seasonal_decompose\n",
    "from statsmodels.tsa.seasonal import STL"
   ]
  },
  {
   "cell_type": "code",
   "execution_count": 33,
   "metadata": {},
   "outputs": [
    {
     "name": "stdout",
     "output_type": "stream",
     "text": [
      "<class 'pandas.core.frame.DataFrame'>\n",
      "RangeIndex: 637 entries, 0 to 636\n",
      "Data columns (total 5 columns):\n",
      " #   Column                 Non-Null Count  Dtype  \n",
      "---  ------                 --------------  -----  \n",
      " 0   forecast_date          637 non-null    object \n",
      " 1   lowest_price_per_mwh   637 non-null    float64\n",
      " 2   highest_price_per_mwh  637 non-null    float64\n",
      " 3   origin_date            637 non-null    object \n",
      " 4   data_block_id          637 non-null    int64  \n",
      "dtypes: float64(2), int64(1), object(2)\n",
      "memory usage: 25.0+ KB\n",
      "None\n",
      "  forecast_date  lowest_price_per_mwh  highest_price_per_mwh origin_date  \\\n",
      "0    2021-09-01                 45.23                  46.32  2021-08-31   \n",
      "1    2021-09-02                 45.62                  46.29  2021-09-01   \n",
      "2    2021-09-03                 45.85                  46.40  2021-09-02   \n",
      "3    2021-09-04                 46.30                  46.80  2021-09-03   \n",
      "4    2021-09-05                 46.30                  46.58  2021-09-04   \n",
      "\n",
      "   data_block_id  \n",
      "0              1  \n",
      "1              2  \n",
      "2              3  \n",
      "3              4  \n",
      "4              5  \n"
     ]
    }
   ],
   "source": [
    "gas_prices = pd.read_csv(data_dir + 'gas_prices.csv')\n",
    "print(gas_prices.info())\n",
    "print(gas_prices.head())"
   ]
  },
  {
   "cell_type": "code",
   "execution_count": 34,
   "metadata": {},
   "outputs": [
    {
     "name": "stdout",
     "output_type": "stream",
     "text": [
      "       lowest_price_per_mwh  highest_price_per_mwh  data_block_id\n",
      "count            637.000000             637.000000     637.000000\n",
      "mean              95.036750             107.754631     319.000000\n",
      "std               47.552295              54.743666     184.030342\n",
      "min               28.100000              34.000000       1.000000\n",
      "25%               60.000000              67.530000     160.000000\n",
      "50%               85.210000              93.470000     319.000000\n",
      "75%              109.000000             130.740000     478.000000\n",
      "max              250.000000             305.000000     637.000000\n"
     ]
    }
   ],
   "source": [
    "print(gas_prices.describe())\n",
    "# Convertir la columna 'forecast_date' y 'origin_date' a formato de fecha\n",
    "gas_prices['forecast_date'] = pd.to_datetime(gas_prices['forecast_date'])\n",
    "gas_prices['origin_date'] = pd.to_datetime(gas_prices['origin_date'])\n"
   ]
  },
  {
   "cell_type": "code",
   "execution_count": 35,
   "metadata": {},
   "outputs": [
    {
     "name": "stdout",
     "output_type": "stream",
     "text": [
      "             forecast_date  lowest_price_per_mwh  highest_price_per_mwh  \\\n",
      "count                  637            637.000000             637.000000   \n",
      "mean   2022-07-16 00:00:00             95.036750             107.754631   \n",
      "min    2021-09-01 00:00:00             28.100000              34.000000   \n",
      "25%    2022-02-07 00:00:00             60.000000              67.530000   \n",
      "50%    2022-07-16 00:00:00             85.210000              93.470000   \n",
      "75%    2022-12-22 00:00:00            109.000000             130.740000   \n",
      "max    2023-05-30 00:00:00            250.000000             305.000000   \n",
      "std                    NaN             47.552295              54.743666   \n",
      "\n",
      "               origin_date  data_block_id  \n",
      "count                  637     637.000000  \n",
      "mean   2022-07-15 00:00:00     319.000000  \n",
      "min    2021-08-31 00:00:00       1.000000  \n",
      "25%    2022-02-06 00:00:00     160.000000  \n",
      "50%    2022-07-15 00:00:00     319.000000  \n",
      "75%    2022-12-21 00:00:00     478.000000  \n",
      "max    2023-05-29 00:00:00     637.000000  \n",
      "std                    NaN     184.030342  \n"
     ]
    },
    {
     "data": {
      "image/png": "[encoded data removed]",
      "text/plain": [
       "<Figure size 1000x600 with 1 Axes>"
      ]
     },
     "metadata": {},
     "output_type": "display_data"
    },
    {
     "data": {
      "image/png": "[encoded data removed]",
      "text/plain": [
       "<Figure size 1000x600 with 1 Axes>"
      ]
     },
     "metadata": {},
     "output_type": "display_data"
    }
   ],
   "source": [
    "# Estadísticas descriptivas\n",
    "print(gas_prices.describe())\n",
    "\n",
    "# Distribución de los precios más bajos\n",
    "plt.figure(figsize=(10, 6))\n",
    "sns.histplot(gas_prices['lowest_price_per_mwh'], bins=50, kde=True)\n",
    "plt.title('Distribución de los Precios más Bajos (lowest_price_per_mwh)')\n",
    "plt.xlabel('Precio más Bajo por MWh')\n",
    "plt.ylabel('Frecuencia')\n",
    "plt.show()\n",
    "\n",
    "# Distribución de los precios más altos\n",
    "plt.figure(figsize=(10, 6))\n",
    "sns.histplot(gas_prices['highest_price_per_mwh'], bins=50, kde=True)\n",
    "plt.title('Distribución de los Precios más Altos (highest_price_per_mwh)')\n",
    "plt.xlabel('Precio más Alto por MWh')\n",
    "plt.ylabel('Frecuencia')\n",
    "plt.show()\n"
   ]
  },
  {
   "cell_type": "code",
   "execution_count": 36,
   "metadata": {},
   "outputs": [
    {
     "data": {
      "text/plain": [
       "<Figure size 1500x800 with 0 Axes>"
      ]
     },
     "metadata": {},
     "output_type": "display_data"
    },
    {
     "data": {
      "image/png": "[encoded data removed]",
      "text/plain": [
       "<Figure size 640x480 with 1 Axes>"
      ]
     },
     "metadata": {},
     "output_type": "display_data"
    }
   ],
   "source": [
    "# Visualizar la tendencia temporal de los precios más bajos y más altos\n",
    "plt.figure(figsize=(15, 8))\n",
    "gas_prices.set_index('forecast_date')[['lowest_price_per_mwh', 'highest_price_per_mwh']].plot()\n",
    "plt.title('Tendencia Temporal de los Precios de Gas')\n",
    "plt.xlabel('Fecha')\n",
    "plt.ylabel('Precio por MWh')\n",
    "plt.legend(['Precio más Bajo', 'Precio más Alto'])\n",
    "plt.show()"
   ]
  },
  {
   "cell_type": "code",
   "execution_count": 39,
   "metadata": {},
   "outputs": [
    {
     "data": {
      "image/png": "[encoded data removed]",
      "text/plain": [
       "<Figure size 640x480 with 4 Axes>"
      ]
     },
     "metadata": {},
     "output_type": "display_data"
    },
    {
     "data": {
      "image/png": "[encoded data removed]",
      "text/plain": [
       "<Figure size 640x480 with 4 Axes>"
      ]
     },
     "metadata": {},
     "output_type": "display_data"
    }
   ],
   "source": [
    "result_low = seasonal_decompose(gas_prices.set_index('forecast_date')['lowest_price_per_mwh'], model='additive', period=318)\n",
    "result_low.plot()\n",
    "plt.show()\n",
    "\n",
    "result_high = seasonal_decompose(gas_prices.set_index('forecast_date')['highest_price_per_mwh'], model='additive', period=318)\n",
    "result_high.plot()\n",
    "plt.show()"
   ]
  },
  {
   "cell_type": "markdown",
   "metadata": {},
   "source": [
    "## historical_weather.csv"
   ]
  },
  {
   "cell_type": "markdown",
   "metadata": {},
   "source": [
    "datetime- Esto representa el inicio del período de 1 hora para el cual se miden los datos meteorológicos.\n",
    "\n",
    "temperature- Medido al final del período de 1 hora.\n",
    "\n",
    "dewpoint- Medido al final del período de 1 hora.\n",
    "\n",
    "rain- Diferente de las convenciones de pronóstico. La lluvia de los sistemas climáticos a gran escala de la hora en milímetros.\n",
    "\n",
    "snowfall- Diferente de las convenciones de pronóstico. Nevadas durante la hora en centímetros.\n",
    "\n",
    "surface_pressure- La presión del aire en la superficie en hectopascales.\n",
    "\n",
    "cloudcover_[low/mid/high/total]- Diferente de las convenciones de pronóstico. Cubierta de nubes a 0-3 km, 3-8, 8 + y total.\n",
    "\n",
    "windspeed_10m- Diferente de las convenciones de pronóstico. La velocidad del viento a 10 metros sobre el suelo en metros por segundo.\n",
    "\n",
    "winddirection_10m- Diferente de las convenciones de pronóstico. La dirección del viento a 10 metros sobre el suelo en grados.\n",
    "\n",
    "shortwave_radiation- Diferente de las convenciones de pronóstico. La irradiación horizontal global en vatios-hora por metro cuadrado.\n",
    "\n",
    "***direct_solar_radiation***\n",
    "diffuse_radiation- Diferente de las convenciones de pronóstico. La irradiación solar difusa en vatios-hora por metro cuadrado.\n",
    "[latitude/longitude]- Las coordenadas de la estación meteorológica.\n",
    "data_block_id"
   ]
  },
  {
   "cell_type": "code",
   "execution_count": 44,
   "metadata": {},
   "outputs": [
    {
     "name": "stdout",
     "output_type": "stream",
     "text": [
      "<class 'pandas.core.frame.DataFrame'>\n",
      "RangeIndex: 1710802 entries, 0 to 1710801\n",
      "Data columns (total 18 columns):\n",
      " #   Column                  Dtype  \n",
      "---  ------                  -----  \n",
      " 0   datetime                object \n",
      " 1   temperature             float64\n",
      " 2   dewpoint                float64\n",
      " 3   rain                    float64\n",
      " 4   snowfall                float64\n",
      " 5   surface_pressure        float64\n",
      " 6   cloudcover_total        int64  \n",
      " 7   cloudcover_low          int64  \n",
      " 8   cloudcover_mid          int64  \n",
      " 9   cloudcover_high         int64  \n",
      " 10  windspeed_10m           float64\n",
      " 11  winddirection_10m       int64  \n",
      " 12  shortwave_radiation     float64\n",
      " 13  direct_solar_radiation  float64\n",
      " 14  diffuse_radiation       float64\n",
      " 15  latitude                float64\n",
      " 16  longitude               float64\n",
      " 17  data_block_id           float64\n",
      "dtypes: float64(12), int64(5), object(1)\n",
      "memory usage: 234.9+ MB\n",
      "None\n",
      "              datetime  temperature  dewpoint  rain  snowfall  \\\n",
      "0  2021-09-01 00:00:00         14.2      11.6   0.0       0.0   \n",
      "1  2021-09-01 00:00:00         13.9      11.5   0.0       0.0   \n",
      "2  2021-09-01 00:00:00         14.0      12.5   0.0       0.0   \n",
      "3  2021-09-01 00:00:00         14.6      11.5   0.0       0.0   \n",
      "4  2021-09-01 00:00:00         15.7      12.9   0.0       0.0   \n",
      "\n",
      "   surface_pressure  cloudcover_total  cloudcover_low  cloudcover_mid  \\\n",
      "0            1015.9                31              31               0   \n",
      "1            1010.7                33              37               0   \n",
      "2            1015.0                31              34               0   \n",
      "3            1017.3                 0               0               0   \n",
      "4            1014.0                22              25               0   \n",
      "\n",
      "   cloudcover_high  windspeed_10m  winddirection_10m  shortwave_radiation  \\\n",
      "0               11       7.083333                  8                  0.0   \n",
      "1                0       5.111111                359                  0.0   \n",
      "2                0       6.333333                355                  0.0   \n",
      "3                0       8.083333                297                358.0   \n",
      "4                0       8.416667                  5                  0.0   \n",
      "\n",
      "   direct_solar_radiation  diffuse_radiation  latitude  longitude  \\\n",
      "0                     0.0                0.0      57.6       21.7   \n",
      "1                     0.0                0.0      57.6       22.2   \n",
      "2                     0.0                0.0      57.6       22.7   \n",
      "3                   277.0               81.0      57.6       23.2   \n",
      "4                     0.0                0.0      57.6       23.7   \n",
      "\n",
      "   data_block_id  \n",
      "0            1.0  \n",
      "1            1.0  \n",
      "2            1.0  \n",
      "3            1.0  \n",
      "4            1.0  \n"
     ]
    }
   ],
   "source": [
    "historical_weather = pd.read_csv(data_dir + 'historical_weather.csv')\n",
    "print(historical_weather.info())\n",
    "print(historical_weather.head())"
   ]
  },
  {
   "cell_type": "code",
   "execution_count": 45,
   "metadata": {},
   "outputs": [
    {
     "name": "stdout",
     "output_type": "stream",
     "text": [
      "        temperature      dewpoint          rain      snowfall  \\\n",
      "count  1.710802e+06  1.710802e+06  1.710802e+06  1.710802e+06   \n",
      "mean   5.740968e+00  2.240312e+00  4.962012e-02  1.604896e-02   \n",
      "std    8.025647e+00  7.224357e+00  2.079113e-01  7.462936e-02   \n",
      "min   -2.370000e+01 -2.590000e+01  0.000000e+00  0.000000e+00   \n",
      "25%    0.000000e+00 -2.600000e+00  0.000000e+00  0.000000e+00   \n",
      "50%    5.100000e+00  1.700000e+00  0.000000e+00  0.000000e+00   \n",
      "75%    1.120000e+01  7.200000e+00  0.000000e+00  0.000000e+00   \n",
      "max    3.260000e+01  2.380000e+01  1.680000e+01  2.660000e+00   \n",
      "\n",
      "       surface_pressure  cloudcover_total  cloudcover_low  cloudcover_mid  \\\n",
      "count      1.710802e+06      1.710802e+06    1.710802e+06    1.710802e+06   \n",
      "mean       1.009282e+03      6.091270e+01    4.668593e+01    3.440698e+01   \n",
      "std        1.308891e+01      3.776905e+01    4.074760e+01    3.832769e+01   \n",
      "min        9.429000e+02      0.000000e+00    0.000000e+00    0.000000e+00   \n",
      "25%        1.001500e+03      2.500000e+01    3.000000e+00    0.000000e+00   \n",
      "50%        1.010400e+03      7.200000e+01    3.900000e+01    1.600000e+01   \n",
      "75%        1.018000e+03      1.000000e+02    9.400000e+01    7.200000e+01   \n",
      "max        1.049300e+03      1.000000e+02    1.000000e+02    1.000000e+02   \n",
      "\n",
      "       cloudcover_high  windspeed_10m  winddirection_10m  shortwave_radiation  \\\n",
      "count     1.710802e+06   1.710802e+06       1.710802e+06         1.710802e+06   \n",
      "mean      3.605141e+01   4.849871e+00       1.978694e+02         1.064905e+02   \n",
      "std       4.135852e+01   2.475450e+00       8.993798e+01         1.799449e+02   \n",
      "min       0.000000e+00   0.000000e+00       0.000000e+00         0.000000e+00   \n",
      "25%       0.000000e+00   3.000000e+00       1.390000e+02         0.000000e+00   \n",
      "50%       1.000000e+01   4.500000e+00       2.080000e+02         1.000000e+00   \n",
      "75%       8.500000e+01   6.277778e+00       2.630000e+02         1.400000e+02   \n",
      "max       1.000000e+02   2.175000e+01       3.600000e+02         8.490000e+02   \n",
      "\n",
      "       direct_solar_radiation  diffuse_radiation      latitude     longitude  \\\n",
      "count            1.710802e+06       1.710802e+06  1.710802e+06  1.710802e+06   \n",
      "mean             6.445292e+01       4.203759e+01  5.865000e+01  2.495000e+01   \n",
      "std              1.334100e+02       6.195225e+01  6.873871e-01  2.015564e+00   \n",
      "min              0.000000e+00       0.000000e+00  5.760000e+01  2.170000e+01   \n",
      "25%              0.000000e+00       0.000000e+00  5.790000e+01  2.320000e+01   \n",
      "50%              0.000000e+00       1.000000e+00  5.850000e+01  2.470000e+01   \n",
      "75%              4.700000e+01       7.400000e+01  5.910000e+01  2.670000e+01   \n",
      "max              7.540000e+02       3.880000e+02  5.970000e+01  2.820000e+01   \n",
      "\n",
      "       data_block_id  \n",
      "count   1.710802e+06  \n",
      "mean    3.192708e+02  \n",
      "std     1.837298e+02  \n",
      "min     1.000000e+00  \n",
      "25%     1.600000e+02  \n",
      "50%     3.190000e+02  \n",
      "75%     4.780000e+02  \n",
      "max     6.370000e+02  \n"
     ]
    }
   ],
   "source": [
    "print(historical_weather.describe())"
   ]
  },
  {
   "cell_type": "markdown",
   "metadata": {},
   "source": [
    "## Unir archivos .csv horizontalmente"
   ]
  },
  {
   "cell_type": "code",
   "execution_count": 4,
   "metadata": {},
   "outputs": [],
   "source": [
    "import pandas as pd"
   ]
  },
  {
   "cell_type": "code",
   "execution_count": 6,
   "metadata": {},
   "outputs": [],
   "source": []
  },
  {
   "cell_type": "code",
   "execution_count": 7,
   "metadata": {},
   "outputs": [
    {
     "name": "stdout",
     "output_type": "stream",
     "text": [
      "             county   is_business  product_type        target  is_consumption  \\\n",
      "count  2.018352e+06  2.018352e+06  2.018352e+06  2.017824e+06       2018352.0   \n",
      "mean   7.297034e+00  5.368261e-01  1.898927e+00  2.748556e+02             0.5   \n",
      "std    4.780990e+00  4.986421e-01  1.081766e+00  9.095024e+02             0.5   \n",
      "min    0.000000e+00  0.000000e+00  0.000000e+00  0.000000e+00             0.0   \n",
      "25%    3.000000e+00  0.000000e+00  1.000000e+00  3.780000e-01             0.0   \n",
      "50%    7.000000e+00  1.000000e+00  2.000000e+00  3.113300e+01             0.5   \n",
      "75%    1.100000e+01  1.000000e+00  3.000000e+00  1.802062e+02             1.0   \n",
      "max    1.500000e+01  1.000000e+00  3.000000e+00  1.548027e+04             1.0   \n",
      "\n",
      "       data_block_id        row_id  prediction_unit_id  \n",
      "count   2.018352e+06  2.018352e+06        2.018352e+06  \n",
      "mean    3.218746e+02  1.009176e+06        3.304538e+01  \n",
      "std     1.826343e+02  5.826482e+05        1.959059e+01  \n",
      "min     0.000000e+00  0.000000e+00        0.000000e+00  \n",
      "25%     1.660000e+02  5.045878e+05        1.600000e+01  \n",
      "50%     3.230000e+02  1.009176e+06        3.300000e+01  \n",
      "75%     4.790000e+02  1.513763e+06        5.000000e+01  \n",
      "max     6.370000e+02  2.018351e+06        6.800000e+01  \n"
     ]
    }
   ],
   "source": [
    "merged_df = train_df.merge(client_df, on=['county', 'is_business', 'product_type', 'data_block_id'], how='left')\n"
   ]
  },
  {
   "cell_type": "markdown",
   "metadata": {},
   "source": [
    "## Cálculo de correlaciones"
   ]
  },
  {
   "cell_type": "markdown",
   "metadata": {},
   "source": [
    "Vamos a calcular las correlaciones entre las variables relevantes, como la producción/consumo de energía y los precios de la electricidad o gas"
   ]
  },
  {
   "cell_type": "code",
   "execution_count": 41,
   "metadata": {},
   "outputs": [],
   "source": [
    "# Cargar datos de precios de electricidad y gas\n",
    "electricity_prices = pd.read_csv(data_dir + 'electricity_prices.csv')\n",
    "gas_prices = pd.read_csv(data_dir + 'gas_prices.csv')"
   ]
  },
  {
   "cell_type": "code",
   "execution_count": 42,
   "metadata": {},
   "outputs": [],
   "source": [
    "# Convertir forecast_date a tipo datetime si es necesario\n",
    "electricity_prices['forecast_date'] = pd.to_datetime(electricity_prices['forecast_date'])\n",
    "gas_prices['forecast_date'] = pd.to_datetime(gas_prices['forecast_date'])"
   ]
  },
  {
   "cell_type": "code",
   "execution_count": 43,
   "metadata": {},
   "outputs": [
    {
     "name": "stdout",
     "output_type": "stream",
     "text": [
      "Index(['county_prod', 'is_business_prod', 'product_type_prod', 'target_prod',\n",
      "       'is_consumption_prod', 'data_block_id_prod', 'row_id_prod',\n",
      "       'prediction_unit_id_prod', 'county_cons', 'is_business_cons',\n",
      "       'product_type_cons', 'target_cons', 'is_consumption_cons',\n",
      "       'data_block_id_cons', 'row_id_cons', 'prediction_unit_id_cons'],\n",
      "      dtype='object')\n"
     ]
    },
    {
     "ename": "KeyError",
     "evalue": "'datetime'",
     "output_type": "error",
     "traceback": [
      "\u001b[0;31m---------------------------------------------------------------------------\u001b[0m",
      "\u001b[0;31mKeyError\u001b[0m                                  Traceback (most recent call last)",
      "\u001b[0;32m/tmp/ipykernel_4733/2951036031.py\u001b[0m in \u001b[0;36m?\u001b[0;34m()\u001b[0m\n\u001b[1;32m     14\u001b[0m \u001b[0;31m# Realizar la fusión con electricity_prices\u001b[0m\u001b[0;34m\u001b[0m\u001b[0;34m\u001b[0m\u001b[0m\n\u001b[1;32m     15\u001b[0m \u001b[0mdaily_data\u001b[0m \u001b[0;34m=\u001b[0m \u001b[0mpd\u001b[0m\u001b[0;34m.\u001b[0m\u001b[0mmerge\u001b[0m\u001b[0;34m(\u001b[0m\u001b[0mdaily_data\u001b[0m\u001b[0;34m,\u001b[0m \u001b[0melectricity_prices\u001b[0m\u001b[0;34m[\u001b[0m\u001b[0;34m[\u001b[0m\u001b[0;34m'forecast_date'\u001b[0m\u001b[0;34m,\u001b[0m \u001b[0;34m'euros_per_mwh'\u001b[0m\u001b[0;34m]\u001b[0m\u001b[0;34m]\u001b[0m\u001b[0;34m,\u001b[0m \u001b[0mleft_on\u001b[0m\u001b[0;34m=\u001b[0m\u001b[0;34m'datetime'\u001b[0m\u001b[0;34m,\u001b[0m \u001b[0mright_on\u001b[0m\u001b[0;34m=\u001b[0m\u001b[0;34m'forecast_date'\u001b[0m\u001b[0;34m,\u001b[0m \u001b[0mhow\u001b[0m\u001b[0;34m=\u001b[0m\u001b[0;34m'left'\u001b[0m\u001b[0;34m)\u001b[0m\u001b[0;34m\u001b[0m\u001b[0;34m\u001b[0m\u001b[0m\n\u001b[1;32m     16\u001b[0m \u001b[0;34m\u001b[0m\u001b[0m\n\u001b[1;32m     17\u001b[0m \u001b[0;31m# Realizar la fusión con gas_prices\u001b[0m\u001b[0;34m\u001b[0m\u001b[0;34m\u001b[0m\u001b[0m\n\u001b[0;32m---> 18\u001b[0;31m \u001b[0mdaily_data\u001b[0m \u001b[0;34m=\u001b[0m \u001b[0mpd\u001b[0m\u001b[0;34m.\u001b[0m\u001b[0mmerge\u001b[0m\u001b[0;34m(\u001b[0m\u001b[0mdaily_data\u001b[0m\u001b[0;34m,\u001b[0m \u001b[0mgas_prices\u001b[0m\u001b[0;34m[\u001b[0m\u001b[0;34m[\u001b[0m\u001b[0;34m'forecast_date'\u001b[0m\u001b[0;34m,\u001b[0m \u001b[0;34m'lowest_price_per_mwh'\u001b[0m\u001b[0;34m,\u001b[0m \u001b[0;34m'highest_price_per_mwh'\u001b[0m\u001b[0;34m]\u001b[0m\u001b[0;34m]\u001b[0m\u001b[0;34m,\u001b[0m \u001b[0mleft_on\u001b[0m\u001b[0;34m=\u001b[0m\u001b[0;34m'datetime'\u001b[0m\u001b[0;34m,\u001b[0m \u001b[0mright_on\u001b[0m\u001b[0;34m=\u001b[0m\u001b[0;34m'forecast_date'\u001b[0m\u001b[0;34m,\u001b[0m \u001b[0mhow\u001b[0m\u001b[0;34m=\u001b[0m\u001b[0;34m'left'\u001b[0m\u001b[0;34m)\u001b[0m\u001b[0;34m\u001b[0m\u001b[0;34m\u001b[0m\u001b[0m\n\u001b[0m\u001b[1;32m     19\u001b[0m \u001b[0;34m\u001b[0m\u001b[0m\n\u001b[1;32m     20\u001b[0m \u001b[0;31m# Calcular matriz de correlación\u001b[0m\u001b[0;34m\u001b[0m\u001b[0;34m\u001b[0m\u001b[0m\n\u001b[1;32m     21\u001b[0m \u001b[0mcorrelation_matrix\u001b[0m \u001b[0;34m=\u001b[0m \u001b[0mdaily_data\u001b[0m\u001b[0;34m[\u001b[0m\u001b[0;34m[\u001b[0m\u001b[0;34m'target_prod'\u001b[0m\u001b[0;34m,\u001b[0m \u001b[0;34m'target_cons'\u001b[0m\u001b[0;34m,\u001b[0m \u001b[0;34m'euros_per_mwh'\u001b[0m\u001b[0;34m,\u001b[0m \u001b[0;34m'lowest_price_per_mwh'\u001b[0m\u001b[0;34m,\u001b[0m \u001b[0;34m'highest_price_per_mwh'\u001b[0m\u001b[0;34m]\u001b[0m\u001b[0;34m]\u001b[0m\u001b[0;34m.\u001b[0m\u001b[0mcorr\u001b[0m\u001b[0;34m(\u001b[0m\u001b[0;34m)\u001b[0m\u001b[0;34m\u001b[0m\u001b[0;34m\u001b[0m\u001b[0m\n",
      "\u001b[0;32m~/Projecto_Data_Science_Azure/azure-ml-projects/projects/azure-env/lib/python3.11/site-packages/pandas/core/reshape/merge.py\u001b[0m in \u001b[0;36m?\u001b[0;34m(left, right, how, on, left_on, right_on, left_index, right_index, sort, suffixes, copy, indicator, validate)\u001b[0m\n\u001b[1;32m    166\u001b[0m             \u001b[0mvalidate\u001b[0m\u001b[0;34m=\u001b[0m\u001b[0mvalidate\u001b[0m\u001b[0;34m,\u001b[0m\u001b[0;34m\u001b[0m\u001b[0;34m\u001b[0m\u001b[0m\n\u001b[1;32m    167\u001b[0m             \u001b[0mcopy\u001b[0m\u001b[0;34m=\u001b[0m\u001b[0mcopy\u001b[0m\u001b[0;34m,\u001b[0m\u001b[0;34m\u001b[0m\u001b[0;34m\u001b[0m\u001b[0m\n\u001b[1;32m    168\u001b[0m         )\n\u001b[1;32m    169\u001b[0m     \u001b[0;32melse\u001b[0m\u001b[0;34m:\u001b[0m\u001b[0;34m\u001b[0m\u001b[0;34m\u001b[0m\u001b[0m\n\u001b[0;32m--> 170\u001b[0;31m         op = _MergeOperation(\n\u001b[0m\u001b[1;32m    171\u001b[0m             \u001b[0mleft_df\u001b[0m\u001b[0;34m,\u001b[0m\u001b[0;34m\u001b[0m\u001b[0;34m\u001b[0m\u001b[0m\n\u001b[1;32m    172\u001b[0m             \u001b[0mright_df\u001b[0m\u001b[0;34m,\u001b[0m\u001b[0;34m\u001b[0m\u001b[0;34m\u001b[0m\u001b[0m\n\u001b[1;32m    173\u001b[0m             \u001b[0mhow\u001b[0m\u001b[0;34m=\u001b[0m\u001b[0mhow\u001b[0m\u001b[0;34m,\u001b[0m\u001b[0;34m\u001b[0m\u001b[0;34m\u001b[0m\u001b[0m\n",
      "\u001b[0;32m~/Projecto_Data_Science_Azure/azure-ml-projects/projects/azure-env/lib/python3.11/site-packages/pandas/core/reshape/merge.py\u001b[0m in \u001b[0;36m?\u001b[0;34m(self, left, right, how, on, left_on, right_on, left_index, right_index, sort, suffixes, indicator, validate)\u001b[0m\n\u001b[1;32m    790\u001b[0m             \u001b[0mself\u001b[0m\u001b[0;34m.\u001b[0m\u001b[0mright_join_keys\u001b[0m\u001b[0;34m,\u001b[0m\u001b[0;34m\u001b[0m\u001b[0;34m\u001b[0m\u001b[0m\n\u001b[1;32m    791\u001b[0m             \u001b[0mself\u001b[0m\u001b[0;34m.\u001b[0m\u001b[0mjoin_names\u001b[0m\u001b[0;34m,\u001b[0m\u001b[0;34m\u001b[0m\u001b[0;34m\u001b[0m\u001b[0m\n\u001b[1;32m    792\u001b[0m             \u001b[0mleft_drop\u001b[0m\u001b[0;34m,\u001b[0m\u001b[0;34m\u001b[0m\u001b[0;34m\u001b[0m\u001b[0m\n\u001b[1;32m    793\u001b[0m             \u001b[0mright_drop\u001b[0m\u001b[0;34m,\u001b[0m\u001b[0;34m\u001b[0m\u001b[0;34m\u001b[0m\u001b[0m\n\u001b[0;32m--> 794\u001b[0;31m         ) = self._get_merge_keys()\n\u001b[0m\u001b[1;32m    795\u001b[0m \u001b[0;34m\u001b[0m\u001b[0m\n\u001b[1;32m    796\u001b[0m         \u001b[0;32mif\u001b[0m \u001b[0mleft_drop\u001b[0m\u001b[0;34m:\u001b[0m\u001b[0;34m\u001b[0m\u001b[0;34m\u001b[0m\u001b[0m\n\u001b[1;32m    797\u001b[0m             \u001b[0mself\u001b[0m\u001b[0;34m.\u001b[0m\u001b[0mleft\u001b[0m \u001b[0;34m=\u001b[0m \u001b[0mself\u001b[0m\u001b[0;34m.\u001b[0m\u001b[0mleft\u001b[0m\u001b[0;34m.\u001b[0m\u001b[0m_drop_labels_or_levels\u001b[0m\u001b[0;34m(\u001b[0m\u001b[0mleft_drop\u001b[0m\u001b[0;34m)\u001b[0m\u001b[0;34m\u001b[0m\u001b[0;34m\u001b[0m\u001b[0m\n",
      "\u001b[0;32m~/Projecto_Data_Science_Azure/azure-ml-projects/projects/azure-env/lib/python3.11/site-packages/pandas/core/reshape/merge.py\u001b[0m in \u001b[0;36m?\u001b[0;34m(self)\u001b[0m\n\u001b[1;32m   1306\u001b[0m                     \u001b[0;32mif\u001b[0m \u001b[0mlk\u001b[0m \u001b[0;32mis\u001b[0m \u001b[0;32mnot\u001b[0m \u001b[0;32mNone\u001b[0m\u001b[0;34m:\u001b[0m\u001b[0;34m\u001b[0m\u001b[0;34m\u001b[0m\u001b[0m\n\u001b[1;32m   1307\u001b[0m                         \u001b[0;31m# Then we're either Hashable or a wrong-length arraylike,\u001b[0m\u001b[0;34m\u001b[0m\u001b[0;34m\u001b[0m\u001b[0m\n\u001b[1;32m   1308\u001b[0m                         \u001b[0;31m#  the latter of which will raise\u001b[0m\u001b[0;34m\u001b[0m\u001b[0;34m\u001b[0m\u001b[0m\n\u001b[1;32m   1309\u001b[0m                         \u001b[0mlk\u001b[0m \u001b[0;34m=\u001b[0m \u001b[0mcast\u001b[0m\u001b[0;34m(\u001b[0m\u001b[0mHashable\u001b[0m\u001b[0;34m,\u001b[0m \u001b[0mlk\u001b[0m\u001b[0;34m)\u001b[0m\u001b[0;34m\u001b[0m\u001b[0;34m\u001b[0m\u001b[0m\n\u001b[0;32m-> 1310\u001b[0;31m                         \u001b[0mleft_keys\u001b[0m\u001b[0;34m.\u001b[0m\u001b[0mappend\u001b[0m\u001b[0;34m(\u001b[0m\u001b[0mleft\u001b[0m\u001b[0;34m.\u001b[0m\u001b[0m_get_label_or_level_values\u001b[0m\u001b[0;34m(\u001b[0m\u001b[0mlk\u001b[0m\u001b[0;34m)\u001b[0m\u001b[0;34m)\u001b[0m\u001b[0;34m\u001b[0m\u001b[0;34m\u001b[0m\u001b[0m\n\u001b[0m\u001b[1;32m   1311\u001b[0m                         \u001b[0mjoin_names\u001b[0m\u001b[0;34m.\u001b[0m\u001b[0mappend\u001b[0m\u001b[0;34m(\u001b[0m\u001b[0mlk\u001b[0m\u001b[0;34m)\u001b[0m\u001b[0;34m\u001b[0m\u001b[0;34m\u001b[0m\u001b[0m\n\u001b[1;32m   1312\u001b[0m                     \u001b[0;32melse\u001b[0m\u001b[0;34m:\u001b[0m\u001b[0;34m\u001b[0m\u001b[0;34m\u001b[0m\u001b[0m\n\u001b[1;32m   1313\u001b[0m                         \u001b[0;31m# work-around for merge_asof(left_index=True)\u001b[0m\u001b[0;34m\u001b[0m\u001b[0;34m\u001b[0m\u001b[0m\n",
      "\u001b[0;32m~/Projecto_Data_Science_Azure/azure-ml-projects/projects/azure-env/lib/python3.11/site-packages/pandas/core/generic.py\u001b[0m in \u001b[0;36m?\u001b[0;34m(self, key, axis)\u001b[0m\n\u001b[1;32m   1907\u001b[0m             \u001b[0mvalues\u001b[0m \u001b[0;34m=\u001b[0m \u001b[0mself\u001b[0m\u001b[0;34m.\u001b[0m\u001b[0mxs\u001b[0m\u001b[0;34m(\u001b[0m\u001b[0mkey\u001b[0m\u001b[0;34m,\u001b[0m \u001b[0maxis\u001b[0m\u001b[0;34m=\u001b[0m\u001b[0mother_axes\u001b[0m\u001b[0;34m[\u001b[0m\u001b[0;36m0\u001b[0m\u001b[0;34m]\u001b[0m\u001b[0;34m)\u001b[0m\u001b[0;34m.\u001b[0m\u001b[0m_values\u001b[0m\u001b[0;34m\u001b[0m\u001b[0;34m\u001b[0m\u001b[0m\n\u001b[1;32m   1908\u001b[0m         \u001b[0;32melif\u001b[0m \u001b[0mself\u001b[0m\u001b[0;34m.\u001b[0m\u001b[0m_is_level_reference\u001b[0m\u001b[0;34m(\u001b[0m\u001b[0mkey\u001b[0m\u001b[0;34m,\u001b[0m \u001b[0maxis\u001b[0m\u001b[0;34m=\u001b[0m\u001b[0maxis\u001b[0m\u001b[0;34m)\u001b[0m\u001b[0;34m:\u001b[0m\u001b[0;34m\u001b[0m\u001b[0;34m\u001b[0m\u001b[0m\n\u001b[1;32m   1909\u001b[0m             \u001b[0mvalues\u001b[0m \u001b[0;34m=\u001b[0m \u001b[0mself\u001b[0m\u001b[0;34m.\u001b[0m\u001b[0maxes\u001b[0m\u001b[0;34m[\u001b[0m\u001b[0maxis\u001b[0m\u001b[0;34m]\u001b[0m\u001b[0;34m.\u001b[0m\u001b[0mget_level_values\u001b[0m\u001b[0;34m(\u001b[0m\u001b[0mkey\u001b[0m\u001b[0;34m)\u001b[0m\u001b[0;34m.\u001b[0m\u001b[0m_values\u001b[0m\u001b[0;34m\u001b[0m\u001b[0;34m\u001b[0m\u001b[0m\n\u001b[1;32m   1910\u001b[0m         \u001b[0;32melse\u001b[0m\u001b[0;34m:\u001b[0m\u001b[0;34m\u001b[0m\u001b[0;34m\u001b[0m\u001b[0m\n\u001b[0;32m-> 1911\u001b[0;31m             \u001b[0;32mraise\u001b[0m \u001b[0mKeyError\u001b[0m\u001b[0;34m(\u001b[0m\u001b[0mkey\u001b[0m\u001b[0;34m)\u001b[0m\u001b[0;34m\u001b[0m\u001b[0;34m\u001b[0m\u001b[0m\n\u001b[0m\u001b[1;32m   1912\u001b[0m \u001b[0;34m\u001b[0m\u001b[0m\n\u001b[1;32m   1913\u001b[0m         \u001b[0;31m# Check for duplicates\u001b[0m\u001b[0;34m\u001b[0m\u001b[0;34m\u001b[0m\u001b[0m\n\u001b[1;32m   1914\u001b[0m         \u001b[0;32mif\u001b[0m \u001b[0mvalues\u001b[0m\u001b[0;34m.\u001b[0m\u001b[0mndim\u001b[0m \u001b[0;34m>\u001b[0m \u001b[0;36m1\u001b[0m\u001b[0;34m:\u001b[0m\u001b[0;34m\u001b[0m\u001b[0;34m\u001b[0m\u001b[0m\n",
      "\u001b[0;31mKeyError\u001b[0m: 'datetime'"
     ]
    }
   ],
   "source": [
    "# Convertir forecast_date a tipo datetime si es necesario\n",
    "electricity_prices['forecast_date'] = pd.to_datetime(electricity_prices['forecast_date'])\n",
    "gas_prices['forecast_date'] = pd.to_datetime(gas_prices['forecast_date'])\n",
    "\n",
    "# Convertir forecast_date a tipo datetime si es necesario\n",
    "electricity_prices['forecast_date'] = pd.to_datetime(electricity_prices['forecast_date'])\n",
    "\n",
    "# Unir datos de producción y consumo con los precios correspondientes\n",
    "daily_data = pd.merge(dailyProd, dailyCons, on='datetime', suffixes=('_prod', '_cons'))\n",
    "\n",
    "# Verifica las columnas disponibles en daily_data después de la primera fusión\n",
    "print(daily_data.columns)\n",
    "\n",
    "# Realizar la fusión con electricity_prices\n",
    "daily_data = pd.merge(daily_data, electricity_prices[['forecast_date', 'euros_per_mwh']], left_on='datetime', right_on='forecast_date', how='left')\n",
    "\n",
    "# Realizar la fusión con gas_prices\n",
    "daily_data = pd.merge(daily_data, gas_prices[['forecast_date', 'lowest_price_per_mwh', 'highest_price_per_mwh']], left_on='datetime', right_on='forecast_date', how='left')\n",
    "\n",
    "# Calcular matriz de correlación\n",
    "correlation_matrix = daily_data[['target_prod', 'target_cons', 'euros_per_mwh', 'lowest_price_per_mwh', 'highest_price_per_mwh']].corr()\n",
    "\n",
    "# Mostrar matriz de correlación\n",
    "print(\"Matriz de Correlación:\")\n",
    "print(correlation_matrix)"
   ]
  },
  {
   "cell_type": "code",
   "execution_count": null,
   "metadata": {},
   "outputs": [],
   "source": []
  }
 ],
 "metadata": {
  "kernelspec": {
   "display_name": "Python 3",
   "language": "python",
   "name": "python3"
  },
  "language_info": {
   "codemirror_mode": {
    "name": "ipython",
    "version": 3
   },
   "file_extension": ".py",
   "mimetype": "text/x-python",
   "name": "python",
   "nbconvert_exporter": "python",
   "pygments_lexer": "ipython3",
   "version": "3.11.9"
  }
 },
 "nbformat": 4,
 "nbformat_minor": 2
}
